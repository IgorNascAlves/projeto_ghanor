{
  "cells": [
    {
      "cell_type": "code",
      "execution_count": 1,
      "metadata": {},
      "outputs": [
        {
          "name": "stdout",
          "output_type": "stream",
          "text": [
            "README.md  notebooks  requirements.txt\n"
          ]
        }
      ],
      "source": [
        "!dir .."
      ]
    },
    {
      "cell_type": "code",
      "execution_count": 2,
      "metadata": {
        "id": "D2QytdhsA64l"
      },
      "outputs": [],
      "source": [
        "import os\n",
        "import json\n",
        "\n",
        "# Create an empty list to store the dictionaries\n",
        "json_data_list = []\n",
        "\n",
        "# Directory where your JSON files are located\n",
        "json_files_directory = '../../DataEng/datalake/bronze'\n",
        "\n",
        "# Loop through each JSON file in the directory\n",
        "for filename in os.listdir(json_files_directory):\n",
        "    if filename.startswith('data_') and filename.endswith('.json'):\n",
        "        # Construct the full path to the JSON file\n",
        "        file_path = os.path.join(json_files_directory, filename)\n",
        "\n",
        "        # Open and read the JSON file\n",
        "        with open(file_path, 'r') as json_file:\n",
        "            # Load the JSON data into a dictionary\n",
        "            json_data = json.load(json_file)\n",
        "\n",
        "            # Create a new dictionary to hold both the file name and JSON data\n",
        "            json_with_filename = {\n",
        "                'filename': filename,  # Save the file name\n",
        "                'data': json_data     # Save the JSON data\n",
        "            }\n",
        "\n",
        "            # Append the dictionary to the list\n",
        "            json_data_list.append(json_with_filename)\n",
        "\n",
        "# Now, json_data_list contains a list of dictionaries, where each dictionary has a 'filename' key\n",
        "# with the name of the JSON file and a 'data' key with the JSON data from that file for files starting with 'data_'.\n"
      ]
    },
    {
      "cell_type": "code",
      "execution_count": 3,
      "metadata": {
        "colab": {
          "base_uri": "https://localhost:8080/"
        },
        "id": "UMBKYHNOA8c-",
        "outputId": "63700529-d4c6-4295-f496-b75efb3e3348"
      },
      "outputs": [
        {
          "data": {
            "text/plain": [
              "{'filename': 'data_20231029161604.json',\n",
              " 'data': {'targetAmount': 500000.0,\n",
              "  'raisedAmount': 6355733.0,\n",
              "  'supporters': 6042,\n",
              "  'targetDate': '2023-11-10'}}"
            ]
          },
          "execution_count": 3,
          "metadata": {},
          "output_type": "execute_result"
        }
      ],
      "source": [
        "json_data_list[0]"
      ]
    },
    {
      "cell_type": "code",
      "execution_count": 4,
      "metadata": {
        "colab": {
          "base_uri": "https://localhost:8080/",
          "height": 424
        },
        "id": "Gh9QItpOA99D",
        "outputId": "dd895ebf-7038-44a4-e8fb-f63d95684ec0"
      },
      "outputs": [
        {
          "data": {
            "text/html": [
              "<div>\n",
              "<style scoped>\n",
              "    .dataframe tbody tr th:only-of-type {\n",
              "        vertical-align: middle;\n",
              "    }\n",
              "\n",
              "    .dataframe tbody tr th {\n",
              "        vertical-align: top;\n",
              "    }\n",
              "\n",
              "    .dataframe thead th {\n",
              "        text-align: right;\n",
              "    }\n",
              "</style>\n",
              "<table border=\"1\" class=\"dataframe\">\n",
              "  <thead>\n",
              "    <tr style=\"text-align: right;\">\n",
              "      <th></th>\n",
              "      <th>filename</th>\n",
              "      <th>targetAmount</th>\n",
              "      <th>raisedAmount</th>\n",
              "      <th>supporters</th>\n",
              "      <th>targetDate</th>\n",
              "    </tr>\n",
              "  </thead>\n",
              "  <tbody>\n",
              "    <tr>\n",
              "      <th>0</th>\n",
              "      <td>data_20231029161604.json</td>\n",
              "      <td>500000.0</td>\n",
              "      <td>6355733.0</td>\n",
              "      <td>6042</td>\n",
              "      <td>2023-11-10</td>\n",
              "    </tr>\n",
              "    <tr>\n",
              "      <th>1</th>\n",
              "      <td>data_20231028124904.json</td>\n",
              "      <td>500000.0</td>\n",
              "      <td>6231360.0</td>\n",
              "      <td>5908</td>\n",
              "      <td>2023-11-10</td>\n",
              "    </tr>\n",
              "    <tr>\n",
              "      <th>2</th>\n",
              "      <td>data_20231028115004.json</td>\n",
              "      <td>500000.0</td>\n",
              "      <td>6226854.0</td>\n",
              "      <td>5900</td>\n",
              "      <td>2023-11-10</td>\n",
              "    </tr>\n",
              "    <tr>\n",
              "      <th>3</th>\n",
              "      <td>data_20231107174004.json</td>\n",
              "      <td>500000.0</td>\n",
              "      <td>7259309.0</td>\n",
              "      <td>6920</td>\n",
              "      <td>2023-11-10</td>\n",
              "    </tr>\n",
              "    <tr>\n",
              "      <th>4</th>\n",
              "      <td>data_20231026162607.json</td>\n",
              "      <td>500000.0</td>\n",
              "      <td>6101349.0</td>\n",
              "      <td>5757</td>\n",
              "      <td>2023-11-10</td>\n",
              "    </tr>\n",
              "    <tr>\n",
              "      <th>...</th>\n",
              "      <td>...</td>\n",
              "      <td>...</td>\n",
              "      <td>...</td>\n",
              "      <td>...</td>\n",
              "      <td>...</td>\n",
              "    </tr>\n",
              "    <tr>\n",
              "      <th>28412</th>\n",
              "      <td>data_20231101191004.json</td>\n",
              "      <td>500000.0</td>\n",
              "      <td>6692662.0</td>\n",
              "      <td>6306</td>\n",
              "      <td>2023-11-10</td>\n",
              "    </tr>\n",
              "    <tr>\n",
              "      <th>28413</th>\n",
              "      <td>data_20231023131204.json</td>\n",
              "      <td>500000.0</td>\n",
              "      <td>5926796.0</td>\n",
              "      <td>5600</td>\n",
              "      <td>2023-11-10</td>\n",
              "    </tr>\n",
              "    <tr>\n",
              "      <th>28414</th>\n",
              "      <td>data_20231014190004.json</td>\n",
              "      <td>500000.0</td>\n",
              "      <td>5657079.0</td>\n",
              "      <td>5304</td>\n",
              "      <td>2023-11-10</td>\n",
              "    </tr>\n",
              "    <tr>\n",
              "      <th>28415</th>\n",
              "      <td>data_20231020220404.json</td>\n",
              "      <td>500000.0</td>\n",
              "      <td>5870311.0</td>\n",
              "      <td>5540</td>\n",
              "      <td>2023-11-10</td>\n",
              "    </tr>\n",
              "    <tr>\n",
              "      <th>28416</th>\n",
              "      <td>data_20231020150304.json</td>\n",
              "      <td>500000.0</td>\n",
              "      <td>5856278.0</td>\n",
              "      <td>5526</td>\n",
              "      <td>2023-11-10</td>\n",
              "    </tr>\n",
              "  </tbody>\n",
              "</table>\n",
              "<p>28417 rows × 5 columns</p>\n",
              "</div>"
            ],
            "text/plain": [
              "                       filename  targetAmount  raisedAmount  supporters  \\\n",
              "0      data_20231029161604.json      500000.0     6355733.0        6042   \n",
              "1      data_20231028124904.json      500000.0     6231360.0        5908   \n",
              "2      data_20231028115004.json      500000.0     6226854.0        5900   \n",
              "3      data_20231107174004.json      500000.0     7259309.0        6920   \n",
              "4      data_20231026162607.json      500000.0     6101349.0        5757   \n",
              "...                         ...           ...           ...         ...   \n",
              "28412  data_20231101191004.json      500000.0     6692662.0        6306   \n",
              "28413  data_20231023131204.json      500000.0     5926796.0        5600   \n",
              "28414  data_20231014190004.json      500000.0     5657079.0        5304   \n",
              "28415  data_20231020220404.json      500000.0     5870311.0        5540   \n",
              "28416  data_20231020150304.json      500000.0     5856278.0        5526   \n",
              "\n",
              "       targetDate  \n",
              "0      2023-11-10  \n",
              "1      2023-11-10  \n",
              "2      2023-11-10  \n",
              "3      2023-11-10  \n",
              "4      2023-11-10  \n",
              "...           ...  \n",
              "28412  2023-11-10  \n",
              "28413  2023-11-10  \n",
              "28414  2023-11-10  \n",
              "28415  2023-11-10  \n",
              "28416  2023-11-10  \n",
              "\n",
              "[28417 rows x 5 columns]"
            ]
          },
          "execution_count": 4,
          "metadata": {},
          "output_type": "execute_result"
        }
      ],
      "source": [
        "import pandas as pd\n",
        "\n",
        "\n",
        "# Create a DataFrame\n",
        "df = pd.DataFrame(json_data_list)\n",
        "\n",
        "# If you want to flatten the 'data' dictionary into separate columns:\n",
        "df = pd.concat([df.drop(['data'], axis=1), df['data'].apply(pd.Series)], axis=1)\n",
        "\n",
        "# Now, df contains your data in a Pandas DataFrame format\n",
        "df\n"
      ]
    },
    {
      "cell_type": "code",
      "execution_count": 5,
      "metadata": {
        "colab": {
          "base_uri": "https://localhost:8080/",
          "height": 206
        },
        "id": "9kq83OtnBNF1",
        "outputId": "3901fe54-1ca1-4ea2-a8e1-7ca21763b11b"
      },
      "outputs": [
        {
          "data": {
            "text/html": [
              "<div>\n",
              "<style scoped>\n",
              "    .dataframe tbody tr th:only-of-type {\n",
              "        vertical-align: middle;\n",
              "    }\n",
              "\n",
              "    .dataframe tbody tr th {\n",
              "        vertical-align: top;\n",
              "    }\n",
              "\n",
              "    .dataframe thead th {\n",
              "        text-align: right;\n",
              "    }\n",
              "</style>\n",
              "<table border=\"1\" class=\"dataframe\">\n",
              "  <thead>\n",
              "    <tr style=\"text-align: right;\">\n",
              "      <th></th>\n",
              "      <th>targetAmount</th>\n",
              "      <th>raisedAmount</th>\n",
              "      <th>supporters</th>\n",
              "      <th>targetDate</th>\n",
              "      <th>timestamp</th>\n",
              "    </tr>\n",
              "  </thead>\n",
              "  <tbody>\n",
              "    <tr>\n",
              "      <th>0</th>\n",
              "      <td>500000.0</td>\n",
              "      <td>6355733.0</td>\n",
              "      <td>6042</td>\n",
              "      <td>2023-11-10</td>\n",
              "      <td>2023-10-29 16:16:04</td>\n",
              "    </tr>\n",
              "    <tr>\n",
              "      <th>1</th>\n",
              "      <td>500000.0</td>\n",
              "      <td>6231360.0</td>\n",
              "      <td>5908</td>\n",
              "      <td>2023-11-10</td>\n",
              "      <td>2023-10-28 12:49:04</td>\n",
              "    </tr>\n",
              "    <tr>\n",
              "      <th>2</th>\n",
              "      <td>500000.0</td>\n",
              "      <td>6226854.0</td>\n",
              "      <td>5900</td>\n",
              "      <td>2023-11-10</td>\n",
              "      <td>2023-10-28 11:50:04</td>\n",
              "    </tr>\n",
              "    <tr>\n",
              "      <th>3</th>\n",
              "      <td>500000.0</td>\n",
              "      <td>7259309.0</td>\n",
              "      <td>6920</td>\n",
              "      <td>2023-11-10</td>\n",
              "      <td>2023-11-07 17:40:04</td>\n",
              "    </tr>\n",
              "    <tr>\n",
              "      <th>4</th>\n",
              "      <td>500000.0</td>\n",
              "      <td>6101349.0</td>\n",
              "      <td>5757</td>\n",
              "      <td>2023-11-10</td>\n",
              "      <td>2023-10-26 16:26:07</td>\n",
              "    </tr>\n",
              "  </tbody>\n",
              "</table>\n",
              "</div>"
            ],
            "text/plain": [
              "   targetAmount  raisedAmount  supporters  targetDate           timestamp\n",
              "0      500000.0     6355733.0        6042  2023-11-10 2023-10-29 16:16:04\n",
              "1      500000.0     6231360.0        5908  2023-11-10 2023-10-28 12:49:04\n",
              "2      500000.0     6226854.0        5900  2023-11-10 2023-10-28 11:50:04\n",
              "3      500000.0     7259309.0        6920  2023-11-10 2023-11-07 17:40:04\n",
              "4      500000.0     6101349.0        5757  2023-11-10 2023-10-26 16:26:07"
            ]
          },
          "execution_count": 5,
          "metadata": {},
          "output_type": "execute_result"
        }
      ],
      "source": [
        "# Extract and transform the 'filename' column into a timestamp column\n",
        "df['timestamp'] = pd.to_datetime(df['filename'].str.extract(r'data_(\\d{14})\\.json')[0], format='%Y%m%d%H%M%S')\n",
        "\n",
        "# Drop the 'filename' column if no longer needed\n",
        "df = df.drop('filename', axis=1)\n",
        "\n",
        "# Now, df contains a 'timestamp' column extracted from the 'filename'\n",
        "df.head()\n"
      ]
    },
    {
      "cell_type": "code",
      "execution_count": 6,
      "metadata": {},
      "outputs": [],
      "source": [
        "#save df to csv on the silver layer name ghanor\n",
        "df.drop(columns=['targetAmount', 'targetDate']).to_csv('../../DataEng/datalake/silver/ghanor.csv', index=False)"
      ]
    },
    {
      "cell_type": "code",
      "execution_count": 7,
      "metadata": {
        "id": "SMc7_kt1DakR"
      },
      "outputs": [],
      "source": [
        "df.drop(columns=[\"targetAmount\", \"targetDate\"], inplace=True)"
      ]
    },
    {
      "cell_type": "code",
      "execution_count": 8,
      "metadata": {
        "colab": {
          "base_uri": "https://localhost:8080/",
          "height": 363
        },
        "id": "dbMw_dyiDUA8",
        "outputId": "ddf42d19-9391-4474-9f87-a750b83aca7a"
      },
      "outputs": [
        {
          "data": {
            "text/html": [
              "<div>\n",
              "<style scoped>\n",
              "    .dataframe tbody tr th:only-of-type {\n",
              "        vertical-align: middle;\n",
              "    }\n",
              "\n",
              "    .dataframe tbody tr th {\n",
              "        vertical-align: top;\n",
              "    }\n",
              "\n",
              "    .dataframe thead th {\n",
              "        text-align: right;\n",
              "    }\n",
              "</style>\n",
              "<table border=\"1\" class=\"dataframe\">\n",
              "  <thead>\n",
              "    <tr style=\"text-align: right;\">\n",
              "      <th></th>\n",
              "      <th>raisedAmount</th>\n",
              "      <th>supporters</th>\n",
              "      <th>timestamp</th>\n",
              "    </tr>\n",
              "  </thead>\n",
              "  <tbody>\n",
              "    <tr>\n",
              "      <th>0</th>\n",
              "      <td>6355733.0</td>\n",
              "      <td>6042</td>\n",
              "      <td>2023-10-29 16:16:04</td>\n",
              "    </tr>\n",
              "    <tr>\n",
              "      <th>1</th>\n",
              "      <td>6231360.0</td>\n",
              "      <td>5908</td>\n",
              "      <td>2023-10-28 12:49:04</td>\n",
              "    </tr>\n",
              "    <tr>\n",
              "      <th>2</th>\n",
              "      <td>6226854.0</td>\n",
              "      <td>5900</td>\n",
              "      <td>2023-10-28 11:50:04</td>\n",
              "    </tr>\n",
              "    <tr>\n",
              "      <th>3</th>\n",
              "      <td>7259309.0</td>\n",
              "      <td>6920</td>\n",
              "      <td>2023-11-07 17:40:04</td>\n",
              "    </tr>\n",
              "    <tr>\n",
              "      <th>4</th>\n",
              "      <td>6101349.0</td>\n",
              "      <td>5757</td>\n",
              "      <td>2023-10-26 16:26:07</td>\n",
              "    </tr>\n",
              "    <tr>\n",
              "      <th>5</th>\n",
              "      <td>7020852.0</td>\n",
              "      <td>6617</td>\n",
              "      <td>2023-11-05 19:45:05</td>\n",
              "    </tr>\n",
              "    <tr>\n",
              "      <th>6</th>\n",
              "      <td>7482273.0</td>\n",
              "      <td>7074</td>\n",
              "      <td>2023-11-08 08:47:05</td>\n",
              "    </tr>\n",
              "    <tr>\n",
              "      <th>7</th>\n",
              "      <td>6196224.0</td>\n",
              "      <td>5868</td>\n",
              "      <td>2023-10-27 22:36:04</td>\n",
              "    </tr>\n",
              "    <tr>\n",
              "      <th>8</th>\n",
              "      <td>5148832.0</td>\n",
              "      <td>5032</td>\n",
              "      <td>2023-10-10 08:24:03</td>\n",
              "    </tr>\n",
              "    <tr>\n",
              "      <th>9</th>\n",
              "      <td>5872819.0</td>\n",
              "      <td>5543</td>\n",
              "      <td>2023-10-21 00:07:03</td>\n",
              "    </tr>\n",
              "  </tbody>\n",
              "</table>\n",
              "</div>"
            ],
            "text/plain": [
              "   raisedAmount  supporters           timestamp\n",
              "0     6355733.0        6042 2023-10-29 16:16:04\n",
              "1     6231360.0        5908 2023-10-28 12:49:04\n",
              "2     6226854.0        5900 2023-10-28 11:50:04\n",
              "3     7259309.0        6920 2023-11-07 17:40:04\n",
              "4     6101349.0        5757 2023-10-26 16:26:07\n",
              "5     7020852.0        6617 2023-11-05 19:45:05\n",
              "6     7482273.0        7074 2023-11-08 08:47:05\n",
              "7     6196224.0        5868 2023-10-27 22:36:04\n",
              "8     5148832.0        5032 2023-10-10 08:24:03\n",
              "9     5872819.0        5543 2023-10-21 00:07:03"
            ]
          },
          "execution_count": 8,
          "metadata": {},
          "output_type": "execute_result"
        }
      ],
      "source": [
        "df.head(10)"
      ]
    },
    {
      "cell_type": "code",
      "execution_count": 9,
      "metadata": {
        "id": "Z8yWQByNDN0j"
      },
      "outputs": [],
      "source": [
        "df.sort_values(by='raisedAmount', ascending=False, inplace=True)"
      ]
    },
    {
      "cell_type": "code",
      "execution_count": 10,
      "metadata": {
        "colab": {
          "base_uri": "https://localhost:8080/",
          "height": 363
        },
        "id": "TfJUlzM7EI86",
        "outputId": "0a4ce28f-c288-4ae3-f2e8-b07d0927cb04"
      },
      "outputs": [
        {
          "data": {
            "text/html": [
              "<div>\n",
              "<style scoped>\n",
              "    .dataframe tbody tr th:only-of-type {\n",
              "        vertical-align: middle;\n",
              "    }\n",
              "\n",
              "    .dataframe tbody tr th {\n",
              "        vertical-align: top;\n",
              "    }\n",
              "\n",
              "    .dataframe thead th {\n",
              "        text-align: right;\n",
              "    }\n",
              "</style>\n",
              "<table border=\"1\" class=\"dataframe\">\n",
              "  <thead>\n",
              "    <tr style=\"text-align: right;\">\n",
              "      <th></th>\n",
              "      <th>raisedAmount</th>\n",
              "      <th>supporters</th>\n",
              "      <th>timestamp</th>\n",
              "    </tr>\n",
              "  </thead>\n",
              "  <tbody>\n",
              "    <tr>\n",
              "      <th>18722</th>\n",
              "      <td>7709361.0</td>\n",
              "      <td>7301</td>\n",
              "      <td>2023-11-09 08:39:08</td>\n",
              "    </tr>\n",
              "    <tr>\n",
              "      <th>3963</th>\n",
              "      <td>7709361.0</td>\n",
              "      <td>7301</td>\n",
              "      <td>2023-11-09 08:40:05</td>\n",
              "    </tr>\n",
              "    <tr>\n",
              "      <th>9323</th>\n",
              "      <td>7709361.0</td>\n",
              "      <td>7301</td>\n",
              "      <td>2023-11-09 08:39:06</td>\n",
              "    </tr>\n",
              "    <tr>\n",
              "      <th>15007</th>\n",
              "      <td>7669875.0</td>\n",
              "      <td>7252</td>\n",
              "      <td>2023-11-08 22:26:05</td>\n",
              "    </tr>\n",
              "    <tr>\n",
              "      <th>7007</th>\n",
              "      <td>7669875.0</td>\n",
              "      <td>7252</td>\n",
              "      <td>2023-11-08 22:27:05</td>\n",
              "    </tr>\n",
              "    <tr>\n",
              "      <th>11217</th>\n",
              "      <td>7669875.0</td>\n",
              "      <td>7252</td>\n",
              "      <td>2023-11-08 22:28:05</td>\n",
              "    </tr>\n",
              "    <tr>\n",
              "      <th>9666</th>\n",
              "      <td>7669417.0</td>\n",
              "      <td>7252</td>\n",
              "      <td>2023-11-08 22:24:06</td>\n",
              "    </tr>\n",
              "    <tr>\n",
              "      <th>19184</th>\n",
              "      <td>7669417.0</td>\n",
              "      <td>7252</td>\n",
              "      <td>2023-11-08 22:25:06</td>\n",
              "    </tr>\n",
              "    <tr>\n",
              "      <th>10902</th>\n",
              "      <td>7668996.0</td>\n",
              "      <td>7251</td>\n",
              "      <td>2023-11-08 22:23:05</td>\n",
              "    </tr>\n",
              "    <tr>\n",
              "      <th>25916</th>\n",
              "      <td>7668773.0</td>\n",
              "      <td>7251</td>\n",
              "      <td>2023-11-08 22:22:05</td>\n",
              "    </tr>\n",
              "  </tbody>\n",
              "</table>\n",
              "</div>"
            ],
            "text/plain": [
              "       raisedAmount  supporters           timestamp\n",
              "18722     7709361.0        7301 2023-11-09 08:39:08\n",
              "3963      7709361.0        7301 2023-11-09 08:40:05\n",
              "9323      7709361.0        7301 2023-11-09 08:39:06\n",
              "15007     7669875.0        7252 2023-11-08 22:26:05\n",
              "7007      7669875.0        7252 2023-11-08 22:27:05\n",
              "11217     7669875.0        7252 2023-11-08 22:28:05\n",
              "9666      7669417.0        7252 2023-11-08 22:24:06\n",
              "19184     7669417.0        7252 2023-11-08 22:25:06\n",
              "10902     7668996.0        7251 2023-11-08 22:23:05\n",
              "25916     7668773.0        7251 2023-11-08 22:22:05"
            ]
          },
          "execution_count": 10,
          "metadata": {},
          "output_type": "execute_result"
        }
      ],
      "source": [
        "df.head(10)"
      ]
    },
    {
      "cell_type": "code",
      "execution_count": 11,
      "metadata": {},
      "outputs": [
        {
          "data": {
            "text/plain": [
              "7709361.0"
            ]
          },
          "execution_count": 11,
          "metadata": {},
          "output_type": "execute_result"
        }
      ],
      "source": [
        "df['raisedAmount'].max()"
      ]
    },
    {
      "cell_type": "markdown",
      "metadata": {},
      "source": [
        "# trasnformação campanha atual"
      ]
    },
    {
      "cell_type": "code",
      "execution_count": 12,
      "metadata": {},
      "outputs": [
        {
          "data": {
            "text/html": [
              "<div>\n",
              "<style scoped>\n",
              "    .dataframe tbody tr th:only-of-type {\n",
              "        vertical-align: middle;\n",
              "    }\n",
              "\n",
              "    .dataframe tbody tr th {\n",
              "        vertical-align: top;\n",
              "    }\n",
              "\n",
              "    .dataframe thead th {\n",
              "        text-align: right;\n",
              "    }\n",
              "</style>\n",
              "<table border=\"1\" class=\"dataframe\">\n",
              "  <thead>\n",
              "    <tr style=\"text-align: right;\">\n",
              "      <th></th>\n",
              "      <th>date</th>\n",
              "      <th>raisedAmount</th>\n",
              "    </tr>\n",
              "  </thead>\n",
              "  <tbody>\n",
              "    <tr>\n",
              "      <th>0</th>\n",
              "      <td>2023-10-06</td>\n",
              "      <td>3000000.0</td>\n",
              "    </tr>\n",
              "    <tr>\n",
              "      <th>1</th>\n",
              "      <td>2023-10-07</td>\n",
              "      <td>3880107.0</td>\n",
              "    </tr>\n",
              "    <tr>\n",
              "      <th>2</th>\n",
              "      <td>2023-10-08</td>\n",
              "      <td>5028131.0</td>\n",
              "    </tr>\n",
              "    <tr>\n",
              "      <th>3</th>\n",
              "      <td>2023-10-09</td>\n",
              "      <td>5139841.0</td>\n",
              "    </tr>\n",
              "    <tr>\n",
              "      <th>4</th>\n",
              "      <td>2023-10-10</td>\n",
              "      <td>5450447.0</td>\n",
              "    </tr>\n",
              "    <tr>\n",
              "      <th>5</th>\n",
              "      <td>2023-10-11</td>\n",
              "      <td>5510656.0</td>\n",
              "    </tr>\n",
              "    <tr>\n",
              "      <th>6</th>\n",
              "      <td>2023-10-12</td>\n",
              "      <td>5584927.0</td>\n",
              "    </tr>\n",
              "    <tr>\n",
              "      <th>7</th>\n",
              "      <td>2023-10-13</td>\n",
              "      <td>5624933.0</td>\n",
              "    </tr>\n",
              "    <tr>\n",
              "      <th>8</th>\n",
              "      <td>2023-10-14</td>\n",
              "      <td>5661718.0</td>\n",
              "    </tr>\n",
              "    <tr>\n",
              "      <th>9</th>\n",
              "      <td>2023-10-15</td>\n",
              "      <td>5679969.0</td>\n",
              "    </tr>\n",
              "    <tr>\n",
              "      <th>10</th>\n",
              "      <td>2023-10-16</td>\n",
              "      <td>5733989.0</td>\n",
              "    </tr>\n",
              "    <tr>\n",
              "      <th>11</th>\n",
              "      <td>2023-10-17</td>\n",
              "      <td>5763368.0</td>\n",
              "    </tr>\n",
              "    <tr>\n",
              "      <th>12</th>\n",
              "      <td>2023-10-18</td>\n",
              "      <td>5799297.0</td>\n",
              "    </tr>\n",
              "    <tr>\n",
              "      <th>13</th>\n",
              "      <td>2023-10-19</td>\n",
              "      <td>5819305.0</td>\n",
              "    </tr>\n",
              "    <tr>\n",
              "      <th>14</th>\n",
              "      <td>2023-10-20</td>\n",
              "      <td>5872572.0</td>\n",
              "    </tr>\n",
              "    <tr>\n",
              "      <th>15</th>\n",
              "      <td>2023-10-21</td>\n",
              "      <td>5891748.0</td>\n",
              "    </tr>\n",
              "    <tr>\n",
              "      <th>16</th>\n",
              "      <td>2023-10-22</td>\n",
              "      <td>5920276.0</td>\n",
              "    </tr>\n",
              "    <tr>\n",
              "      <th>17</th>\n",
              "      <td>2023-10-23</td>\n",
              "      <td>5950190.0</td>\n",
              "    </tr>\n",
              "    <tr>\n",
              "      <th>18</th>\n",
              "      <td>2023-10-24</td>\n",
              "      <td>5985736.0</td>\n",
              "    </tr>\n",
              "    <tr>\n",
              "      <th>19</th>\n",
              "      <td>2023-10-25</td>\n",
              "      <td>6071364.0</td>\n",
              "    </tr>\n",
              "    <tr>\n",
              "      <th>20</th>\n",
              "      <td>2023-10-26</td>\n",
              "      <td>6123279.0</td>\n",
              "    </tr>\n",
              "    <tr>\n",
              "      <th>21</th>\n",
              "      <td>2023-10-27</td>\n",
              "      <td>6198209.0</td>\n",
              "    </tr>\n",
              "    <tr>\n",
              "      <th>22</th>\n",
              "      <td>2023-10-28</td>\n",
              "      <td>6281143.0</td>\n",
              "    </tr>\n",
              "    <tr>\n",
              "      <th>23</th>\n",
              "      <td>2023-10-29</td>\n",
              "      <td>6470531.0</td>\n",
              "    </tr>\n",
              "    <tr>\n",
              "      <th>24</th>\n",
              "      <td>2023-10-30</td>\n",
              "      <td>6505922.0</td>\n",
              "    </tr>\n",
              "    <tr>\n",
              "      <th>25</th>\n",
              "      <td>2023-10-31</td>\n",
              "      <td>6538205.0</td>\n",
              "    </tr>\n",
              "    <tr>\n",
              "      <th>26</th>\n",
              "      <td>2023-11-01</td>\n",
              "      <td>6730175.0</td>\n",
              "    </tr>\n",
              "    <tr>\n",
              "      <th>27</th>\n",
              "      <td>2023-11-02</td>\n",
              "      <td>6804410.0</td>\n",
              "    </tr>\n",
              "    <tr>\n",
              "      <th>28</th>\n",
              "      <td>2023-11-03</td>\n",
              "      <td>6876889.0</td>\n",
              "    </tr>\n",
              "    <tr>\n",
              "      <th>29</th>\n",
              "      <td>2023-11-04</td>\n",
              "      <td>6939735.0</td>\n",
              "    </tr>\n",
              "    <tr>\n",
              "      <th>30</th>\n",
              "      <td>2023-11-05</td>\n",
              "      <td>7033928.0</td>\n",
              "    </tr>\n",
              "    <tr>\n",
              "      <th>31</th>\n",
              "      <td>2023-11-06</td>\n",
              "      <td>7174213.0</td>\n",
              "    </tr>\n",
              "    <tr>\n",
              "      <th>32</th>\n",
              "      <td>2023-11-07</td>\n",
              "      <td>7439559.0</td>\n",
              "    </tr>\n",
              "    <tr>\n",
              "      <th>33</th>\n",
              "      <td>2023-11-08</td>\n",
              "      <td>7669875.0</td>\n",
              "    </tr>\n",
              "    <tr>\n",
              "      <th>34</th>\n",
              "      <td>2023-11-09</td>\n",
              "      <td>7709361.0</td>\n",
              "    </tr>\n",
              "  </tbody>\n",
              "</table>\n",
              "</div>"
            ],
            "text/plain": [
              "          date  raisedAmount\n",
              "0   2023-10-06     3000000.0\n",
              "1   2023-10-07     3880107.0\n",
              "2   2023-10-08     5028131.0\n",
              "3   2023-10-09     5139841.0\n",
              "4   2023-10-10     5450447.0\n",
              "5   2023-10-11     5510656.0\n",
              "6   2023-10-12     5584927.0\n",
              "7   2023-10-13     5624933.0\n",
              "8   2023-10-14     5661718.0\n",
              "9   2023-10-15     5679969.0\n",
              "10  2023-10-16     5733989.0\n",
              "11  2023-10-17     5763368.0\n",
              "12  2023-10-18     5799297.0\n",
              "13  2023-10-19     5819305.0\n",
              "14  2023-10-20     5872572.0\n",
              "15  2023-10-21     5891748.0\n",
              "16  2023-10-22     5920276.0\n",
              "17  2023-10-23     5950190.0\n",
              "18  2023-10-24     5985736.0\n",
              "19  2023-10-25     6071364.0\n",
              "20  2023-10-26     6123279.0\n",
              "21  2023-10-27     6198209.0\n",
              "22  2023-10-28     6281143.0\n",
              "23  2023-10-29     6470531.0\n",
              "24  2023-10-30     6505922.0\n",
              "25  2023-10-31     6538205.0\n",
              "26  2023-11-01     6730175.0\n",
              "27  2023-11-02     6804410.0\n",
              "28  2023-11-03     6876889.0\n",
              "29  2023-11-04     6939735.0\n",
              "30  2023-11-05     7033928.0\n",
              "31  2023-11-06     7174213.0\n",
              "32  2023-11-07     7439559.0\n",
              "33  2023-11-08     7669875.0\n",
              "34  2023-11-09     7709361.0"
            ]
          },
          "execution_count": 12,
          "metadata": {},
          "output_type": "execute_result"
        }
      ],
      "source": [
        "import pandas as pd\n",
        "\n",
        "# Assuming you have a DataFrame named df with the given columns\n",
        "# Convert the 'timestamp' column to datetime if it's not already\n",
        "df['timestamp'] = pd.to_datetime(df['timestamp'])\n",
        "\n",
        "# Extract the date (day) from the 'timestamp' column\n",
        "df['date'] = df['timestamp'].dt.date\n",
        "\n",
        "# Group by 'date' and calculate the sum of 'raisedAmount' for each day\n",
        "df_grouped = df.groupby('date')['raisedAmount'].first().reset_index()\n",
        "\n",
        "df_grouped"
      ]
    },
    {
      "cell_type": "code",
      "execution_count": 13,
      "metadata": {},
      "outputs": [
        {
          "data": {
            "text/html": [
              "<div>\n",
              "<style scoped>\n",
              "    .dataframe tbody tr th:only-of-type {\n",
              "        vertical-align: middle;\n",
              "    }\n",
              "\n",
              "    .dataframe tbody tr th {\n",
              "        vertical-align: top;\n",
              "    }\n",
              "\n",
              "    .dataframe thead th {\n",
              "        text-align: right;\n",
              "    }\n",
              "</style>\n",
              "<table border=\"1\" class=\"dataframe\">\n",
              "  <thead>\n",
              "    <tr style=\"text-align: right;\">\n",
              "      <th></th>\n",
              "      <th>date</th>\n",
              "      <th>raisedAmount</th>\n",
              "      <th>days_from_start</th>\n",
              "    </tr>\n",
              "  </thead>\n",
              "  <tbody>\n",
              "    <tr>\n",
              "      <th>0</th>\n",
              "      <td>2023-10-06</td>\n",
              "      <td>3000000.0</td>\n",
              "      <td>0</td>\n",
              "    </tr>\n",
              "    <tr>\n",
              "      <th>1</th>\n",
              "      <td>2023-10-07</td>\n",
              "      <td>3880107.0</td>\n",
              "      <td>1</td>\n",
              "    </tr>\n",
              "    <tr>\n",
              "      <th>2</th>\n",
              "      <td>2023-10-08</td>\n",
              "      <td>5028131.0</td>\n",
              "      <td>2</td>\n",
              "    </tr>\n",
              "    <tr>\n",
              "      <th>3</th>\n",
              "      <td>2023-10-09</td>\n",
              "      <td>5139841.0</td>\n",
              "      <td>3</td>\n",
              "    </tr>\n",
              "    <tr>\n",
              "      <th>4</th>\n",
              "      <td>2023-10-10</td>\n",
              "      <td>5450447.0</td>\n",
              "      <td>4</td>\n",
              "    </tr>\n",
              "    <tr>\n",
              "      <th>5</th>\n",
              "      <td>2023-10-11</td>\n",
              "      <td>5510656.0</td>\n",
              "      <td>5</td>\n",
              "    </tr>\n",
              "    <tr>\n",
              "      <th>6</th>\n",
              "      <td>2023-10-12</td>\n",
              "      <td>5584927.0</td>\n",
              "      <td>6</td>\n",
              "    </tr>\n",
              "    <tr>\n",
              "      <th>7</th>\n",
              "      <td>2023-10-13</td>\n",
              "      <td>5624933.0</td>\n",
              "      <td>7</td>\n",
              "    </tr>\n",
              "    <tr>\n",
              "      <th>8</th>\n",
              "      <td>2023-10-14</td>\n",
              "      <td>5661718.0</td>\n",
              "      <td>8</td>\n",
              "    </tr>\n",
              "    <tr>\n",
              "      <th>9</th>\n",
              "      <td>2023-10-15</td>\n",
              "      <td>5679969.0</td>\n",
              "      <td>9</td>\n",
              "    </tr>\n",
              "    <tr>\n",
              "      <th>10</th>\n",
              "      <td>2023-10-16</td>\n",
              "      <td>5733989.0</td>\n",
              "      <td>10</td>\n",
              "    </tr>\n",
              "    <tr>\n",
              "      <th>11</th>\n",
              "      <td>2023-10-17</td>\n",
              "      <td>5763368.0</td>\n",
              "      <td>11</td>\n",
              "    </tr>\n",
              "    <tr>\n",
              "      <th>12</th>\n",
              "      <td>2023-10-18</td>\n",
              "      <td>5799297.0</td>\n",
              "      <td>12</td>\n",
              "    </tr>\n",
              "    <tr>\n",
              "      <th>13</th>\n",
              "      <td>2023-10-19</td>\n",
              "      <td>5819305.0</td>\n",
              "      <td>13</td>\n",
              "    </tr>\n",
              "    <tr>\n",
              "      <th>14</th>\n",
              "      <td>2023-10-20</td>\n",
              "      <td>5872572.0</td>\n",
              "      <td>14</td>\n",
              "    </tr>\n",
              "    <tr>\n",
              "      <th>15</th>\n",
              "      <td>2023-10-21</td>\n",
              "      <td>5891748.0</td>\n",
              "      <td>15</td>\n",
              "    </tr>\n",
              "    <tr>\n",
              "      <th>16</th>\n",
              "      <td>2023-10-22</td>\n",
              "      <td>5920276.0</td>\n",
              "      <td>16</td>\n",
              "    </tr>\n",
              "    <tr>\n",
              "      <th>17</th>\n",
              "      <td>2023-10-23</td>\n",
              "      <td>5950190.0</td>\n",
              "      <td>17</td>\n",
              "    </tr>\n",
              "    <tr>\n",
              "      <th>18</th>\n",
              "      <td>2023-10-24</td>\n",
              "      <td>5985736.0</td>\n",
              "      <td>18</td>\n",
              "    </tr>\n",
              "    <tr>\n",
              "      <th>19</th>\n",
              "      <td>2023-10-25</td>\n",
              "      <td>6071364.0</td>\n",
              "      <td>19</td>\n",
              "    </tr>\n",
              "    <tr>\n",
              "      <th>20</th>\n",
              "      <td>2023-10-26</td>\n",
              "      <td>6123279.0</td>\n",
              "      <td>20</td>\n",
              "    </tr>\n",
              "    <tr>\n",
              "      <th>21</th>\n",
              "      <td>2023-10-27</td>\n",
              "      <td>6198209.0</td>\n",
              "      <td>21</td>\n",
              "    </tr>\n",
              "    <tr>\n",
              "      <th>22</th>\n",
              "      <td>2023-10-28</td>\n",
              "      <td>6281143.0</td>\n",
              "      <td>22</td>\n",
              "    </tr>\n",
              "    <tr>\n",
              "      <th>23</th>\n",
              "      <td>2023-10-29</td>\n",
              "      <td>6470531.0</td>\n",
              "      <td>23</td>\n",
              "    </tr>\n",
              "    <tr>\n",
              "      <th>24</th>\n",
              "      <td>2023-10-30</td>\n",
              "      <td>6505922.0</td>\n",
              "      <td>24</td>\n",
              "    </tr>\n",
              "    <tr>\n",
              "      <th>25</th>\n",
              "      <td>2023-10-31</td>\n",
              "      <td>6538205.0</td>\n",
              "      <td>25</td>\n",
              "    </tr>\n",
              "    <tr>\n",
              "      <th>26</th>\n",
              "      <td>2023-11-01</td>\n",
              "      <td>6730175.0</td>\n",
              "      <td>26</td>\n",
              "    </tr>\n",
              "    <tr>\n",
              "      <th>27</th>\n",
              "      <td>2023-11-02</td>\n",
              "      <td>6804410.0</td>\n",
              "      <td>27</td>\n",
              "    </tr>\n",
              "    <tr>\n",
              "      <th>28</th>\n",
              "      <td>2023-11-03</td>\n",
              "      <td>6876889.0</td>\n",
              "      <td>28</td>\n",
              "    </tr>\n",
              "    <tr>\n",
              "      <th>29</th>\n",
              "      <td>2023-11-04</td>\n",
              "      <td>6939735.0</td>\n",
              "      <td>29</td>\n",
              "    </tr>\n",
              "    <tr>\n",
              "      <th>30</th>\n",
              "      <td>2023-11-05</td>\n",
              "      <td>7033928.0</td>\n",
              "      <td>30</td>\n",
              "    </tr>\n",
              "    <tr>\n",
              "      <th>31</th>\n",
              "      <td>2023-11-06</td>\n",
              "      <td>7174213.0</td>\n",
              "      <td>31</td>\n",
              "    </tr>\n",
              "    <tr>\n",
              "      <th>32</th>\n",
              "      <td>2023-11-07</td>\n",
              "      <td>7439559.0</td>\n",
              "      <td>32</td>\n",
              "    </tr>\n",
              "    <tr>\n",
              "      <th>33</th>\n",
              "      <td>2023-11-08</td>\n",
              "      <td>7669875.0</td>\n",
              "      <td>33</td>\n",
              "    </tr>\n",
              "    <tr>\n",
              "      <th>34</th>\n",
              "      <td>2023-11-09</td>\n",
              "      <td>7709361.0</td>\n",
              "      <td>34</td>\n",
              "    </tr>\n",
              "  </tbody>\n",
              "</table>\n",
              "</div>"
            ],
            "text/plain": [
              "         date  raisedAmount  days_from_start\n",
              "0  2023-10-06     3000000.0                0\n",
              "1  2023-10-07     3880107.0                1\n",
              "2  2023-10-08     5028131.0                2\n",
              "3  2023-10-09     5139841.0                3\n",
              "4  2023-10-10     5450447.0                4\n",
              "5  2023-10-11     5510656.0                5\n",
              "6  2023-10-12     5584927.0                6\n",
              "7  2023-10-13     5624933.0                7\n",
              "8  2023-10-14     5661718.0                8\n",
              "9  2023-10-15     5679969.0                9\n",
              "10 2023-10-16     5733989.0               10\n",
              "11 2023-10-17     5763368.0               11\n",
              "12 2023-10-18     5799297.0               12\n",
              "13 2023-10-19     5819305.0               13\n",
              "14 2023-10-20     5872572.0               14\n",
              "15 2023-10-21     5891748.0               15\n",
              "16 2023-10-22     5920276.0               16\n",
              "17 2023-10-23     5950190.0               17\n",
              "18 2023-10-24     5985736.0               18\n",
              "19 2023-10-25     6071364.0               19\n",
              "20 2023-10-26     6123279.0               20\n",
              "21 2023-10-27     6198209.0               21\n",
              "22 2023-10-28     6281143.0               22\n",
              "23 2023-10-29     6470531.0               23\n",
              "24 2023-10-30     6505922.0               24\n",
              "25 2023-10-31     6538205.0               25\n",
              "26 2023-11-01     6730175.0               26\n",
              "27 2023-11-02     6804410.0               27\n",
              "28 2023-11-03     6876889.0               28\n",
              "29 2023-11-04     6939735.0               29\n",
              "30 2023-11-05     7033928.0               30\n",
              "31 2023-11-06     7174213.0               31\n",
              "32 2023-11-07     7439559.0               32\n",
              "33 2023-11-08     7669875.0               33\n",
              "34 2023-11-09     7709361.0               34"
            ]
          },
          "execution_count": 13,
          "metadata": {},
          "output_type": "execute_result"
        }
      ],
      "source": [
        "# Convert 'paid_at' column to datetime\n",
        "df_grouped['date'] = pd.to_datetime(df_grouped['date'])\n",
        "\n",
        "# Calculate the number of days from the start date\n",
        "start_date = df_grouped['date'].min()  # Get the minimum date as the start date\n",
        "df_grouped['days_from_start'] = (df_grouped['date'] - start_date).dt.days\n",
        "\n",
        "df_grouped\n"
      ]
    },
    {
      "cell_type": "code",
      "execution_count": 14,
      "metadata": {},
      "outputs": [
        {
          "data": {
            "text/html": [
              "<div>\n",
              "<style scoped>\n",
              "    .dataframe tbody tr th:only-of-type {\n",
              "        vertical-align: middle;\n",
              "    }\n",
              "\n",
              "    .dataframe tbody tr th {\n",
              "        vertical-align: top;\n",
              "    }\n",
              "\n",
              "    .dataframe thead th {\n",
              "        text-align: right;\n",
              "    }\n",
              "</style>\n",
              "<table border=\"1\" class=\"dataframe\">\n",
              "  <thead>\n",
              "    <tr style=\"text-align: right;\">\n",
              "      <th></th>\n",
              "      <th>date</th>\n",
              "      <th>raisedAmount</th>\n",
              "      <th>days_from_start</th>\n",
              "      <th>total_amount</th>\n",
              "    </tr>\n",
              "  </thead>\n",
              "  <tbody>\n",
              "    <tr>\n",
              "      <th>0</th>\n",
              "      <td>2023-10-06</td>\n",
              "      <td>3000000.0</td>\n",
              "      <td>0</td>\n",
              "      <td>3000000.0</td>\n",
              "    </tr>\n",
              "    <tr>\n",
              "      <th>1</th>\n",
              "      <td>2023-10-07</td>\n",
              "      <td>3880107.0</td>\n",
              "      <td>1</td>\n",
              "      <td>880107.0</td>\n",
              "    </tr>\n",
              "    <tr>\n",
              "      <th>2</th>\n",
              "      <td>2023-10-08</td>\n",
              "      <td>5028131.0</td>\n",
              "      <td>2</td>\n",
              "      <td>1148024.0</td>\n",
              "    </tr>\n",
              "    <tr>\n",
              "      <th>3</th>\n",
              "      <td>2023-10-09</td>\n",
              "      <td>5139841.0</td>\n",
              "      <td>3</td>\n",
              "      <td>111710.0</td>\n",
              "    </tr>\n",
              "    <tr>\n",
              "      <th>4</th>\n",
              "      <td>2023-10-10</td>\n",
              "      <td>5450447.0</td>\n",
              "      <td>4</td>\n",
              "      <td>310606.0</td>\n",
              "    </tr>\n",
              "    <tr>\n",
              "      <th>5</th>\n",
              "      <td>2023-10-11</td>\n",
              "      <td>5510656.0</td>\n",
              "      <td>5</td>\n",
              "      <td>60209.0</td>\n",
              "    </tr>\n",
              "    <tr>\n",
              "      <th>6</th>\n",
              "      <td>2023-10-12</td>\n",
              "      <td>5584927.0</td>\n",
              "      <td>6</td>\n",
              "      <td>74271.0</td>\n",
              "    </tr>\n",
              "    <tr>\n",
              "      <th>7</th>\n",
              "      <td>2023-10-13</td>\n",
              "      <td>5624933.0</td>\n",
              "      <td>7</td>\n",
              "      <td>40006.0</td>\n",
              "    </tr>\n",
              "    <tr>\n",
              "      <th>8</th>\n",
              "      <td>2023-10-14</td>\n",
              "      <td>5661718.0</td>\n",
              "      <td>8</td>\n",
              "      <td>36785.0</td>\n",
              "    </tr>\n",
              "    <tr>\n",
              "      <th>9</th>\n",
              "      <td>2023-10-15</td>\n",
              "      <td>5679969.0</td>\n",
              "      <td>9</td>\n",
              "      <td>18251.0</td>\n",
              "    </tr>\n",
              "    <tr>\n",
              "      <th>10</th>\n",
              "      <td>2023-10-16</td>\n",
              "      <td>5733989.0</td>\n",
              "      <td>10</td>\n",
              "      <td>54020.0</td>\n",
              "    </tr>\n",
              "    <tr>\n",
              "      <th>11</th>\n",
              "      <td>2023-10-17</td>\n",
              "      <td>5763368.0</td>\n",
              "      <td>11</td>\n",
              "      <td>29379.0</td>\n",
              "    </tr>\n",
              "    <tr>\n",
              "      <th>12</th>\n",
              "      <td>2023-10-18</td>\n",
              "      <td>5799297.0</td>\n",
              "      <td>12</td>\n",
              "      <td>35929.0</td>\n",
              "    </tr>\n",
              "    <tr>\n",
              "      <th>13</th>\n",
              "      <td>2023-10-19</td>\n",
              "      <td>5819305.0</td>\n",
              "      <td>13</td>\n",
              "      <td>20008.0</td>\n",
              "    </tr>\n",
              "    <tr>\n",
              "      <th>14</th>\n",
              "      <td>2023-10-20</td>\n",
              "      <td>5872572.0</td>\n",
              "      <td>14</td>\n",
              "      <td>53267.0</td>\n",
              "    </tr>\n",
              "    <tr>\n",
              "      <th>15</th>\n",
              "      <td>2023-10-21</td>\n",
              "      <td>5891748.0</td>\n",
              "      <td>15</td>\n",
              "      <td>19176.0</td>\n",
              "    </tr>\n",
              "    <tr>\n",
              "      <th>16</th>\n",
              "      <td>2023-10-22</td>\n",
              "      <td>5920276.0</td>\n",
              "      <td>16</td>\n",
              "      <td>28528.0</td>\n",
              "    </tr>\n",
              "    <tr>\n",
              "      <th>17</th>\n",
              "      <td>2023-10-23</td>\n",
              "      <td>5950190.0</td>\n",
              "      <td>17</td>\n",
              "      <td>29914.0</td>\n",
              "    </tr>\n",
              "    <tr>\n",
              "      <th>18</th>\n",
              "      <td>2023-10-24</td>\n",
              "      <td>5985736.0</td>\n",
              "      <td>18</td>\n",
              "      <td>35546.0</td>\n",
              "    </tr>\n",
              "    <tr>\n",
              "      <th>19</th>\n",
              "      <td>2023-10-25</td>\n",
              "      <td>6071364.0</td>\n",
              "      <td>19</td>\n",
              "      <td>85628.0</td>\n",
              "    </tr>\n",
              "    <tr>\n",
              "      <th>20</th>\n",
              "      <td>2023-10-26</td>\n",
              "      <td>6123279.0</td>\n",
              "      <td>20</td>\n",
              "      <td>51915.0</td>\n",
              "    </tr>\n",
              "    <tr>\n",
              "      <th>21</th>\n",
              "      <td>2023-10-27</td>\n",
              "      <td>6198209.0</td>\n",
              "      <td>21</td>\n",
              "      <td>74930.0</td>\n",
              "    </tr>\n",
              "    <tr>\n",
              "      <th>22</th>\n",
              "      <td>2023-10-28</td>\n",
              "      <td>6281143.0</td>\n",
              "      <td>22</td>\n",
              "      <td>82934.0</td>\n",
              "    </tr>\n",
              "    <tr>\n",
              "      <th>23</th>\n",
              "      <td>2023-10-29</td>\n",
              "      <td>6470531.0</td>\n",
              "      <td>23</td>\n",
              "      <td>189388.0</td>\n",
              "    </tr>\n",
              "    <tr>\n",
              "      <th>24</th>\n",
              "      <td>2023-10-30</td>\n",
              "      <td>6505922.0</td>\n",
              "      <td>24</td>\n",
              "      <td>35391.0</td>\n",
              "    </tr>\n",
              "    <tr>\n",
              "      <th>25</th>\n",
              "      <td>2023-10-31</td>\n",
              "      <td>6538205.0</td>\n",
              "      <td>25</td>\n",
              "      <td>32283.0</td>\n",
              "    </tr>\n",
              "    <tr>\n",
              "      <th>26</th>\n",
              "      <td>2023-11-01</td>\n",
              "      <td>6730175.0</td>\n",
              "      <td>26</td>\n",
              "      <td>191970.0</td>\n",
              "    </tr>\n",
              "    <tr>\n",
              "      <th>27</th>\n",
              "      <td>2023-11-02</td>\n",
              "      <td>6804410.0</td>\n",
              "      <td>27</td>\n",
              "      <td>74235.0</td>\n",
              "    </tr>\n",
              "    <tr>\n",
              "      <th>28</th>\n",
              "      <td>2023-11-03</td>\n",
              "      <td>6876889.0</td>\n",
              "      <td>28</td>\n",
              "      <td>72479.0</td>\n",
              "    </tr>\n",
              "    <tr>\n",
              "      <th>29</th>\n",
              "      <td>2023-11-04</td>\n",
              "      <td>6939735.0</td>\n",
              "      <td>29</td>\n",
              "      <td>62846.0</td>\n",
              "    </tr>\n",
              "    <tr>\n",
              "      <th>30</th>\n",
              "      <td>2023-11-05</td>\n",
              "      <td>7033928.0</td>\n",
              "      <td>30</td>\n",
              "      <td>94193.0</td>\n",
              "    </tr>\n",
              "    <tr>\n",
              "      <th>31</th>\n",
              "      <td>2023-11-06</td>\n",
              "      <td>7174213.0</td>\n",
              "      <td>31</td>\n",
              "      <td>140285.0</td>\n",
              "    </tr>\n",
              "    <tr>\n",
              "      <th>32</th>\n",
              "      <td>2023-11-07</td>\n",
              "      <td>7439559.0</td>\n",
              "      <td>32</td>\n",
              "      <td>265346.0</td>\n",
              "    </tr>\n",
              "    <tr>\n",
              "      <th>33</th>\n",
              "      <td>2023-11-08</td>\n",
              "      <td>7669875.0</td>\n",
              "      <td>33</td>\n",
              "      <td>230316.0</td>\n",
              "    </tr>\n",
              "    <tr>\n",
              "      <th>34</th>\n",
              "      <td>2023-11-09</td>\n",
              "      <td>7709361.0</td>\n",
              "      <td>34</td>\n",
              "      <td>39486.0</td>\n",
              "    </tr>\n",
              "  </tbody>\n",
              "</table>\n",
              "</div>"
            ],
            "text/plain": [
              "         date  raisedAmount  days_from_start  total_amount\n",
              "0  2023-10-06     3000000.0                0     3000000.0\n",
              "1  2023-10-07     3880107.0                1      880107.0\n",
              "2  2023-10-08     5028131.0                2     1148024.0\n",
              "3  2023-10-09     5139841.0                3      111710.0\n",
              "4  2023-10-10     5450447.0                4      310606.0\n",
              "5  2023-10-11     5510656.0                5       60209.0\n",
              "6  2023-10-12     5584927.0                6       74271.0\n",
              "7  2023-10-13     5624933.0                7       40006.0\n",
              "8  2023-10-14     5661718.0                8       36785.0\n",
              "9  2023-10-15     5679969.0                9       18251.0\n",
              "10 2023-10-16     5733989.0               10       54020.0\n",
              "11 2023-10-17     5763368.0               11       29379.0\n",
              "12 2023-10-18     5799297.0               12       35929.0\n",
              "13 2023-10-19     5819305.0               13       20008.0\n",
              "14 2023-10-20     5872572.0               14       53267.0\n",
              "15 2023-10-21     5891748.0               15       19176.0\n",
              "16 2023-10-22     5920276.0               16       28528.0\n",
              "17 2023-10-23     5950190.0               17       29914.0\n",
              "18 2023-10-24     5985736.0               18       35546.0\n",
              "19 2023-10-25     6071364.0               19       85628.0\n",
              "20 2023-10-26     6123279.0               20       51915.0\n",
              "21 2023-10-27     6198209.0               21       74930.0\n",
              "22 2023-10-28     6281143.0               22       82934.0\n",
              "23 2023-10-29     6470531.0               23      189388.0\n",
              "24 2023-10-30     6505922.0               24       35391.0\n",
              "25 2023-10-31     6538205.0               25       32283.0\n",
              "26 2023-11-01     6730175.0               26      191970.0\n",
              "27 2023-11-02     6804410.0               27       74235.0\n",
              "28 2023-11-03     6876889.0               28       72479.0\n",
              "29 2023-11-04     6939735.0               29       62846.0\n",
              "30 2023-11-05     7033928.0               30       94193.0\n",
              "31 2023-11-06     7174213.0               31      140285.0\n",
              "32 2023-11-07     7439559.0               32      265346.0\n",
              "33 2023-11-08     7669875.0               33      230316.0\n",
              "34 2023-11-09     7709361.0               34       39486.0"
            ]
          },
          "execution_count": 14,
          "metadata": {},
          "output_type": "execute_result"
        }
      ],
      "source": [
        "df_grouped['total_amount'] = df_grouped['raisedAmount'].diff()\n",
        "\n",
        "#fill the first value with the fist value\n",
        "df_grouped['total_amount'].fillna(df_grouped['raisedAmount'], inplace=True)\n",
        "\n",
        "df_grouped"
      ]
    },
    {
      "cell_type": "code",
      "execution_count": 15,
      "metadata": {
        "colab": {
          "base_uri": "https://localhost:8080/",
          "height": 458
        },
        "id": "6kXImvufEV3r",
        "outputId": "670b8654-6299-4e2d-e7af-07097008927b"
      },
      "outputs": [
        {
          "data": {
            "text/html": [
              "<div>\n",
              "<style scoped>\n",
              "    .dataframe tbody tr th:only-of-type {\n",
              "        vertical-align: middle;\n",
              "    }\n",
              "\n",
              "    .dataframe tbody tr th {\n",
              "        vertical-align: top;\n",
              "    }\n",
              "\n",
              "    .dataframe thead th {\n",
              "        text-align: right;\n",
              "    }\n",
              "</style>\n",
              "<table border=\"1\" class=\"dataframe\">\n",
              "  <thead>\n",
              "    <tr style=\"text-align: right;\">\n",
              "      <th></th>\n",
              "      <th>raisedAmount</th>\n",
              "      <th>supporters</th>\n",
              "      <th>timestamp</th>\n",
              "      <th>date</th>\n",
              "    </tr>\n",
              "  </thead>\n",
              "  <tbody>\n",
              "    <tr>\n",
              "      <th>0</th>\n",
              "      <td>7709361.0</td>\n",
              "      <td>7301</td>\n",
              "      <td>2023-11-09 08:40:05</td>\n",
              "      <td>2023-11-09</td>\n",
              "    </tr>\n",
              "    <tr>\n",
              "      <th>1</th>\n",
              "      <td>7709361.0</td>\n",
              "      <td>7301</td>\n",
              "      <td>2023-11-09 08:39:06</td>\n",
              "      <td>2023-11-09</td>\n",
              "    </tr>\n",
              "    <tr>\n",
              "      <th>2</th>\n",
              "      <td>7669875.0</td>\n",
              "      <td>7252</td>\n",
              "      <td>2023-11-08 22:26:05</td>\n",
              "      <td>2023-11-08</td>\n",
              "    </tr>\n",
              "    <tr>\n",
              "      <th>3</th>\n",
              "      <td>7669875.0</td>\n",
              "      <td>7252</td>\n",
              "      <td>2023-11-08 22:27:05</td>\n",
              "      <td>2023-11-08</td>\n",
              "    </tr>\n",
              "    <tr>\n",
              "      <th>4</th>\n",
              "      <td>7669875.0</td>\n",
              "      <td>7252</td>\n",
              "      <td>2023-11-08 22:28:05</td>\n",
              "      <td>2023-11-08</td>\n",
              "    </tr>\n",
              "    <tr>\n",
              "      <th>...</th>\n",
              "      <td>...</td>\n",
              "      <td>...</td>\n",
              "      <td>...</td>\n",
              "      <td>...</td>\n",
              "    </tr>\n",
              "    <tr>\n",
              "      <th>28411</th>\n",
              "      <td>3511255.0</td>\n",
              "      <td>3152</td>\n",
              "      <td>2023-10-07 14:10:16</td>\n",
              "      <td>2023-10-07</td>\n",
              "    </tr>\n",
              "    <tr>\n",
              "      <th>28412</th>\n",
              "      <td>3511114.0</td>\n",
              "      <td>3152</td>\n",
              "      <td>2023-10-07 14:13:03</td>\n",
              "      <td>2023-10-07</td>\n",
              "    </tr>\n",
              "    <tr>\n",
              "      <th>28413</th>\n",
              "      <td>3510664.0</td>\n",
              "      <td>3151</td>\n",
              "      <td>2023-10-07 14:12:04</td>\n",
              "      <td>2023-10-07</td>\n",
              "    </tr>\n",
              "    <tr>\n",
              "      <th>28414</th>\n",
              "      <td>3510405.0</td>\n",
              "      <td>3151</td>\n",
              "      <td>2023-10-07 14:08:43</td>\n",
              "      <td>2023-10-07</td>\n",
              "    </tr>\n",
              "    <tr>\n",
              "      <th>28415</th>\n",
              "      <td>3000000.0</td>\n",
              "      <td>3000</td>\n",
              "      <td>2023-10-06 23:59:00</td>\n",
              "      <td>2023-10-06</td>\n",
              "    </tr>\n",
              "  </tbody>\n",
              "</table>\n",
              "<p>28416 rows × 4 columns</p>\n",
              "</div>"
            ],
            "text/plain": [
              "      raisedAmount supporters            timestamp        date\n",
              "0        7709361.0       7301  2023-11-09 08:40:05  2023-11-09\n",
              "1        7709361.0       7301  2023-11-09 08:39:06  2023-11-09\n",
              "2        7669875.0       7252  2023-11-08 22:26:05  2023-11-08\n",
              "3        7669875.0       7252  2023-11-08 22:27:05  2023-11-08\n",
              "4        7669875.0       7252  2023-11-08 22:28:05  2023-11-08\n",
              "...            ...        ...                  ...         ...\n",
              "28411    3511255.0       3152  2023-10-07 14:10:16  2023-10-07\n",
              "28412    3511114.0       3152  2023-10-07 14:13:03  2023-10-07\n",
              "28413    3510664.0       3151  2023-10-07 14:12:04  2023-10-07\n",
              "28414    3510405.0       3151  2023-10-07 14:08:43  2023-10-07\n",
              "28415    3000000.0       3000  2023-10-06 23:59:00  2023-10-06\n",
              "\n",
              "[28416 rows x 4 columns]"
            ]
          },
          "execution_count": 15,
          "metadata": {},
          "output_type": "execute_result"
        }
      ],
      "source": [
        "import pandas as pd\n",
        "\n",
        "# Assuming you already have a DataFrame df\n",
        "\n",
        "# Create a list to store the filtered rows as DataFrames\n",
        "filtered_rows = []\n",
        "\n",
        "# Initialize a variable to keep track of the previous raisedAmount\n",
        "previous_raisedAmount = float('-inf')\n",
        "\n",
        "# Iterate through the rows of the original DataFrame\n",
        "for index, row in df.iterrows():\n",
        "    current_raisedAmount = row['raisedAmount']\n",
        "\n",
        "    # Check if the current raisedAmount is smaller or equal to the previous one\n",
        "    if current_raisedAmount <= previous_raisedAmount:\n",
        "        # Append the row to the list of filtered rows\n",
        "        filtered_rows.append(row)\n",
        "\n",
        "    # Update the previous_raisedAmount for the next iteration\n",
        "    previous_raisedAmount = current_raisedAmount\n",
        "\n",
        "# Create a new DataFrame by concatenating the filtered rows\n",
        "filtered_df = pd.concat(filtered_rows, axis=1).T\n",
        "\n",
        "# Reset the index of the filtered DataFrame\n",
        "filtered_df.reset_index(drop=True, inplace=True)\n",
        "\n",
        "# filtered_df now contains the rows where raisedAmount is not greater than the previous one\n",
        "filtered_df\n"
      ]
    },
    {
      "cell_type": "code",
      "execution_count": 16,
      "metadata": {
        "colab": {
          "base_uri": "https://localhost:8080/"
        },
        "id": "-nuRvVUtEp2x",
        "outputId": "76785749-4ca2-4f9d-f84f-68de7551f879"
      },
      "outputs": [
        {
          "data": {
            "text/plain": [
              "(28416, 4)"
            ]
          },
          "execution_count": 16,
          "metadata": {},
          "output_type": "execute_result"
        }
      ],
      "source": [
        "filtered_df.shape"
      ]
    },
    {
      "cell_type": "code",
      "execution_count": 17,
      "metadata": {
        "colab": {
          "base_uri": "https://localhost:8080/"
        },
        "id": "mEZubU6oEvXU",
        "outputId": "a748f431-23fe-4298-b0ad-91f9ce053464"
      },
      "outputs": [
        {
          "data": {
            "text/plain": [
              "(28417, 4)"
            ]
          },
          "execution_count": 17,
          "metadata": {},
          "output_type": "execute_result"
        }
      ],
      "source": [
        "df.shape"
      ]
    },
    {
      "cell_type": "code",
      "execution_count": 18,
      "metadata": {
        "colab": {
          "base_uri": "https://localhost:8080/",
          "height": 607
        },
        "id": "OBH0AY0UEwcQ",
        "outputId": "fba51175-55e3-4116-bb06-4e5e4d98c68d"
      },
      "outputs": [
        {
          "data": {
            "image/png": "[encoded data removed]",
            "text/plain": [
              "<Figure size 1000x600 with 1 Axes>"
            ]
          },
          "metadata": {},
          "output_type": "display_data"
        }
      ],
      "source": [
        "import matplotlib.pyplot as plt\n",
        "\n",
        "# Assuming you have a DataFrame called filtered_df with the data\n",
        "\n",
        "# Extract the data from the DataFrame\n",
        "raisedAmount = filtered_df['raisedAmount']\n",
        "timestamp = filtered_df['timestamp']\n",
        "\n",
        "# Convert the 'timestamp' column to datetime objects\n",
        "timestamp = pd.to_datetime(timestamp)\n",
        "\n",
        "# Create a line plot\n",
        "plt.figure(figsize=(10, 6))  # Set the figure size\n",
        "plt.plot(timestamp, raisedAmount, marker='o', linestyle='-')\n",
        "plt.title('Raised Amount Over Time')\n",
        "plt.xlabel('Timestamp')\n",
        "plt.ylabel('Raised Amount')\n",
        "plt.grid(True)\n",
        "\n",
        "# Rotate the x-axis labels for better readability\n",
        "plt.xticks(rotation=45)\n",
        "\n",
        "# Show the plot\n",
        "plt.tight_layout()\n",
        "plt.show()\n"
      ]
    },
    {
      "cell_type": "markdown",
      "metadata": {},
      "source": [
        "# dados das outras campanhas"
      ]
    },
    {
      "cell_type": "code",
      "execution_count": 19,
      "metadata": {
        "id": "Q7tTRSZqEza4"
      },
      "outputs": [
        {
          "name": "stdout",
          "output_type": "stream",
          "text": [
            "last_saved.json\n",
            "project_contributions_per_day_ordem.json\n",
            "project_contributions_per_day_nerdcastrpg.json\n"
          ]
        }
      ],
      "source": [
        "import os\n",
        "\n",
        "directory_path = json_files_directory  # Replace with the path to your directory\n",
        "prefix = 'data'  # Replace with the prefix you want to filter\n",
        "\n",
        "# List all files in the directory\n",
        "all_files = os.listdir(directory_path)\n",
        "\n",
        "# Filter files that don't start with the specified prefix\n",
        "filtered_files = [file for file in all_files if not file.startswith(prefix)]\n",
        "\n",
        "# Print the filtered file names\n",
        "for file in filtered_files:\n",
        "    print(file)\n"
      ]
    },
    {
      "cell_type": "code",
      "execution_count": 20,
      "metadata": {},
      "outputs": [],
      "source": [
        "import pandas as pd\n",
        "\n",
        "# File paths for the JSON files\n",
        "file_path_ordem = directory_path+'/project_contributions_per_day_ordem.json'\n",
        "file_path_nerdcastrpg = directory_path+'/project_contributions_per_day_nerdcastrpg.json'\n",
        "\n",
        "# Read the JSON files into Pandas DataFrames\n",
        "df_ordem = pd.read_json(file_path_ordem)\n",
        "df_nerdcastrpg = pd.read_json(file_path_nerdcastrpg)\n",
        "\n",
        "# Now you have two DataFrames: df_ordem and df_nerdcastrpg"
      ]
    },
    {
      "cell_type": "code",
      "execution_count": 21,
      "metadata": {},
      "outputs": [
        {
          "name": "stdout",
          "output_type": "stream",
          "text": [
            "   project_id                                             source\n",
            "0      122021  [{'paid_at': '2020-10-17', 'created_at': '2020...\n"
          ]
        }
      ],
      "source": [
        "print(df_ordem)"
      ]
    },
    {
      "cell_type": "code",
      "execution_count": 22,
      "metadata": {},
      "outputs": [
        {
          "data": {
            "text/html": [
              "<div>\n",
              "<style scoped>\n",
              "    .dataframe tbody tr th:only-of-type {\n",
              "        vertical-align: middle;\n",
              "    }\n",
              "\n",
              "    .dataframe tbody tr th {\n",
              "        vertical-align: top;\n",
              "    }\n",
              "\n",
              "    .dataframe thead th {\n",
              "        text-align: right;\n",
              "    }\n",
              "</style>\n",
              "<table border=\"1\" class=\"dataframe\">\n",
              "  <thead>\n",
              "    <tr style=\"text-align: right;\">\n",
              "      <th></th>\n",
              "      <th>paid_at</th>\n",
              "      <th>created_at</th>\n",
              "      <th>total</th>\n",
              "      <th>total_amount</th>\n",
              "      <th>project_id</th>\n",
              "    </tr>\n",
              "  </thead>\n",
              "  <tbody>\n",
              "    <tr>\n",
              "      <th>0</th>\n",
              "      <td>2020-10-17</td>\n",
              "      <td>2020-10-17</td>\n",
              "      <td>3007</td>\n",
              "      <td>524949.27</td>\n",
              "      <td>122021</td>\n",
              "    </tr>\n",
              "    <tr>\n",
              "      <th>1</th>\n",
              "      <td>2020-10-18</td>\n",
              "      <td>2020-10-18</td>\n",
              "      <td>5652</td>\n",
              "      <td>648096.97</td>\n",
              "      <td>122021</td>\n",
              "    </tr>\n",
              "    <tr>\n",
              "      <th>2</th>\n",
              "      <td>2020-10-19</td>\n",
              "      <td>2020-10-19</td>\n",
              "      <td>2174</td>\n",
              "      <td>256318.27</td>\n",
              "      <td>122021</td>\n",
              "    </tr>\n",
              "    <tr>\n",
              "      <th>3</th>\n",
              "      <td>2020-10-20</td>\n",
              "      <td>2020-10-20</td>\n",
              "      <td>2503</td>\n",
              "      <td>319434.94</td>\n",
              "      <td>122021</td>\n",
              "    </tr>\n",
              "    <tr>\n",
              "      <th>4</th>\n",
              "      <td>2020-10-21</td>\n",
              "      <td>2020-10-21</td>\n",
              "      <td>1404</td>\n",
              "      <td>175432.50</td>\n",
              "      <td>122021</td>\n",
              "    </tr>\n",
              "    <tr>\n",
              "      <th>...</th>\n",
              "      <td>...</td>\n",
              "      <td>...</td>\n",
              "      <td>...</td>\n",
              "      <td>...</td>\n",
              "      <td>...</td>\n",
              "    </tr>\n",
              "    <tr>\n",
              "      <th>57</th>\n",
              "      <td>2020-12-13</td>\n",
              "      <td>2020-12-13</td>\n",
              "      <td>432</td>\n",
              "      <td>56500.00</td>\n",
              "      <td>122021</td>\n",
              "    </tr>\n",
              "    <tr>\n",
              "      <th>58</th>\n",
              "      <td>2020-12-14</td>\n",
              "      <td>2020-12-14</td>\n",
              "      <td>579</td>\n",
              "      <td>80470.00</td>\n",
              "      <td>122021</td>\n",
              "    </tr>\n",
              "    <tr>\n",
              "      <th>59</th>\n",
              "      <td>2020-12-15</td>\n",
              "      <td>2020-12-15</td>\n",
              "      <td>1442</td>\n",
              "      <td>185226.12</td>\n",
              "      <td>122021</td>\n",
              "    </tr>\n",
              "    <tr>\n",
              "      <th>60</th>\n",
              "      <td>2020-12-16</td>\n",
              "      <td>2020-12-16</td>\n",
              "      <td>2441</td>\n",
              "      <td>297603.48</td>\n",
              "      <td>122021</td>\n",
              "    </tr>\n",
              "    <tr>\n",
              "      <th>61</th>\n",
              "      <td>2020-12-17</td>\n",
              "      <td>2020-12-17</td>\n",
              "      <td>1422</td>\n",
              "      <td>155902.01</td>\n",
              "      <td>122021</td>\n",
              "    </tr>\n",
              "  </tbody>\n",
              "</table>\n",
              "<p>62 rows × 5 columns</p>\n",
              "</div>"
            ],
            "text/plain": [
              "       paid_at  created_at  total  total_amount project_id\n",
              "0   2020-10-17  2020-10-17   3007     524949.27     122021\n",
              "1   2020-10-18  2020-10-18   5652     648096.97     122021\n",
              "2   2020-10-19  2020-10-19   2174     256318.27     122021\n",
              "3   2020-10-20  2020-10-20   2503     319434.94     122021\n",
              "4   2020-10-21  2020-10-21   1404     175432.50     122021\n",
              "..         ...         ...    ...           ...        ...\n",
              "57  2020-12-13  2020-12-13    432      56500.00     122021\n",
              "58  2020-12-14  2020-12-14    579      80470.00     122021\n",
              "59  2020-12-15  2020-12-15   1442     185226.12     122021\n",
              "60  2020-12-16  2020-12-16   2441     297603.48     122021\n",
              "61  2020-12-17  2020-12-17   1422     155902.01     122021\n",
              "\n",
              "[62 rows x 5 columns]"
            ]
          },
          "execution_count": 22,
          "metadata": {},
          "output_type": "execute_result"
        }
      ],
      "source": [
        "import pandas as pd\n",
        "import json\n",
        "\n",
        "# File path for the JSON file\n",
        "file_path = file_path_ordem\n",
        "\n",
        "# Load the JSON data\n",
        "with open(file_path, 'r') as file:\n",
        "    data = json.load(file)\n",
        "\n",
        "# Normalize the nested \"source\" column\n",
        "df_ordem = pd.json_normalize(data, 'source', ['project_id'])\n",
        "\n",
        "# Now you have a Pandas DataFrame with flattened data\n",
        "df_ordem"
      ]
    },
    {
      "cell_type": "code",
      "execution_count": 23,
      "metadata": {},
      "outputs": [
        {
          "data": {
            "image/png": "[encoded data removed]",
            "text/plain": [
              "<Figure size 1200x600 with 1 Axes>"
            ]
          },
          "metadata": {},
          "output_type": "display_data"
        }
      ],
      "source": [
        "df = df_ordem\n",
        "\n",
        "# Assuming you have a DataFrame 'df' with columns 'paid_at' and 'total_amount'\n",
        "plt.figure(figsize=(12, 6))  # Set the figure size\n",
        "\n",
        "# Convert the 'paid_at' column to datetime if it's not already\n",
        "df['paid_at'] = pd.to_datetime(df['paid_at'])\n",
        "\n",
        "# Sort the DataFrame by the 'paid_at' column to ensure it's plotted in chronological order\n",
        "df.sort_values(by='paid_at', inplace=True)\n",
        "\n",
        "# Create the line plot\n",
        "plt.plot(df['paid_at'], df['total_amount'], marker='o', linestyle='-')\n",
        "\n",
        "# Customize the plot\n",
        "plt.title('Total Amount by Date')\n",
        "plt.xlabel('Date')\n",
        "plt.ylabel('Total Amount')\n",
        "plt.grid(True)\n",
        "\n",
        "# Rotate the x-axis labels for better readability (optional)\n",
        "plt.xticks(rotation=45)\n",
        "\n",
        "# Show the plot\n",
        "plt.tight_layout()\n",
        "plt.show()\n"
      ]
    },
    {
      "cell_type": "code",
      "execution_count": 24,
      "metadata": {},
      "outputs": [
        {
          "data": {
            "text/html": [
              "<div>\n",
              "<style scoped>\n",
              "    .dataframe tbody tr th:only-of-type {\n",
              "        vertical-align: middle;\n",
              "    }\n",
              "\n",
              "    .dataframe tbody tr th {\n",
              "        vertical-align: top;\n",
              "    }\n",
              "\n",
              "    .dataframe thead th {\n",
              "        text-align: right;\n",
              "    }\n",
              "</style>\n",
              "<table border=\"1\" class=\"dataframe\">\n",
              "  <thead>\n",
              "    <tr style=\"text-align: right;\">\n",
              "      <th></th>\n",
              "      <th>paid_at</th>\n",
              "      <th>created_at</th>\n",
              "      <th>total</th>\n",
              "      <th>total_amount</th>\n",
              "      <th>project_id</th>\n",
              "    </tr>\n",
              "  </thead>\n",
              "  <tbody>\n",
              "    <tr>\n",
              "      <th>0</th>\n",
              "      <td>2020-12-04</td>\n",
              "      <td>2020-12-04</td>\n",
              "      <td>6073</td>\n",
              "      <td>3139564.13</td>\n",
              "      <td>127019</td>\n",
              "    </tr>\n",
              "    <tr>\n",
              "      <th>1</th>\n",
              "      <td>2020-12-05</td>\n",
              "      <td>2020-12-05</td>\n",
              "      <td>1944</td>\n",
              "      <td>946702.23</td>\n",
              "      <td>127019</td>\n",
              "    </tr>\n",
              "    <tr>\n",
              "      <th>2</th>\n",
              "      <td>2020-12-06</td>\n",
              "      <td>2020-12-06</td>\n",
              "      <td>1449</td>\n",
              "      <td>674971.00</td>\n",
              "      <td>127019</td>\n",
              "    </tr>\n",
              "    <tr>\n",
              "      <th>3</th>\n",
              "      <td>2020-12-07</td>\n",
              "      <td>2020-12-07</td>\n",
              "      <td>606</td>\n",
              "      <td>249626.66</td>\n",
              "      <td>127019</td>\n",
              "    </tr>\n",
              "    <tr>\n",
              "      <th>4</th>\n",
              "      <td>2020-12-08</td>\n",
              "      <td>2020-12-08</td>\n",
              "      <td>210</td>\n",
              "      <td>56796.66</td>\n",
              "      <td>127019</td>\n",
              "    </tr>\n",
              "    <tr>\n",
              "      <th>...</th>\n",
              "      <td>...</td>\n",
              "      <td>...</td>\n",
              "      <td>...</td>\n",
              "      <td>...</td>\n",
              "      <td>...</td>\n",
              "    </tr>\n",
              "    <tr>\n",
              "      <th>58</th>\n",
              "      <td>2021-01-31</td>\n",
              "      <td>2021-01-31</td>\n",
              "      <td>659</td>\n",
              "      <td>133481.00</td>\n",
              "      <td>127019</td>\n",
              "    </tr>\n",
              "    <tr>\n",
              "      <th>59</th>\n",
              "      <td>2021-02-01</td>\n",
              "      <td>2021-02-01</td>\n",
              "      <td>1545</td>\n",
              "      <td>316943.41</td>\n",
              "      <td>127019</td>\n",
              "    </tr>\n",
              "    <tr>\n",
              "      <th>60</th>\n",
              "      <td>2021-02-02</td>\n",
              "      <td>2021-02-02</td>\n",
              "      <td>2721</td>\n",
              "      <td>562961.01</td>\n",
              "      <td>127019</td>\n",
              "    </tr>\n",
              "    <tr>\n",
              "      <th>61</th>\n",
              "      <td>2021-02-03</td>\n",
              "      <td>2021-02-03</td>\n",
              "      <td>2220</td>\n",
              "      <td>385996.01</td>\n",
              "      <td>127019</td>\n",
              "    </tr>\n",
              "    <tr>\n",
              "      <th>62</th>\n",
              "      <td>2021-02-09</td>\n",
              "      <td>2021-02-09</td>\n",
              "      <td>4</td>\n",
              "      <td>1330.00</td>\n",
              "      <td>127019</td>\n",
              "    </tr>\n",
              "  </tbody>\n",
              "</table>\n",
              "<p>63 rows × 5 columns</p>\n",
              "</div>"
            ],
            "text/plain": [
              "       paid_at  created_at  total  total_amount project_id\n",
              "0   2020-12-04  2020-12-04   6073    3139564.13     127019\n",
              "1   2020-12-05  2020-12-05   1944     946702.23     127019\n",
              "2   2020-12-06  2020-12-06   1449     674971.00     127019\n",
              "3   2020-12-07  2020-12-07    606     249626.66     127019\n",
              "4   2020-12-08  2020-12-08    210      56796.66     127019\n",
              "..         ...         ...    ...           ...        ...\n",
              "58  2021-01-31  2021-01-31    659     133481.00     127019\n",
              "59  2021-02-01  2021-02-01   1545     316943.41     127019\n",
              "60  2021-02-02  2021-02-02   2721     562961.01     127019\n",
              "61  2021-02-03  2021-02-03   2220     385996.01     127019\n",
              "62  2021-02-09  2021-02-09      4       1330.00     127019\n",
              "\n",
              "[63 rows x 5 columns]"
            ]
          },
          "execution_count": 24,
          "metadata": {},
          "output_type": "execute_result"
        }
      ],
      "source": [
        "import pandas as pd\n",
        "import json\n",
        "\n",
        "# File path for the JSON file\n",
        "file_path = file_path_nerdcastrpg\n",
        "\n",
        "# Load the JSON data\n",
        "with open(file_path, 'r') as file:\n",
        "    data = json.load(file)\n",
        "\n",
        "# Normalize the nested \"source\" column\n",
        "df_nerdcastrpg = pd.json_normalize(data, 'source', ['project_id'])\n",
        "\n",
        "# Now you have a Pandas DataFrame with flattened data\n",
        "df_nerdcastrpg"
      ]
    },
    {
      "cell_type": "code",
      "execution_count": 25,
      "metadata": {},
      "outputs": [
        {
          "data": {
            "image/png": "[encoded data removed]",
            "text/plain": [
              "<Figure size 1200x600 with 1 Axes>"
            ]
          },
          "metadata": {},
          "output_type": "display_data"
        }
      ],
      "source": [
        "df = df_nerdcastrpg\n",
        "\n",
        "# Assuming you have a DataFrame 'df' with columns 'paid_at' and 'total_amount'\n",
        "plt.figure(figsize=(12, 6))  # Set the figure size\n",
        "\n",
        "# Convert the 'paid_at' column to datetime if it's not already\n",
        "df['paid_at'] = pd.to_datetime(df['paid_at'])\n",
        "\n",
        "# Sort the DataFrame by the 'paid_at' column to ensure it's plotted in chronological order\n",
        "df.sort_values(by='paid_at', inplace=True)\n",
        "\n",
        "# Create the line plot\n",
        "plt.plot(df['paid_at'], df['total_amount'], marker='o', linestyle='-')\n",
        "\n",
        "# Customize the plot\n",
        "plt.title('Total Amount by Date')\n",
        "plt.xlabel('Date')\n",
        "plt.ylabel('Total Amount')\n",
        "plt.grid(True)\n",
        "\n",
        "# Rotate the x-axis labels for better readability (optional)\n",
        "plt.xticks(rotation=45)\n",
        "\n",
        "# Show the plot\n",
        "plt.tight_layout()\n",
        "plt.show()\n"
      ]
    },
    {
      "cell_type": "code",
      "execution_count": 26,
      "metadata": {},
      "outputs": [
        {
          "data": {
            "image/png": "[encoded data removed]",
            "text/plain": [
              "<Figure size 1800x600 with 2 Axes>"
            ]
          },
          "metadata": {},
          "output_type": "display_data"
        }
      ],
      "source": [
        "import pandas as pd\n",
        "import matplotlib.pyplot as plt\n",
        "\n",
        "# Assuming you have DataFrames 'df_ordem' and 'df_nerdcastrpg' with columns 'paid_at' and 'total_amount'\n",
        "\n",
        "# Create subplots with 1 row and 2 columns\n",
        "fig, axes = plt.subplots(1, 2, figsize=(18, 6))\n",
        "\n",
        "# Plot for df_ordem\n",
        "df_ordem['paid_at'] = pd.to_datetime(df_ordem['paid_at'])\n",
        "df_ordem.sort_values(by='paid_at', inplace=True)\n",
        "axes[0].plot(df_ordem['paid_at'], df_ordem['total_amount'], marker='o', linestyle='-')\n",
        "axes[0].set_title('Total Amount by Date (df_ordem)')\n",
        "axes[0].set_xlabel('Date')\n",
        "axes[0].set_ylabel('Total Amount')\n",
        "axes[0].grid(True)\n",
        "axes[0].tick_params(rotation=45)\n",
        "\n",
        "# Plot for df_nerdcastrpg\n",
        "df_nerdcastrpg['paid_at'] = pd.to_datetime(df_nerdcastrpg['paid_at'])\n",
        "df_nerdcastrpg.sort_values(by='paid_at', inplace=True)\n",
        "axes[1].plot(df_nerdcastrpg['paid_at'], df_nerdcastrpg['total_amount'], marker='o', linestyle='-')\n",
        "axes[1].set_title('Total Amount by Date (df_nerdcastrpg)')\n",
        "axes[1].set_xlabel('Date')\n",
        "axes[1].set_ylabel('Total Amount')\n",
        "axes[1].grid(True)\n",
        "axes[1].tick_params(rotation=45)\n",
        "\n",
        "# Adjust layout\n",
        "plt.tight_layout()\n",
        "\n",
        "# Show the combined plot\n",
        "plt.show()\n"
      ]
    },
    {
      "cell_type": "code",
      "execution_count": 27,
      "metadata": {},
      "outputs": [
        {
          "data": {
            "image/png": "[encoded data removed]",
            "text/plain": [
              "<Figure size 640x480 with 1 Axes>"
            ]
          },
          "metadata": {},
          "output_type": "display_data"
        }
      ],
      "source": [
        "import pandas as pd\n",
        "import matplotlib.pyplot as plt\n",
        "\n",
        "# Assuming you have DataFrames 'df_ordem' and 'df_nerdcastrpg' with columns 'paid_at' and 'total_amount'\n",
        "\n",
        "# Convert the 'paid_at' column to datetime if it's not already\n",
        "df_ordem['paid_at'] = pd.to_datetime(df_ordem['paid_at'])\n",
        "df_nerdcastrpg['paid_at'] = pd.to_datetime(df_nerdcastrpg['paid_at'])\n",
        "\n",
        "# Sort the DataFrames by the 'paid_at' column to ensure they're plotted in chronological order\n",
        "df_ordem.sort_values(by='paid_at', inplace=True)\n",
        "df_nerdcastrpg.sort_values(by='paid_at', inplace=True)\n",
        "\n",
        "# Create the line plot for df_ordem (blue color)\n",
        "plt.plot(df_ordem['paid_at'], df_ordem['total_amount'], marker='o', linestyle='-', label='df_ordem', color='blue')\n",
        "\n",
        "# Create the line plot for df_nerdcastrpg (red color)\n",
        "plt.plot(df_nerdcastrpg['paid_at'], df_nerdcastrpg['total_amount'], marker='o', linestyle='-', label='df_nerdcastrpg', color='red')\n",
        "\n",
        "# Customize the plot\n",
        "plt.title('Total Amount by Date')\n",
        "plt.xlabel('Date')\n",
        "plt.ylabel('Total Amount')\n",
        "plt.grid(True)\n",
        "plt.xticks(rotation=45)\n",
        "\n",
        "# Add a legend to differentiate the lines\n",
        "plt.legend()\n",
        "\n",
        "# Show the plot\n",
        "plt.tight_layout()\n",
        "plt.show()\n"
      ]
    },
    {
      "cell_type": "code",
      "execution_count": 28,
      "metadata": {},
      "outputs": [
        {
          "data": {
            "text/html": [
              "<div>\n",
              "<style scoped>\n",
              "    .dataframe tbody tr th:only-of-type {\n",
              "        vertical-align: middle;\n",
              "    }\n",
              "\n",
              "    .dataframe tbody tr th {\n",
              "        vertical-align: top;\n",
              "    }\n",
              "\n",
              "    .dataframe thead th {\n",
              "        text-align: right;\n",
              "    }\n",
              "</style>\n",
              "<table border=\"1\" class=\"dataframe\">\n",
              "  <thead>\n",
              "    <tr style=\"text-align: right;\">\n",
              "      <th></th>\n",
              "      <th>paid_at</th>\n",
              "      <th>created_at</th>\n",
              "      <th>total</th>\n",
              "      <th>total_amount</th>\n",
              "      <th>project_id</th>\n",
              "      <th>days_from_start</th>\n",
              "    </tr>\n",
              "  </thead>\n",
              "  <tbody>\n",
              "    <tr>\n",
              "      <th>0</th>\n",
              "      <td>2020-12-04</td>\n",
              "      <td>2020-12-04</td>\n",
              "      <td>6073</td>\n",
              "      <td>3139564.13</td>\n",
              "      <td>127019</td>\n",
              "      <td>0</td>\n",
              "    </tr>\n",
              "    <tr>\n",
              "      <th>1</th>\n",
              "      <td>2020-12-05</td>\n",
              "      <td>2020-12-05</td>\n",
              "      <td>1944</td>\n",
              "      <td>946702.23</td>\n",
              "      <td>127019</td>\n",
              "      <td>1</td>\n",
              "    </tr>\n",
              "    <tr>\n",
              "      <th>2</th>\n",
              "      <td>2020-12-06</td>\n",
              "      <td>2020-12-06</td>\n",
              "      <td>1449</td>\n",
              "      <td>674971.00</td>\n",
              "      <td>127019</td>\n",
              "      <td>2</td>\n",
              "    </tr>\n",
              "    <tr>\n",
              "      <th>3</th>\n",
              "      <td>2020-12-07</td>\n",
              "      <td>2020-12-07</td>\n",
              "      <td>606</td>\n",
              "      <td>249626.66</td>\n",
              "      <td>127019</td>\n",
              "      <td>3</td>\n",
              "    </tr>\n",
              "    <tr>\n",
              "      <th>4</th>\n",
              "      <td>2020-12-08</td>\n",
              "      <td>2020-12-08</td>\n",
              "      <td>210</td>\n",
              "      <td>56796.66</td>\n",
              "      <td>127019</td>\n",
              "      <td>4</td>\n",
              "    </tr>\n",
              "    <tr>\n",
              "      <th>...</th>\n",
              "      <td>...</td>\n",
              "      <td>...</td>\n",
              "      <td>...</td>\n",
              "      <td>...</td>\n",
              "      <td>...</td>\n",
              "      <td>...</td>\n",
              "    </tr>\n",
              "    <tr>\n",
              "      <th>58</th>\n",
              "      <td>2021-01-31</td>\n",
              "      <td>2021-01-31</td>\n",
              "      <td>659</td>\n",
              "      <td>133481.00</td>\n",
              "      <td>127019</td>\n",
              "      <td>58</td>\n",
              "    </tr>\n",
              "    <tr>\n",
              "      <th>59</th>\n",
              "      <td>2021-02-01</td>\n",
              "      <td>2021-02-01</td>\n",
              "      <td>1545</td>\n",
              "      <td>316943.41</td>\n",
              "      <td>127019</td>\n",
              "      <td>59</td>\n",
              "    </tr>\n",
              "    <tr>\n",
              "      <th>60</th>\n",
              "      <td>2021-02-02</td>\n",
              "      <td>2021-02-02</td>\n",
              "      <td>2721</td>\n",
              "      <td>562961.01</td>\n",
              "      <td>127019</td>\n",
              "      <td>60</td>\n",
              "    </tr>\n",
              "    <tr>\n",
              "      <th>61</th>\n",
              "      <td>2021-02-03</td>\n",
              "      <td>2021-02-03</td>\n",
              "      <td>2220</td>\n",
              "      <td>385996.01</td>\n",
              "      <td>127019</td>\n",
              "      <td>61</td>\n",
              "    </tr>\n",
              "    <tr>\n",
              "      <th>62</th>\n",
              "      <td>2021-02-09</td>\n",
              "      <td>2021-02-09</td>\n",
              "      <td>4</td>\n",
              "      <td>1330.00</td>\n",
              "      <td>127019</td>\n",
              "      <td>67</td>\n",
              "    </tr>\n",
              "  </tbody>\n",
              "</table>\n",
              "<p>63 rows × 6 columns</p>\n",
              "</div>"
            ],
            "text/plain": [
              "      paid_at  created_at  total  total_amount project_id  days_from_start\n",
              "0  2020-12-04  2020-12-04   6073    3139564.13     127019                0\n",
              "1  2020-12-05  2020-12-05   1944     946702.23     127019                1\n",
              "2  2020-12-06  2020-12-06   1449     674971.00     127019                2\n",
              "3  2020-12-07  2020-12-07    606     249626.66     127019                3\n",
              "4  2020-12-08  2020-12-08    210      56796.66     127019                4\n",
              "..        ...         ...    ...           ...        ...              ...\n",
              "58 2021-01-31  2021-01-31    659     133481.00     127019               58\n",
              "59 2021-02-01  2021-02-01   1545     316943.41     127019               59\n",
              "60 2021-02-02  2021-02-02   2721     562961.01     127019               60\n",
              "61 2021-02-03  2021-02-03   2220     385996.01     127019               61\n",
              "62 2021-02-09  2021-02-09      4       1330.00     127019               67\n",
              "\n",
              "[63 rows x 6 columns]"
            ]
          },
          "execution_count": 28,
          "metadata": {},
          "output_type": "execute_result"
        }
      ],
      "source": [
        "# Convert 'paid_at' column to datetime\n",
        "df_nerdcastrpg['paid_at'] = pd.to_datetime(df_nerdcastrpg['paid_at'])\n",
        "\n",
        "# Calculate the number of days from the start date\n",
        "start_date = df_nerdcastrpg['paid_at'].min()  # Get the minimum date as the start date\n",
        "df_nerdcastrpg['days_from_start'] = (df_nerdcastrpg['paid_at'] - start_date).dt.days\n",
        "\n",
        "df_nerdcastrpg\n"
      ]
    },
    {
      "cell_type": "code",
      "execution_count": 29,
      "metadata": {},
      "outputs": [
        {
          "data": {
            "text/html": [
              "<div>\n",
              "<style scoped>\n",
              "    .dataframe tbody tr th:only-of-type {\n",
              "        vertical-align: middle;\n",
              "    }\n",
              "\n",
              "    .dataframe tbody tr th {\n",
              "        vertical-align: top;\n",
              "    }\n",
              "\n",
              "    .dataframe thead th {\n",
              "        text-align: right;\n",
              "    }\n",
              "</style>\n",
              "<table border=\"1\" class=\"dataframe\">\n",
              "  <thead>\n",
              "    <tr style=\"text-align: right;\">\n",
              "      <th></th>\n",
              "      <th>paid_at</th>\n",
              "      <th>created_at</th>\n",
              "      <th>total</th>\n",
              "      <th>total_amount</th>\n",
              "      <th>project_id</th>\n",
              "      <th>days_from_start</th>\n",
              "    </tr>\n",
              "  </thead>\n",
              "  <tbody>\n",
              "    <tr>\n",
              "      <th>0</th>\n",
              "      <td>2020-10-17</td>\n",
              "      <td>2020-10-17</td>\n",
              "      <td>3007</td>\n",
              "      <td>524949.27</td>\n",
              "      <td>122021</td>\n",
              "      <td>0</td>\n",
              "    </tr>\n",
              "    <tr>\n",
              "      <th>1</th>\n",
              "      <td>2020-10-18</td>\n",
              "      <td>2020-10-18</td>\n",
              "      <td>5652</td>\n",
              "      <td>648096.97</td>\n",
              "      <td>122021</td>\n",
              "      <td>1</td>\n",
              "    </tr>\n",
              "    <tr>\n",
              "      <th>2</th>\n",
              "      <td>2020-10-19</td>\n",
              "      <td>2020-10-19</td>\n",
              "      <td>2174</td>\n",
              "      <td>256318.27</td>\n",
              "      <td>122021</td>\n",
              "      <td>2</td>\n",
              "    </tr>\n",
              "    <tr>\n",
              "      <th>3</th>\n",
              "      <td>2020-10-20</td>\n",
              "      <td>2020-10-20</td>\n",
              "      <td>2503</td>\n",
              "      <td>319434.94</td>\n",
              "      <td>122021</td>\n",
              "      <td>3</td>\n",
              "    </tr>\n",
              "    <tr>\n",
              "      <th>4</th>\n",
              "      <td>2020-10-21</td>\n",
              "      <td>2020-10-21</td>\n",
              "      <td>1404</td>\n",
              "      <td>175432.50</td>\n",
              "      <td>122021</td>\n",
              "      <td>4</td>\n",
              "    </tr>\n",
              "    <tr>\n",
              "      <th>...</th>\n",
              "      <td>...</td>\n",
              "      <td>...</td>\n",
              "      <td>...</td>\n",
              "      <td>...</td>\n",
              "      <td>...</td>\n",
              "      <td>...</td>\n",
              "    </tr>\n",
              "    <tr>\n",
              "      <th>57</th>\n",
              "      <td>2020-12-13</td>\n",
              "      <td>2020-12-13</td>\n",
              "      <td>432</td>\n",
              "      <td>56500.00</td>\n",
              "      <td>122021</td>\n",
              "      <td>57</td>\n",
              "    </tr>\n",
              "    <tr>\n",
              "      <th>58</th>\n",
              "      <td>2020-12-14</td>\n",
              "      <td>2020-12-14</td>\n",
              "      <td>579</td>\n",
              "      <td>80470.00</td>\n",
              "      <td>122021</td>\n",
              "      <td>58</td>\n",
              "    </tr>\n",
              "    <tr>\n",
              "      <th>59</th>\n",
              "      <td>2020-12-15</td>\n",
              "      <td>2020-12-15</td>\n",
              "      <td>1442</td>\n",
              "      <td>185226.12</td>\n",
              "      <td>122021</td>\n",
              "      <td>59</td>\n",
              "    </tr>\n",
              "    <tr>\n",
              "      <th>60</th>\n",
              "      <td>2020-12-16</td>\n",
              "      <td>2020-12-16</td>\n",
              "      <td>2441</td>\n",
              "      <td>297603.48</td>\n",
              "      <td>122021</td>\n",
              "      <td>60</td>\n",
              "    </tr>\n",
              "    <tr>\n",
              "      <th>61</th>\n",
              "      <td>2020-12-17</td>\n",
              "      <td>2020-12-17</td>\n",
              "      <td>1422</td>\n",
              "      <td>155902.01</td>\n",
              "      <td>122021</td>\n",
              "      <td>61</td>\n",
              "    </tr>\n",
              "  </tbody>\n",
              "</table>\n",
              "<p>62 rows × 6 columns</p>\n",
              "</div>"
            ],
            "text/plain": [
              "      paid_at  created_at  total  total_amount project_id  days_from_start\n",
              "0  2020-10-17  2020-10-17   3007     524949.27     122021                0\n",
              "1  2020-10-18  2020-10-18   5652     648096.97     122021                1\n",
              "2  2020-10-19  2020-10-19   2174     256318.27     122021                2\n",
              "3  2020-10-20  2020-10-20   2503     319434.94     122021                3\n",
              "4  2020-10-21  2020-10-21   1404     175432.50     122021                4\n",
              "..        ...         ...    ...           ...        ...              ...\n",
              "57 2020-12-13  2020-12-13    432      56500.00     122021               57\n",
              "58 2020-12-14  2020-12-14    579      80470.00     122021               58\n",
              "59 2020-12-15  2020-12-15   1442     185226.12     122021               59\n",
              "60 2020-12-16  2020-12-16   2441     297603.48     122021               60\n",
              "61 2020-12-17  2020-12-17   1422     155902.01     122021               61\n",
              "\n",
              "[62 rows x 6 columns]"
            ]
          },
          "execution_count": 29,
          "metadata": {},
          "output_type": "execute_result"
        }
      ],
      "source": [
        "# Convert 'paid_at' column to datetime\n",
        "df_ordem['paid_at'] = pd.to_datetime(df_ordem['paid_at'])\n",
        "\n",
        "# Calculate the number of days from the start date\n",
        "start_date = df_ordem['paid_at'].min()  # Get the minimum date as the start date\n",
        "df_ordem['days_from_start'] = (df_ordem['paid_at'] - start_date).dt.days\n",
        "\n",
        "df_ordem\n"
      ]
    },
    {
      "cell_type": "markdown",
      "metadata": {},
      "source": [
        "# Comaparando as 3 campanhas"
      ]
    },
    {
      "cell_type": "code",
      "execution_count": 30,
      "metadata": {},
      "outputs": [
        {
          "data": {
            "image/png": "[encoded data removed]",
            "text/plain": [
              "<Figure size 1000x600 with 1 Axes>"
            ]
          },
          "metadata": {},
          "output_type": "display_data"
        }
      ],
      "source": [
        "import matplotlib.pyplot as plt\n",
        "\n",
        "# Assuming you have two DataFrames named df_ordem and df_nerdcastrpg\n",
        "\n",
        "# Plotting df_ordem\n",
        "plt.figure(figsize=(10, 6))\n",
        "plt.plot(df_ordem['days_from_start'], df_ordem['total_amount'], label='Ordem Paranormal', marker='o')\n",
        "\n",
        "# Plotting df_nerdcastrpg\n",
        "plt.plot(df_nerdcastrpg['days_from_start'], df_nerdcastrpg['total_amount'], label='Coleção Cthulhu', marker='x')\n",
        "\n",
        "plt.plot(df_grouped['days_from_start'], df_grouped['total_amount'], label='Tesouros de Ghanor', marker='D')\n",
        "\n",
        "plt.xlabel('Days from Start')\n",
        "plt.ylabel('Total Amount')\n",
        "plt.title('Total Amount by Day vs. Days from Start')\n",
        "plt.legend()\n",
        "plt.grid(True)\n",
        "\n",
        "plt.show()\n"
      ]
    },
    {
      "cell_type": "code",
      "execution_count": 32,
      "metadata": {},
      "outputs": [
        {
          "data": {
            "application/vnd.plotly.v1+json": {
              "config": {
                "plotlyServerURL": "https://plot.ly"
              },
              "data": [
                {
                  "mode": "lines+markers",
                  "name": "Ordem Paranormal",
                  "type": "scatter",
                  "x": [
                    0,
                    1,
                    2,
                    3,
                    4,
                    5,
                    6,
                    7,
                    8,
                    9,
                    10,
                    11,
                    12,
                    13,
                    14,
                    15,
                    16,
                    17,
                    18,
                    19,
                    20,
                    21,
                    22,
                    23,
                    24,
                    25,
                    26,
                    27,
                    28,
                    29,
                    30,
                    31,
                    32,
                    33,
                    34,
                    35,
                    36,
                    37,
                    38,
                    39,
                    40,
                    41,
                    42,
                    43,
                    44,
                    45,
                    46,
                    47,
                    48,
                    49,
                    50,
                    51,
                    52,
                    53,
                    54,
                    55,
                    56,
                    57,
                    58,
                    59,
                    60,
                    61
                  ],
                  "y": [
                    524949.27,
                    648096.97,
                    256318.27,
                    319434.94,
                    175432.5,
                    170826.69,
                    115220.01,
                    42552.01,
                    38753,
                    43876,
                    32736.5,
                    26780.01,
                    27451,
                    31700,
                    25045,
                    33665,
                    29350,
                    28480.01,
                    25550,
                    28818.67,
                    24300,
                    16000,
                    20952,
                    24140,
                    20520,
                    17300.01,
                    14744,
                    18981,
                    10860,
                    14700,
                    12165,
                    17030,
                    11650,
                    11855,
                    15805.21,
                    10990,
                    13940,
                    15070,
                    14250,
                    13730,
                    15390,
                    15650,
                    13600,
                    12960,
                    24830.01,
                    27587,
                    25851,
                    18200,
                    33530,
                    26645.09,
                    35931,
                    39240,
                    37240,
                    44600,
                    46760,
                    50856,
                    44881,
                    56500,
                    80470,
                    185226.12,
                    297603.48,
                    155902.01
                  ]
                },
                {
                  "mode": "lines+markers",
                  "name": "Coleção Cthulhu",
                  "type": "scatter",
                  "x": [
                    0,
                    1,
                    2,
                    3,
                    4,
                    5,
                    6,
                    7,
                    8,
                    9,
                    10,
                    11,
                    12,
                    13,
                    14,
                    15,
                    16,
                    17,
                    18,
                    19,
                    20,
                    21,
                    22,
                    23,
                    24,
                    25,
                    26,
                    27,
                    28,
                    29,
                    30,
                    31,
                    32,
                    33,
                    34,
                    35,
                    36,
                    37,
                    38,
                    39,
                    40,
                    41,
                    42,
                    43,
                    44,
                    45,
                    46,
                    47,
                    48,
                    49,
                    50,
                    51,
                    52,
                    53,
                    54,
                    55,
                    56,
                    57,
                    58,
                    59,
                    60,
                    61,
                    67
                  ],
                  "y": [
                    3139564.13,
                    946702.23,
                    674971,
                    249626.66,
                    56796.66,
                    114815.66,
                    41460.07,
                    71251,
                    54980,
                    16685,
                    16630,
                    27990,
                    97100,
                    29660.12,
                    19085,
                    14632,
                    17260,
                    21880.9,
                    15665,
                    14170,
                    20896,
                    29400,
                    22300,
                    19535,
                    12285,
                    22875,
                    20950,
                    20965,
                    9355,
                    12825,
                    9010,
                    22895,
                    28635,
                    22460,
                    29865,
                    24760,
                    24690,
                    21280,
                    19360.01,
                    17370,
                    47625,
                    29940,
                    31150,
                    19565,
                    12595,
                    25425.99,
                    23945.66,
                    37415,
                    42072,
                    50470.66,
                    49215,
                    28565,
                    50485,
                    83920,
                    102790,
                    125645,
                    195085.04,
                    113885.01,
                    133481,
                    316943.41,
                    562961.01,
                    385996.01,
                    1330
                  ]
                },
                {
                  "mode": "lines+markers",
                  "name": "Tesouros de Ghanor",
                  "type": "scatter",
                  "x": [
                    0,
                    1,
                    2,
                    3,
                    4,
                    5,
                    6,
                    7,
                    8,
                    9,
                    10,
                    11,
                    12,
                    13,
                    14,
                    15,
                    16,
                    17,
                    18,
                    19,
                    20,
                    21,
                    22,
                    23,
                    24,
                    25,
                    26,
                    27,
                    28,
                    29,
                    30,
                    31,
                    32,
                    33,
                    34
                  ],
                  "y": [
                    3000000,
                    880107,
                    1148024,
                    111710,
                    310606,
                    60209,
                    74271,
                    40006,
                    36785,
                    18251,
                    54020,
                    29379,
                    35929,
                    20008,
                    53267,
                    19176,
                    28528,
                    29914,
                    35546,
                    85628,
                    51915,
                    74930,
                    82934,
                    189388,
                    35391,
                    32283,
                    191970,
                    74235,
                    72479,
                    62846,
                    94193,
                    140285,
                    265346,
                    230316,
                    39486
                  ]
                }
              ],
              "layout": {
                "template": {
                  "data": {
                    "bar": [
                      {
                        "error_x": {
                          "color": "#2a3f5f"
                        },
                        "error_y": {
                          "color": "#2a3f5f"
                        },
                        "marker": {
                          "line": {
                            "color": "#E5ECF6",
                            "width": 0.5
                          },
                          "pattern": {
                            "fillmode": "overlay",
                            "size": 10,
                            "solidity": 0.2
                          }
                        },
                        "type": "bar"
                      }
                    ],
                    "barpolar": [
                      {
                        "marker": {
                          "line": {
                            "color": "#E5ECF6",
                            "width": 0.5
                          },
                          "pattern": {
                            "fillmode": "overlay",
                            "size": 10,
                            "solidity": 0.2
                          }
                        },
                        "type": "barpolar"
                      }
                    ],
                    "carpet": [
                      {
                        "aaxis": {
                          "endlinecolor": "#2a3f5f",
                          "gridcolor": "white",
                          "linecolor": "white",
                          "minorgridcolor": "white",
                          "startlinecolor": "#2a3f5f"
                        },
                        "baxis": {
                          "endlinecolor": "#2a3f5f",
                          "gridcolor": "white",
                          "linecolor": "white",
                          "minorgridcolor": "white",
                          "startlinecolor": "#2a3f5f"
                        },
                        "type": "carpet"
                      }
                    ],
                    "choropleth": [
                      {
                        "colorbar": {
                          "outlinewidth": 0,
                          "ticks": ""
                        },
                        "type": "choropleth"
                      }
                    ],
                    "contour": [
                      {
                        "colorbar": {
                          "outlinewidth": 0,
                          "ticks": ""
                        },
                        "colorscale": [
                          [
                            0,
                            "#0d0887"
                          ],
                          [
                            0.1111111111111111,
                            "#46039f"
                          ],
                          [
                            0.2222222222222222,
                            "#7201a8"
                          ],
                          [
                            0.3333333333333333,
                            "#9c179e"
                          ],
                          [
                            0.4444444444444444,
                            "#bd3786"
                          ],
                          [
                            0.5555555555555556,
                            "#d8576b"
                          ],
                          [
                            0.6666666666666666,
                            "#ed7953"
                          ],
                          [
                            0.7777777777777778,
                            "#fb9f3a"
                          ],
                          [
                            0.8888888888888888,
                            "#fdca26"
                          ],
                          [
                            1,
                            "#f0f921"
                          ]
                        ],
                        "type": "contour"
                      }
                    ],
                    "contourcarpet": [
                      {
                        "colorbar": {
                          "outlinewidth": 0,
                          "ticks": ""
                        },
                        "type": "contourcarpet"
                      }
                    ],
                    "heatmap": [
                      {
                        "colorbar": {
                          "outlinewidth": 0,
                          "ticks": ""
                        },
                        "colorscale": [
                          [
                            0,
                            "#0d0887"
                          ],
                          [
                            0.1111111111111111,
                            "#46039f"
                          ],
                          [
                            0.2222222222222222,
                            "#7201a8"
                          ],
                          [
                            0.3333333333333333,
                            "#9c179e"
                          ],
                          [
                            0.4444444444444444,
                            "#bd3786"
                          ],
                          [
                            0.5555555555555556,
                            "#d8576b"
                          ],
                          [
                            0.6666666666666666,
                            "#ed7953"
                          ],
                          [
                            0.7777777777777778,
                            "#fb9f3a"
                          ],
                          [
                            0.8888888888888888,
                            "#fdca26"
                          ],
                          [
                            1,
                            "#f0f921"
                          ]
                        ],
                        "type": "heatmap"
                      }
                    ],
                    "heatmapgl": [
                      {
                        "colorbar": {
                          "outlinewidth": 0,
                          "ticks": ""
                        },
                        "colorscale": [
                          [
                            0,
                            "#0d0887"
                          ],
                          [
                            0.1111111111111111,
                            "#46039f"
                          ],
                          [
                            0.2222222222222222,
                            "#7201a8"
                          ],
                          [
                            0.3333333333333333,
                            "#9c179e"
                          ],
                          [
                            0.4444444444444444,
                            "#bd3786"
                          ],
                          [
                            0.5555555555555556,
                            "#d8576b"
                          ],
                          [
                            0.6666666666666666,
                            "#ed7953"
                          ],
                          [
                            0.7777777777777778,
                            "#fb9f3a"
                          ],
                          [
                            0.8888888888888888,
                            "#fdca26"
                          ],
                          [
                            1,
                            "#f0f921"
                          ]
                        ],
                        "type": "heatmapgl"
                      }
                    ],
                    "histogram": [
                      {
                        "marker": {
                          "pattern": {
                            "fillmode": "overlay",
                            "size": 10,
                            "solidity": 0.2
                          }
                        },
                        "type": "histogram"
                      }
                    ],
                    "histogram2d": [
                      {
                        "colorbar": {
                          "outlinewidth": 0,
                          "ticks": ""
                        },
                        "colorscale": [
                          [
                            0,
                            "#0d0887"
                          ],
                          [
                            0.1111111111111111,
                            "#46039f"
                          ],
                          [
                            0.2222222222222222,
                            "#7201a8"
                          ],
                          [
                            0.3333333333333333,
                            "#9c179e"
                          ],
                          [
                            0.4444444444444444,
                            "#bd3786"
                          ],
                          [
                            0.5555555555555556,
                            "#d8576b"
                          ],
                          [
                            0.6666666666666666,
                            "#ed7953"
                          ],
                          [
                            0.7777777777777778,
                            "#fb9f3a"
                          ],
                          [
                            0.8888888888888888,
                            "#fdca26"
                          ],
                          [
                            1,
                            "#f0f921"
                          ]
                        ],
                        "type": "histogram2d"
                      }
                    ],
                    "histogram2dcontour": [
                      {
                        "colorbar": {
                          "outlinewidth": 0,
                          "ticks": ""
                        },
                        "colorscale": [
                          [
                            0,
                            "#0d0887"
                          ],
                          [
                            0.1111111111111111,
                            "#46039f"
                          ],
                          [
                            0.2222222222222222,
                            "#7201a8"
                          ],
                          [
                            0.3333333333333333,
                            "#9c179e"
                          ],
                          [
                            0.4444444444444444,
                            "#bd3786"
                          ],
                          [
                            0.5555555555555556,
                            "#d8576b"
                          ],
                          [
                            0.6666666666666666,
                            "#ed7953"
                          ],
                          [
                            0.7777777777777778,
                            "#fb9f3a"
                          ],
                          [
                            0.8888888888888888,
                            "#fdca26"
                          ],
                          [
                            1,
                            "#f0f921"
                          ]
                        ],
                        "type": "histogram2dcontour"
                      }
                    ],
                    "mesh3d": [
                      {
                        "colorbar": {
                          "outlinewidth": 0,
                          "ticks": ""
                        },
                        "type": "mesh3d"
                      }
                    ],
                    "parcoords": [
                      {
                        "line": {
                          "colorbar": {
                            "outlinewidth": 0,
                            "ticks": ""
                          }
                        },
                        "type": "parcoords"
                      }
                    ],
                    "pie": [
                      {
                        "automargin": true,
                        "type": "pie"
                      }
                    ],
                    "scatter": [
                      {
                        "fillpattern": {
                          "fillmode": "overlay",
                          "size": 10,
                          "solidity": 0.2
                        },
                        "type": "scatter"
                      }
                    ],
                    "scatter3d": [
                      {
                        "line": {
                          "colorbar": {
                            "outlinewidth": 0,
                            "ticks": ""
                          }
                        },
                        "marker": {
                          "colorbar": {
                            "outlinewidth": 0,
                            "ticks": ""
                          }
                        },
                        "type": "scatter3d"
                      }
                    ],
                    "scattercarpet": [
                      {
                        "marker": {
                          "colorbar": {
                            "outlinewidth": 0,
                            "ticks": ""
                          }
                        },
                        "type": "scattercarpet"
                      }
                    ],
                    "scattergeo": [
                      {
                        "marker": {
                          "colorbar": {
                            "outlinewidth": 0,
                            "ticks": ""
                          }
                        },
                        "type": "scattergeo"
                      }
                    ],
                    "scattergl": [
                      {
                        "marker": {
                          "colorbar": {
                            "outlinewidth": 0,
                            "ticks": ""
                          }
                        },
                        "type": "scattergl"
                      }
                    ],
                    "scattermapbox": [
                      {
                        "marker": {
                          "colorbar": {
                            "outlinewidth": 0,
                            "ticks": ""
                          }
                        },
                        "type": "scattermapbox"
                      }
                    ],
                    "scatterpolar": [
                      {
                        "marker": {
                          "colorbar": {
                            "outlinewidth": 0,
                            "ticks": ""
                          }
                        },
                        "type": "scatterpolar"
                      }
                    ],
                    "scatterpolargl": [
                      {
                        "marker": {
                          "colorbar": {
                            "outlinewidth": 0,
                            "ticks": ""
                          }
                        },
                        "type": "scatterpolargl"
                      }
                    ],
                    "scatterternary": [
                      {
                        "marker": {
                          "colorbar": {
                            "outlinewidth": 0,
                            "ticks": ""
                          }
                        },
                        "type": "scatterternary"
                      }
                    ],
                    "surface": [
                      {
                        "colorbar": {
                          "outlinewidth": 0,
                          "ticks": ""
                        },
                        "colorscale": [
                          [
                            0,
                            "#0d0887"
                          ],
                          [
                            0.1111111111111111,
                            "#46039f"
                          ],
                          [
                            0.2222222222222222,
                            "#7201a8"
                          ],
                          [
                            0.3333333333333333,
                            "#9c179e"
                          ],
                          [
                            0.4444444444444444,
                            "#bd3786"
                          ],
                          [
                            0.5555555555555556,
                            "#d8576b"
                          ],
                          [
                            0.6666666666666666,
                            "#ed7953"
                          ],
                          [
                            0.7777777777777778,
                            "#fb9f3a"
                          ],
                          [
                            0.8888888888888888,
                            "#fdca26"
                          ],
                          [
                            1,
                            "#f0f921"
                          ]
                        ],
                        "type": "surface"
                      }
                    ],
                    "table": [
                      {
                        "cells": {
                          "fill": {
                            "color": "#EBF0F8"
                          },
                          "line": {
                            "color": "white"
                          }
                        },
                        "header": {
                          "fill": {
                            "color": "#C8D4E3"
                          },
                          "line": {
                            "color": "white"
                          }
                        },
                        "type": "table"
                      }
                    ]
                  },
                  "layout": {
                    "annotationdefaults": {
                      "arrowcolor": "#2a3f5f",
                      "arrowhead": 0,
                      "arrowwidth": 1
                    },
                    "autotypenumbers": "strict",
                    "coloraxis": {
                      "colorbar": {
                        "outlinewidth": 0,
                        "ticks": ""
                      }
                    },
                    "colorscale": {
                      "diverging": [
                        [
                          0,
                          "#8e0152"
                        ],
                        [
                          0.1,
                          "#c51b7d"
                        ],
                        [
                          0.2,
                          "#de77ae"
                        ],
                        [
                          0.3,
                          "#f1b6da"
                        ],
                        [
                          0.4,
                          "#fde0ef"
                        ],
                        [
                          0.5,
                          "#f7f7f7"
                        ],
                        [
                          0.6,
                          "#e6f5d0"
                        ],
                        [
                          0.7,
                          "#b8e186"
                        ],
                        [
                          0.8,
                          "#7fbc41"
                        ],
                        [
                          0.9,
                          "#4d9221"
                        ],
                        [
                          1,
                          "#276419"
                        ]
                      ],
                      "sequential": [
                        [
                          0,
                          "#0d0887"
                        ],
                        [
                          0.1111111111111111,
                          "#46039f"
                        ],
                        [
                          0.2222222222222222,
                          "#7201a8"
                        ],
                        [
                          0.3333333333333333,
                          "#9c179e"
                        ],
                        [
                          0.4444444444444444,
                          "#bd3786"
                        ],
                        [
                          0.5555555555555556,
                          "#d8576b"
                        ],
                        [
                          0.6666666666666666,
                          "#ed7953"
                        ],
                        [
                          0.7777777777777778,
                          "#fb9f3a"
                        ],
                        [
                          0.8888888888888888,
                          "#fdca26"
                        ],
                        [
                          1,
                          "#f0f921"
                        ]
                      ],
                      "sequentialminus": [
                        [
                          0,
                          "#0d0887"
                        ],
                        [
                          0.1111111111111111,
                          "#46039f"
                        ],
                        [
                          0.2222222222222222,
                          "#7201a8"
                        ],
                        [
                          0.3333333333333333,
                          "#9c179e"
                        ],
                        [
                          0.4444444444444444,
                          "#bd3786"
                        ],
                        [
                          0.5555555555555556,
                          "#d8576b"
                        ],
                        [
                          0.6666666666666666,
                          "#ed7953"
                        ],
                        [
                          0.7777777777777778,
                          "#fb9f3a"
                        ],
                        [
                          0.8888888888888888,
                          "#fdca26"
                        ],
                        [
                          1,
                          "#f0f921"
                        ]
                      ]
                    },
                    "colorway": [
                      "#636efa",
                      "#EF553B",
                      "#00cc96",
                      "#ab63fa",
                      "#FFA15A",
                      "#19d3f3",
                      "#FF6692",
                      "#B6E880",
                      "#FF97FF",
                      "#FECB52"
                    ],
                    "font": {
                      "color": "#2a3f5f"
                    },
                    "geo": {
                      "bgcolor": "white",
                      "lakecolor": "white",
                      "landcolor": "#E5ECF6",
                      "showlakes": true,
                      "showland": true,
                      "subunitcolor": "white"
                    },
                    "hoverlabel": {
                      "align": "left"
                    },
                    "hovermode": "closest",
                    "mapbox": {
                      "style": "light"
                    },
                    "paper_bgcolor": "white",
                    "plot_bgcolor": "#E5ECF6",
                    "polar": {
                      "angularaxis": {
                        "gridcolor": "white",
                        "linecolor": "white",
                        "ticks": ""
                      },
                      "bgcolor": "#E5ECF6",
                      "radialaxis": {
                        "gridcolor": "white",
                        "linecolor": "white",
                        "ticks": ""
                      }
                    },
                    "scene": {
                      "xaxis": {
                        "backgroundcolor": "#E5ECF6",
                        "gridcolor": "white",
                        "gridwidth": 2,
                        "linecolor": "white",
                        "showbackground": true,
                        "ticks": "",
                        "zerolinecolor": "white"
                      },
                      "yaxis": {
                        "backgroundcolor": "#E5ECF6",
                        "gridcolor": "white",
                        "gridwidth": 2,
                        "linecolor": "white",
                        "showbackground": true,
                        "ticks": "",
                        "zerolinecolor": "white"
                      },
                      "zaxis": {
                        "backgroundcolor": "#E5ECF6",
                        "gridcolor": "white",
                        "gridwidth": 2,
                        "linecolor": "white",
                        "showbackground": true,
                        "ticks": "",
                        "zerolinecolor": "white"
                      }
                    },
                    "shapedefaults": {
                      "line": {
                        "color": "#2a3f5f"
                      }
                    },
                    "ternary": {
                      "aaxis": {
                        "gridcolor": "white",
                        "linecolor": "white",
                        "ticks": ""
                      },
                      "baxis": {
                        "gridcolor": "white",
                        "linecolor": "white",
                        "ticks": ""
                      },
                      "bgcolor": "#E5ECF6",
                      "caxis": {
                        "gridcolor": "white",
                        "linecolor": "white",
                        "ticks": ""
                      }
                    },
                    "title": {
                      "x": 0.05
                    },
                    "xaxis": {
                      "automargin": true,
                      "gridcolor": "white",
                      "linecolor": "white",
                      "ticks": "",
                      "title": {
                        "standoff": 15
                      },
                      "zerolinecolor": "white",
                      "zerolinewidth": 2
                    },
                    "yaxis": {
                      "automargin": true,
                      "gridcolor": "white",
                      "linecolor": "white",
                      "ticks": "",
                      "title": {
                        "standoff": 15
                      },
                      "zerolinecolor": "white",
                      "zerolinewidth": 2
                    }
                  }
                },
                "title": {
                  "text": "Total Amount by Day vs. Days from Start"
                },
                "xaxis": {
                  "title": {
                    "text": "Days from Start"
                  }
                },
                "yaxis": {
                  "title": {
                    "text": "Total Amount"
                  }
                }
              }
            },
            "text/html": [
              "<div>                            <div id=\"3e91d5b1-dc52-428b-b7d4-2bf213c05e8c\" class=\"plotly-graph-div\" style=\"height:525px; width:100%;\"></div>            <script type=\"text/javascript\">                require([\"plotly\"], function(Plotly) {                    window.PLOTLYENV=window.PLOTLYENV || {};                                    if (document.getElementById(\"3e91d5b1-dc52-428b-b7d4-2bf213c05e8c\")) {                    Plotly.newPlot(                        \"3e91d5b1-dc52-428b-b7d4-2bf213c05e8c\",                        [{\"mode\":\"lines+markers\",\"name\":\"Ordem Paranormal\",\"x\":[0,1,2,3,4,5,6,7,8,9,10,11,12,13,14,15,16,17,18,19,20,21,22,23,24,25,26,27,28,29,30,31,32,33,34,35,36,37,38,39,40,41,42,43,44,45,46,47,48,49,50,51,52,53,54,55,56,57,58,59,60,61],\"y\":[524949.27,648096.97,256318.27,319434.94,175432.5,170826.69,115220.01,42552.01,38753.0,43876.0,32736.5,26780.01,27451.0,31700.0,25045.0,33665.0,29350.0,28480.01,25550.0,28818.67,24300.0,16000.0,20952.0,24140.0,20520.0,17300.01,14744.0,18981.0,10860.0,14700.0,12165.0,17030.0,11650.0,11855.0,15805.21,10990.0,13940.0,15070.0,14250.0,13730.0,15390.0,15650.0,13600.0,12960.0,24830.01,27587.0,25851.0,18200.0,33530.0,26645.09,35931.0,39240.0,37240.0,44600.0,46760.0,50856.0,44881.0,56500.0,80470.0,185226.12,297603.48,155902.01],\"type\":\"scatter\"},{\"mode\":\"lines+markers\",\"name\":\"Cole\\u00e7\\u00e3o Cthulhu\",\"x\":[0,1,2,3,4,5,6,7,8,9,10,11,12,13,14,15,16,17,18,19,20,21,22,23,24,25,26,27,28,29,30,31,32,33,34,35,36,37,38,39,40,41,42,43,44,45,46,47,48,49,50,51,52,53,54,55,56,57,58,59,60,61,67],\"y\":[3139564.13,946702.23,674971.0,249626.66,56796.66,114815.66,41460.07,71251.0,54980.0,16685.0,16630.0,27990.0,97100.0,29660.12,19085.0,14632.0,17260.0,21880.9,15665.0,14170.0,20896.0,29400.0,22300.0,19535.0,12285.0,22875.0,20950.0,20965.0,9355.0,12825.0,9010.0,22895.0,28635.0,22460.0,29865.0,24760.0,24690.0,21280.0,19360.01,17370.0,47625.0,29940.0,31150.0,19565.0,12595.0,25425.99,23945.66,37415.0,42072.0,50470.66,49215.0,28565.0,50485.0,83920.0,102790.0,125645.0,195085.04,113885.01,133481.0,316943.41,562961.01,385996.01,1330.0],\"type\":\"scatter\"},{\"mode\":\"lines+markers\",\"name\":\"Tesouros de Ghanor\",\"x\":[0,1,2,3,4,5,6,7,8,9,10,11,12,13,14,15,16,17,18,19,20,21,22,23,24,25,26,27,28,29,30,31,32,33,34],\"y\":[3000000.0,880107.0,1148024.0,111710.0,310606.0,60209.0,74271.0,40006.0,36785.0,18251.0,54020.0,29379.0,35929.0,20008.0,53267.0,19176.0,28528.0,29914.0,35546.0,85628.0,51915.0,74930.0,82934.0,189388.0,35391.0,32283.0,191970.0,74235.0,72479.0,62846.0,94193.0,140285.0,265346.0,230316.0,39486.0],\"type\":\"scatter\"}],                        {\"template\":{\"data\":{\"histogram2dcontour\":[{\"type\":\"histogram2dcontour\",\"colorbar\":{\"outlinewidth\":0,\"ticks\":\"\"},\"colorscale\":[[0.0,\"#0d0887\"],[0.1111111111111111,\"#46039f\"],[0.2222222222222222,\"#7201a8\"],[0.3333333333333333,\"#9c179e\"],[0.4444444444444444,\"#bd3786\"],[0.5555555555555556,\"#d8576b\"],[0.6666666666666666,\"#ed7953\"],[0.7777777777777778,\"#fb9f3a\"],[0.8888888888888888,\"#fdca26\"],[1.0,\"#f0f921\"]]}],\"choropleth\":[{\"type\":\"choropleth\",\"colorbar\":{\"outlinewidth\":0,\"ticks\":\"\"}}],\"histogram2d\":[{\"type\":\"histogram2d\",\"colorbar\":{\"outlinewidth\":0,\"ticks\":\"\"},\"colorscale\":[[0.0,\"#0d0887\"],[0.1111111111111111,\"#46039f\"],[0.2222222222222222,\"#7201a8\"],[0.3333333333333333,\"#9c179e\"],[0.4444444444444444,\"#bd3786\"],[0.5555555555555556,\"#d8576b\"],[0.6666666666666666,\"#ed7953\"],[0.7777777777777778,\"#fb9f3a\"],[0.8888888888888888,\"#fdca26\"],[1.0,\"#f0f921\"]]}],\"heatmap\":[{\"type\":\"heatmap\",\"colorbar\":{\"outlinewidth\":0,\"ticks\":\"\"},\"colorscale\":[[0.0,\"#0d0887\"],[0.1111111111111111,\"#46039f\"],[0.2222222222222222,\"#7201a8\"],[0.3333333333333333,\"#9c179e\"],[0.4444444444444444,\"#bd3786\"],[0.5555555555555556,\"#d8576b\"],[0.6666666666666666,\"#ed7953\"],[0.7777777777777778,\"#fb9f3a\"],[0.8888888888888888,\"#fdca26\"],[1.0,\"#f0f921\"]]}],\"heatmapgl\":[{\"type\":\"heatmapgl\",\"colorbar\":{\"outlinewidth\":0,\"ticks\":\"\"},\"colorscale\":[[0.0,\"#0d0887\"],[0.1111111111111111,\"#46039f\"],[0.2222222222222222,\"#7201a8\"],[0.3333333333333333,\"#9c179e\"],[0.4444444444444444,\"#bd3786\"],[0.5555555555555556,\"#d8576b\"],[0.6666666666666666,\"#ed7953\"],[0.7777777777777778,\"#fb9f3a\"],[0.8888888888888888,\"#fdca26\"],[1.0,\"#f0f921\"]]}],\"contourcarpet\":[{\"type\":\"contourcarpet\",\"colorbar\":{\"outlinewidth\":0,\"ticks\":\"\"}}],\"contour\":[{\"type\":\"contour\",\"colorbar\":{\"outlinewidth\":0,\"ticks\":\"\"},\"colorscale\":[[0.0,\"#0d0887\"],[0.1111111111111111,\"#46039f\"],[0.2222222222222222,\"#7201a8\"],[0.3333333333333333,\"#9c179e\"],[0.4444444444444444,\"#bd3786\"],[0.5555555555555556,\"#d8576b\"],[0.6666666666666666,\"#ed7953\"],[0.7777777777777778,\"#fb9f3a\"],[0.8888888888888888,\"#fdca26\"],[1.0,\"#f0f921\"]]}],\"surface\":[{\"type\":\"surface\",\"colorbar\":{\"outlinewidth\":0,\"ticks\":\"\"},\"colorscale\":[[0.0,\"#0d0887\"],[0.1111111111111111,\"#46039f\"],[0.2222222222222222,\"#7201a8\"],[0.3333333333333333,\"#9c179e\"],[0.4444444444444444,\"#bd3786\"],[0.5555555555555556,\"#d8576b\"],[0.6666666666666666,\"#ed7953\"],[0.7777777777777778,\"#fb9f3a\"],[0.8888888888888888,\"#fdca26\"],[1.0,\"#f0f921\"]]}],\"mesh3d\":[{\"type\":\"mesh3d\",\"colorbar\":{\"outlinewidth\":0,\"ticks\":\"\"}}],\"scatter\":[{\"fillpattern\":{\"fillmode\":\"overlay\",\"size\":10,\"solidity\":0.2},\"type\":\"scatter\"}],\"parcoords\":[{\"type\":\"parcoords\",\"line\":{\"colorbar\":{\"outlinewidth\":0,\"ticks\":\"\"}}}],\"scatterpolargl\":[{\"type\":\"scatterpolargl\",\"marker\":{\"colorbar\":{\"outlinewidth\":0,\"ticks\":\"\"}}}],\"bar\":[{\"error_x\":{\"color\":\"#2a3f5f\"},\"error_y\":{\"color\":\"#2a3f5f\"},\"marker\":{\"line\":{\"color\":\"#E5ECF6\",\"width\":0.5},\"pattern\":{\"fillmode\":\"overlay\",\"size\":10,\"solidity\":0.2}},\"type\":\"bar\"}],\"scattergeo\":[{\"type\":\"scattergeo\",\"marker\":{\"colorbar\":{\"outlinewidth\":0,\"ticks\":\"\"}}}],\"scatterpolar\":[{\"type\":\"scatterpolar\",\"marker\":{\"colorbar\":{\"outlinewidth\":0,\"ticks\":\"\"}}}],\"histogram\":[{\"marker\":{\"pattern\":{\"fillmode\":\"overlay\",\"size\":10,\"solidity\":0.2}},\"type\":\"histogram\"}],\"scattergl\":[{\"type\":\"scattergl\",\"marker\":{\"colorbar\":{\"outlinewidth\":0,\"ticks\":\"\"}}}],\"scatter3d\":[{\"type\":\"scatter3d\",\"line\":{\"colorbar\":{\"outlinewidth\":0,\"ticks\":\"\"}},\"marker\":{\"colorbar\":{\"outlinewidth\":0,\"ticks\":\"\"}}}],\"scattermapbox\":[{\"type\":\"scattermapbox\",\"marker\":{\"colorbar\":{\"outlinewidth\":0,\"ticks\":\"\"}}}],\"scatterternary\":[{\"type\":\"scatterternary\",\"marker\":{\"colorbar\":{\"outlinewidth\":0,\"ticks\":\"\"}}}],\"scattercarpet\":[{\"type\":\"scattercarpet\",\"marker\":{\"colorbar\":{\"outlinewidth\":0,\"ticks\":\"\"}}}],\"carpet\":[{\"aaxis\":{\"endlinecolor\":\"#2a3f5f\",\"gridcolor\":\"white\",\"linecolor\":\"white\",\"minorgridcolor\":\"white\",\"startlinecolor\":\"#2a3f5f\"},\"baxis\":{\"endlinecolor\":\"#2a3f5f\",\"gridcolor\":\"white\",\"linecolor\":\"white\",\"minorgridcolor\":\"white\",\"startlinecolor\":\"#2a3f5f\"},\"type\":\"carpet\"}],\"table\":[{\"cells\":{\"fill\":{\"color\":\"#EBF0F8\"},\"line\":{\"color\":\"white\"}},\"header\":{\"fill\":{\"color\":\"#C8D4E3\"},\"line\":{\"color\":\"white\"}},\"type\":\"table\"}],\"barpolar\":[{\"marker\":{\"line\":{\"color\":\"#E5ECF6\",\"width\":0.5},\"pattern\":{\"fillmode\":\"overlay\",\"size\":10,\"solidity\":0.2}},\"type\":\"barpolar\"}],\"pie\":[{\"automargin\":true,\"type\":\"pie\"}]},\"layout\":{\"autotypenumbers\":\"strict\",\"colorway\":[\"#636efa\",\"#EF553B\",\"#00cc96\",\"#ab63fa\",\"#FFA15A\",\"#19d3f3\",\"#FF6692\",\"#B6E880\",\"#FF97FF\",\"#FECB52\"],\"font\":{\"color\":\"#2a3f5f\"},\"hovermode\":\"closest\",\"hoverlabel\":{\"align\":\"left\"},\"paper_bgcolor\":\"white\",\"plot_bgcolor\":\"#E5ECF6\",\"polar\":{\"bgcolor\":\"#E5ECF6\",\"angularaxis\":{\"gridcolor\":\"white\",\"linecolor\":\"white\",\"ticks\":\"\"},\"radialaxis\":{\"gridcolor\":\"white\",\"linecolor\":\"white\",\"ticks\":\"\"}},\"ternary\":{\"bgcolor\":\"#E5ECF6\",\"aaxis\":{\"gridcolor\":\"white\",\"linecolor\":\"white\",\"ticks\":\"\"},\"baxis\":{\"gridcolor\":\"white\",\"linecolor\":\"white\",\"ticks\":\"\"},\"caxis\":{\"gridcolor\":\"white\",\"linecolor\":\"white\",\"ticks\":\"\"}},\"coloraxis\":{\"colorbar\":{\"outlinewidth\":0,\"ticks\":\"\"}},\"colorscale\":{\"sequential\":[[0.0,\"#0d0887\"],[0.1111111111111111,\"#46039f\"],[0.2222222222222222,\"#7201a8\"],[0.3333333333333333,\"#9c179e\"],[0.4444444444444444,\"#bd3786\"],[0.5555555555555556,\"#d8576b\"],[0.6666666666666666,\"#ed7953\"],[0.7777777777777778,\"#fb9f3a\"],[0.8888888888888888,\"#fdca26\"],[1.0,\"#f0f921\"]],\"sequentialminus\":[[0.0,\"#0d0887\"],[0.1111111111111111,\"#46039f\"],[0.2222222222222222,\"#7201a8\"],[0.3333333333333333,\"#9c179e\"],[0.4444444444444444,\"#bd3786\"],[0.5555555555555556,\"#d8576b\"],[0.6666666666666666,\"#ed7953\"],[0.7777777777777778,\"#fb9f3a\"],[0.8888888888888888,\"#fdca26\"],[1.0,\"#f0f921\"]],\"diverging\":[[0,\"#8e0152\"],[0.1,\"#c51b7d\"],[0.2,\"#de77ae\"],[0.3,\"#f1b6da\"],[0.4,\"#fde0ef\"],[0.5,\"#f7f7f7\"],[0.6,\"#e6f5d0\"],[0.7,\"#b8e186\"],[0.8,\"#7fbc41\"],[0.9,\"#4d9221\"],[1,\"#276419\"]]},\"xaxis\":{\"gridcolor\":\"white\",\"linecolor\":\"white\",\"ticks\":\"\",\"title\":{\"standoff\":15},\"zerolinecolor\":\"white\",\"automargin\":true,\"zerolinewidth\":2},\"yaxis\":{\"gridcolor\":\"white\",\"linecolor\":\"white\",\"ticks\":\"\",\"title\":{\"standoff\":15},\"zerolinecolor\":\"white\",\"automargin\":true,\"zerolinewidth\":2},\"scene\":{\"xaxis\":{\"backgroundcolor\":\"#E5ECF6\",\"gridcolor\":\"white\",\"linecolor\":\"white\",\"showbackground\":true,\"ticks\":\"\",\"zerolinecolor\":\"white\",\"gridwidth\":2},\"yaxis\":{\"backgroundcolor\":\"#E5ECF6\",\"gridcolor\":\"white\",\"linecolor\":\"white\",\"showbackground\":true,\"ticks\":\"\",\"zerolinecolor\":\"white\",\"gridwidth\":2},\"zaxis\":{\"backgroundcolor\":\"#E5ECF6\",\"gridcolor\":\"white\",\"linecolor\":\"white\",\"showbackground\":true,\"ticks\":\"\",\"zerolinecolor\":\"white\",\"gridwidth\":2}},\"shapedefaults\":{\"line\":{\"color\":\"#2a3f5f\"}},\"annotationdefaults\":{\"arrowcolor\":\"#2a3f5f\",\"arrowhead\":0,\"arrowwidth\":1},\"geo\":{\"bgcolor\":\"white\",\"landcolor\":\"#E5ECF6\",\"subunitcolor\":\"white\",\"showland\":true,\"showlakes\":true,\"lakecolor\":\"white\"},\"title\":{\"x\":0.05},\"mapbox\":{\"style\":\"light\"}}},\"title\":{\"text\":\"Total Amount by Day vs. Days from Start\"},\"xaxis\":{\"title\":{\"text\":\"Days from Start\"}},\"yaxis\":{\"title\":{\"text\":\"Total Amount\"}}},                        {\"responsive\": true}                    ).then(function(){\n",
              "                            \n",
              "var gd = document.getElementById('3e91d5b1-dc52-428b-b7d4-2bf213c05e8c');\n",
              "var x = new MutationObserver(function (mutations, observer) {{\n",
              "        var display = window.getComputedStyle(gd).display;\n",
              "        if (!display || display === 'none') {{\n",
              "            console.log([gd, 'removed!']);\n",
              "            Plotly.purge(gd);\n",
              "            observer.disconnect();\n",
              "        }}\n",
              "}});\n",
              "\n",
              "// Listen for the removal of the full notebook cells\n",
              "var notebookContainer = gd.closest('#notebook-container');\n",
              "if (notebookContainer) {{\n",
              "    x.observe(notebookContainer, {childList: true});\n",
              "}}\n",
              "\n",
              "// Listen for the clearing of the current output cell\n",
              "var outputEl = gd.closest('.output');\n",
              "if (outputEl) {{\n",
              "    x.observe(outputEl, {childList: true});\n",
              "}}\n",
              "\n",
              "                        })                };                });            </script>        </div>"
            ]
          },
          "metadata": {},
          "output_type": "display_data"
        }
      ],
      "source": [
        "import plotly.express as px\n",
        "import plotly.graph_objects as go\n",
        "\n",
        "# Assuming you have two DataFrames named df_ordem and df_nerdcastrpg\n",
        "\n",
        "# Create the figure\n",
        "fig = go.Figure()\n",
        "\n",
        "# Plotting df_ordem\n",
        "fig.add_trace(go.Scatter(x=df_ordem['days_from_start'], y=df_ordem['total_amount'], mode='lines+markers', name='Ordem Paranormal'))\n",
        "\n",
        "# Plotting df_nerdcastrpg\n",
        "fig.add_trace(go.Scatter(x=df_nerdcastrpg['days_from_start'], y=df_nerdcastrpg['total_amount'], mode='lines+markers', name='Coleção Cthulhu'))\n",
        "\n",
        "# Plotting df_grouped\n",
        "fig.add_trace(go.Scatter(x=df_grouped['days_from_start'], y=df_grouped['total_amount'], mode='lines+markers', name='Tesouros de Ghanor'))\n",
        "\n",
        "# Customize the layout\n",
        "fig.update_layout(\n",
        "    title='Total Amount by Day vs. Days from Start',\n",
        "    xaxis_title='Days from Start',\n",
        "    yaxis_title='Total Amount'\n",
        ")\n",
        "\n",
        "# Show the plot\n",
        "fig.show()\n",
        "\n",
        "#save plot as html\n",
        "fig.write_html(\"../../index.html\")"
      ]
    },
    {
      "cell_type": "code",
      "execution_count": null,
      "metadata": {},
      "outputs": [],
      "source": []
    }
  ],
  "metadata": {
    "colab": {
      "provenance": []
    },
    "kernelspec": {
      "display_name": "Python 3",
      "name": "python3"
    },
    "language_info": {
      "codemirror_mode": {
        "name": "ipython",
        "version": 3
      },
      "file_extension": ".py",
      "mimetype": "text/x-python",
      "name": "python",
      "nbconvert_exporter": "python",
      "pygments_lexer": "ipython3",
      "version": "3.9.18"
    }
  },
  "nbformat": 4,
  "nbformat_minor": 0
}
