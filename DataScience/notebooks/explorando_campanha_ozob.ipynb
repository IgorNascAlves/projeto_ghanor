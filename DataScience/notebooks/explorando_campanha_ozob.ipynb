{
 "cells": [
  {
   "cell_type": "code",
   "execution_count": 3,
   "metadata": {},
   "outputs": [],
   "source": [
    "import requests\n",
    "import json\n",
    "import pandas as pd\n",
    "from datetime import datetime\n",
    "import os"
   ]
  },
  {
   "cell_type": "code",
   "execution_count": 6,
   "metadata": {},
   "outputs": [],
   "source": [
    "# Função para extrair e salvar os dados\n",
    "def extract_and_save(url, save_path):\n",
    "    # Obter a data e hora atual no formato especificado\n",
    "    timestamp = datetime.now().strftime(\"%Y%m%d%H%M%S\")\n",
    "    \n",
    "    # Fazer a requisição GET\n",
    "    response = requests.get(url)\n",
    "    \n",
    "    # Verificar se a requisição foi bem-sucedida\n",
    "    if response.status_code == 200:\n",
    "        # Converter a resposta JSON para um DataFrame\n",
    "        data = response.json()\n",
    "        df = pd.json_normalize(data)\n",
    "\n",
    "        # Criar o diretório se não existir\n",
    "        os.makedirs(save_path, exist_ok=True)\n",
    "        \n",
    "        # Nome do arquivo com a data da extração\n",
    "        file_name = f\"data_{timestamp}.csv\"\n",
    "        \n",
    "        # Caminho completo onde o arquivo será salvo\n",
    "        full_path = os.path.join(save_path, file_name)\n",
    "        \n",
    "        # Salvar o DataFrame como CSV\n",
    "        df.to_csv(full_path, index=False)\n",
    "        print(f\"Arquivo salvo em: {full_path}\")\n",
    "    else:\n",
    "        print(f\"Falha ao acessar a URL {url}. Status code: {response.status_code}\")\n"
   ]
  },
  {
   "cell_type": "code",
   "execution_count": 7,
   "metadata": {},
   "outputs": [
    {
     "name": "stdout",
     "output_type": "stream",
     "text": [
      "Arquivo salvo em: /home/alura/projeto_ghanor/DataEng/datalake/bronze/ozob/ordersReport/data_20241010164314.csv\n"
     ]
    }
   ],
   "source": [
    "# Extração da primeira URL (ordersReport)\n",
    "url_orders_report = \"https://ozob.com.br/api/ordersReport/1\"\n",
    "save_path_orders_report = \"/home/alura/projeto_ghanor/DataEng/datalake/bronze/ozob/ordersReport/\"\n",
    "extract_and_save(url_orders_report, save_path_orders_report)"
   ]
  },
  {
   "cell_type": "code",
   "execution_count": 8,
   "metadata": {},
   "outputs": [
    {
     "name": "stdout",
     "output_type": "stream",
     "text": [
      "Arquivo salvo em: /home/alura/projeto_ghanor/DataEng/datalake/bronze/ozob/pledgeLevels/data_20241010164318.csv\n"
     ]
    }
   ],
   "source": [
    "# Extração da segunda URL (pledgeLevels)\n",
    "url_pledge_levels = \"https://ozob.com.br/api/projects/1/pledgeLevels\"\n",
    "save_path_pledge_levels = \"/home/alura/projeto_ghanor/DataEng/datalake/bronze/ozob/pledgeLevels/\"\n",
    "extract_and_save(url_pledge_levels, save_path_pledge_levels)"
   ]
  },
  {
   "cell_type": "code",
   "execution_count": null,
   "metadata": {},
   "outputs": [],
   "source": []
  }
 ],
 "metadata": {
  "kernelspec": {
   "display_name": ".venv",
   "language": "python",
   "name": "python3"
  },
  "language_info": {
   "codemirror_mode": {
    "name": "ipython",
    "version": 3
   },
   "file_extension": ".py",
   "mimetype": "text/x-python",
   "name": "python",
   "nbconvert_exporter": "python",
   "pygments_lexer": "ipython3",
   "version": "3.9.18"
  }
 },
 "nbformat": 4,
 "nbformat_minor": 2
}
