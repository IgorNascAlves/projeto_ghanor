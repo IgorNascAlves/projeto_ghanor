{
 "cells": [
  {
   "cell_type": "code",
   "execution_count": 1,
   "metadata": {},
   "outputs": [],
   "source": [
    "import os\n",
    "import json\n",
    "\n",
    "# Create an empty list to store the dictionaries\n",
    "json_data_list = []\n",
    "\n",
    "# Directory where your JSON files are located\n",
    "json_files_directory = '../../DataEng/datalake/bronze'\n",
    "\n",
    "# Loop through each JSON file in the directory\n",
    "for filename in os.listdir(json_files_directory):\n",
    "    if filename.startswith('data_') and filename.endswith('.json'):\n",
    "        # Construct the full path to the JSON file\n",
    "        file_path = os.path.join(json_files_directory, filename)\n",
    "\n",
    "        # Open and read the JSON file\n",
    "        with open(file_path, 'r') as json_file:\n",
    "            # Load the JSON data into a dictionary\n",
    "            json_data = json.load(json_file)\n",
    "\n",
    "            # Create a new dictionary to hold both the file name and JSON data\n",
    "            json_with_filename = {\n",
    "                'filename': filename,  # Save the file name\n",
    "                'data': json_data     # Save the JSON data\n",
    "            }\n",
    "\n",
    "            # Append the dictionary to the list\n",
    "            json_data_list.append(json_with_filename)\n",
    "\n",
    "# Now, json_data_list contains a list of dictionaries, where each dictionary has a 'filename' key\n",
    "# with the name of the JSON file and a 'data' key with the JSON data from that file for files starting with 'data_'.\n",
    "\n",
    "\n",
    "import pandas as pd\n",
    "\n",
    "\n",
    "# Create a DataFrame\n",
    "df = pd.DataFrame(json_data_list)\n",
    "\n",
    "# If you want to flatten the 'data' dictionary into separate columns:\n",
    "df = pd.concat([df.drop(['data'], axis=1), df['data'].apply(pd.Series)], axis=1)\n",
    "\n",
    "# Now, df contains your data in a Pandas DataFrame format\n",
    "df\n",
    "\n",
    "# Extract and transform the 'filename' column into a timestamp column\n",
    "df['timestamp'] = pd.to_datetime(df['filename'].str.extract(r'data_(\\d{14})\\.json')[0], format='%Y%m%d%H%M%S')\n",
    "\n",
    "# Drop the 'filename' column if no longer needed\n",
    "df = df.drop('filename', axis=1)\n",
    "\n",
    "# Now, df contains a 'timestamp' column extracted from the 'filename'\n",
    "df.head()\n",
    "\n",
    "#save df to csv on the silver layer name ghanor\n",
    "df.drop(columns=['targetAmount', 'targetDate']).to_csv('../../DataEng/datalake/silver/ghanor.csv', index=False)"
   ]
  },
  {
   "cell_type": "code",
   "execution_count": 2,
   "metadata": {},
   "outputs": [
    {
     "data": {
      "text/html": [
       "<div>\n",
       "<style scoped>\n",
       "    .dataframe tbody tr th:only-of-type {\n",
       "        vertical-align: middle;\n",
       "    }\n",
       "\n",
       "    .dataframe tbody tr th {\n",
       "        vertical-align: top;\n",
       "    }\n",
       "\n",
       "    .dataframe thead th {\n",
       "        text-align: right;\n",
       "    }\n",
       "</style>\n",
       "<table border=\"1\" class=\"dataframe\">\n",
       "  <thead>\n",
       "    <tr style=\"text-align: right;\">\n",
       "      <th></th>\n",
       "      <th>raisedAmount</th>\n",
       "      <th>supporters</th>\n",
       "      <th>timestamp</th>\n",
       "    </tr>\n",
       "  </thead>\n",
       "  <tbody>\n",
       "    <tr>\n",
       "      <th>0</th>\n",
       "      <td>5148832.0</td>\n",
       "      <td>5032</td>\n",
       "      <td>2023-10-10 08:24:03</td>\n",
       "    </tr>\n",
       "    <tr>\n",
       "      <th>1</th>\n",
       "      <td>5872819.0</td>\n",
       "      <td>5543</td>\n",
       "      <td>2023-10-21 00:07:03</td>\n",
       "    </tr>\n",
       "    <tr>\n",
       "      <th>2</th>\n",
       "      <td>5812795.0</td>\n",
       "      <td>5484</td>\n",
       "      <td>2023-10-19 17:34:05</td>\n",
       "    </tr>\n",
       "    <tr>\n",
       "      <th>3</th>\n",
       "      <td>5773540.0</td>\n",
       "      <td>5439</td>\n",
       "      <td>2023-10-18 11:29:04</td>\n",
       "    </tr>\n",
       "    <tr>\n",
       "      <th>4</th>\n",
       "      <td>5962171.0</td>\n",
       "      <td>5630</td>\n",
       "      <td>2023-10-24 13:34:03</td>\n",
       "    </tr>\n",
       "  </tbody>\n",
       "</table>\n",
       "</div>"
      ],
      "text/plain": [
       "   raisedAmount  supporters            timestamp\n",
       "0     5148832.0        5032  2023-10-10 08:24:03\n",
       "1     5872819.0        5543  2023-10-21 00:07:03\n",
       "2     5812795.0        5484  2023-10-19 17:34:05\n",
       "3     5773540.0        5439  2023-10-18 11:29:04\n",
       "4     5962171.0        5630  2023-10-24 13:34:03"
      ]
     },
     "execution_count": 2,
     "metadata": {},
     "output_type": "execute_result"
    }
   ],
   "source": [
    "#read ghanor file on ../../DataEng/datalake/silver/ghanor.csv\n",
    "import pandas as pd\n",
    "\n",
    "df = pd.read_csv('../../DataEng/datalake/silver/ghanor.csv', sep=',')\n",
    "df.head()"
   ]
  },
  {
   "cell_type": "code",
   "execution_count": 3,
   "metadata": {},
   "outputs": [
    {
     "data": {
      "text/html": [
       "<div>\n",
       "<style scoped>\n",
       "    .dataframe tbody tr th:only-of-type {\n",
       "        vertical-align: middle;\n",
       "    }\n",
       "\n",
       "    .dataframe tbody tr th {\n",
       "        vertical-align: top;\n",
       "    }\n",
       "\n",
       "    .dataframe thead th {\n",
       "        text-align: right;\n",
       "    }\n",
       "</style>\n",
       "<table border=\"1\" class=\"dataframe\">\n",
       "  <thead>\n",
       "    <tr style=\"text-align: right;\">\n",
       "      <th></th>\n",
       "      <th>raisedAmount</th>\n",
       "      <th>supporters</th>\n",
       "      <th>timestamp</th>\n",
       "    </tr>\n",
       "  </thead>\n",
       "  <tbody>\n",
       "    <tr>\n",
       "      <th>3654</th>\n",
       "      <td>6013465.0</td>\n",
       "      <td>5671</td>\n",
       "      <td>2023-10-25 15:34:05</td>\n",
       "    </tr>\n",
       "    <tr>\n",
       "      <th>4339</th>\n",
       "      <td>6013465.0</td>\n",
       "      <td>5671</td>\n",
       "      <td>2023-10-25 15:33:05</td>\n",
       "    </tr>\n",
       "    <tr>\n",
       "      <th>4514</th>\n",
       "      <td>6013176.0</td>\n",
       "      <td>5671</td>\n",
       "      <td>2023-10-25 15:32:05</td>\n",
       "    </tr>\n",
       "    <tr>\n",
       "      <th>10224</th>\n",
       "      <td>6013176.0</td>\n",
       "      <td>5671</td>\n",
       "      <td>2023-10-25 15:31:04</td>\n",
       "    </tr>\n",
       "    <tr>\n",
       "      <th>1998</th>\n",
       "      <td>6013176.0</td>\n",
       "      <td>5671</td>\n",
       "      <td>2023-10-25 15:30:05</td>\n",
       "    </tr>\n",
       "    <tr>\n",
       "      <th>12832</th>\n",
       "      <td>6013176.0</td>\n",
       "      <td>5671</td>\n",
       "      <td>2023-10-25 15:29:05</td>\n",
       "    </tr>\n",
       "    <tr>\n",
       "      <th>8165</th>\n",
       "      <td>6010069.0</td>\n",
       "      <td>5670</td>\n",
       "      <td>2023-10-25 15:28:05</td>\n",
       "    </tr>\n",
       "    <tr>\n",
       "      <th>6009</th>\n",
       "      <td>6010069.0</td>\n",
       "      <td>5670</td>\n",
       "      <td>2023-10-25 15:27:05</td>\n",
       "    </tr>\n",
       "    <tr>\n",
       "      <th>6520</th>\n",
       "      <td>6010069.0</td>\n",
       "      <td>5670</td>\n",
       "      <td>2023-10-25 15:26:05</td>\n",
       "    </tr>\n",
       "    <tr>\n",
       "      <th>10814</th>\n",
       "      <td>6009659.0</td>\n",
       "      <td>5670</td>\n",
       "      <td>2023-10-25 15:25:04</td>\n",
       "    </tr>\n",
       "  </tbody>\n",
       "</table>\n",
       "</div>"
      ],
      "text/plain": [
       "       raisedAmount  supporters           timestamp\n",
       "3654      6013465.0        5671 2023-10-25 15:34:05\n",
       "4339      6013465.0        5671 2023-10-25 15:33:05\n",
       "4514      6013176.0        5671 2023-10-25 15:32:05\n",
       "10224     6013176.0        5671 2023-10-25 15:31:04\n",
       "1998      6013176.0        5671 2023-10-25 15:30:05\n",
       "12832     6013176.0        5671 2023-10-25 15:29:05\n",
       "8165      6010069.0        5670 2023-10-25 15:28:05\n",
       "6009      6010069.0        5670 2023-10-25 15:27:05\n",
       "6520      6010069.0        5670 2023-10-25 15:26:05\n",
       "10814     6009659.0        5670 2023-10-25 15:25:04"
      ]
     },
     "execution_count": 3,
     "metadata": {},
     "output_type": "execute_result"
    }
   ],
   "source": [
    "df['timestamp'] = pd.to_datetime(df['timestamp'])\n",
    "\n",
    "#order by timestamp\n",
    "df = df.sort_values(by=['timestamp'], ascending=False)\n",
    "df.head(10)"
   ]
  },
  {
   "cell_type": "code",
   "execution_count": 4,
   "metadata": {},
   "outputs": [
    {
     "data": {
      "text/html": [
       "<div>\n",
       "<style scoped>\n",
       "    .dataframe tbody tr th:only-of-type {\n",
       "        vertical-align: middle;\n",
       "    }\n",
       "\n",
       "    .dataframe tbody tr th {\n",
       "        vertical-align: top;\n",
       "    }\n",
       "\n",
       "    .dataframe thead th {\n",
       "        text-align: right;\n",
       "    }\n",
       "</style>\n",
       "<table border=\"1\" class=\"dataframe\">\n",
       "  <thead>\n",
       "    <tr style=\"text-align: right;\">\n",
       "      <th></th>\n",
       "      <th>raisedAmount</th>\n",
       "      <th>supporters</th>\n",
       "      <th>timestamp</th>\n",
       "    </tr>\n",
       "  </thead>\n",
       "  <tbody>\n",
       "    <tr>\n",
       "      <th>3654</th>\n",
       "      <td>6013465.0</td>\n",
       "      <td>5671</td>\n",
       "      <td>2023-10-25 15:34:05</td>\n",
       "    </tr>\n",
       "    <tr>\n",
       "      <th>4339</th>\n",
       "      <td>6013465.0</td>\n",
       "      <td>5671</td>\n",
       "      <td>2023-10-25 15:33:05</td>\n",
       "    </tr>\n",
       "    <tr>\n",
       "      <th>4514</th>\n",
       "      <td>6013176.0</td>\n",
       "      <td>5671</td>\n",
       "      <td>2023-10-25 15:32:05</td>\n",
       "    </tr>\n",
       "    <tr>\n",
       "      <th>10224</th>\n",
       "      <td>6013176.0</td>\n",
       "      <td>5671</td>\n",
       "      <td>2023-10-25 15:31:04</td>\n",
       "    </tr>\n",
       "    <tr>\n",
       "      <th>1998</th>\n",
       "      <td>6013176.0</td>\n",
       "      <td>5671</td>\n",
       "      <td>2023-10-25 15:30:05</td>\n",
       "    </tr>\n",
       "    <tr>\n",
       "      <th>...</th>\n",
       "      <td>...</td>\n",
       "      <td>...</td>\n",
       "      <td>...</td>\n",
       "    </tr>\n",
       "    <tr>\n",
       "      <th>8609</th>\n",
       "      <td>5989131.0</td>\n",
       "      <td>5653</td>\n",
       "      <td>2023-10-25 09:08:04</td>\n",
       "    </tr>\n",
       "    <tr>\n",
       "      <th>9172</th>\n",
       "      <td>5989131.0</td>\n",
       "      <td>5653</td>\n",
       "      <td>2023-10-25 09:07:04</td>\n",
       "    </tr>\n",
       "    <tr>\n",
       "      <th>7540</th>\n",
       "      <td>5989131.0</td>\n",
       "      <td>5653</td>\n",
       "      <td>2023-10-25 09:06:04</td>\n",
       "    </tr>\n",
       "    <tr>\n",
       "      <th>9573</th>\n",
       "      <td>5989131.0</td>\n",
       "      <td>5653</td>\n",
       "      <td>2023-10-25 09:05:04</td>\n",
       "    </tr>\n",
       "    <tr>\n",
       "      <th>2949</th>\n",
       "      <td>5989131.0</td>\n",
       "      <td>5653</td>\n",
       "      <td>2023-10-25 09:04:09</td>\n",
       "    </tr>\n",
       "  </tbody>\n",
       "</table>\n",
       "<p>391 rows × 3 columns</p>\n",
       "</div>"
      ],
      "text/plain": [
       "       raisedAmount  supporters           timestamp\n",
       "3654      6013465.0        5671 2023-10-25 15:34:05\n",
       "4339      6013465.0        5671 2023-10-25 15:33:05\n",
       "4514      6013176.0        5671 2023-10-25 15:32:05\n",
       "10224     6013176.0        5671 2023-10-25 15:31:04\n",
       "1998      6013176.0        5671 2023-10-25 15:30:05\n",
       "...             ...         ...                 ...\n",
       "8609      5989131.0        5653 2023-10-25 09:08:04\n",
       "9172      5989131.0        5653 2023-10-25 09:07:04\n",
       "7540      5989131.0        5653 2023-10-25 09:06:04\n",
       "9573      5989131.0        5653 2023-10-25 09:05:04\n",
       "2949      5989131.0        5653 2023-10-25 09:04:09\n",
       "\n",
       "[391 rows x 3 columns]"
      ]
     },
     "execution_count": 4,
     "metadata": {},
     "output_type": "execute_result"
    }
   ],
   "source": [
    "# analyze the data only from the last day column timestamp\n",
    "\n",
    "\n",
    "#transform column timestamp to datetime\n",
    "df['timestamp'] = pd.to_datetime(df['timestamp'])\n",
    "last_day = df['timestamp'].max().date()\n",
    "\n",
    "last_day\n",
    "\n",
    "#group data from last day\n",
    "\n",
    "df_last_day = df[df['timestamp'].dt.date == last_day]\n",
    "df_last_day"
   ]
  },
  {
   "cell_type": "code",
   "execution_count": 5,
   "metadata": {},
   "outputs": [
    {
     "data": {
      "text/html": [
       "<div>\n",
       "<style scoped>\n",
       "    .dataframe tbody tr th:only-of-type {\n",
       "        vertical-align: middle;\n",
       "    }\n",
       "\n",
       "    .dataframe tbody tr th {\n",
       "        vertical-align: top;\n",
       "    }\n",
       "\n",
       "    .dataframe thead th {\n",
       "        text-align: right;\n",
       "    }\n",
       "</style>\n",
       "<table border=\"1\" class=\"dataframe\">\n",
       "  <thead>\n",
       "    <tr style=\"text-align: right;\">\n",
       "      <th></th>\n",
       "      <th>raisedAmount</th>\n",
       "      <th>supporters</th>\n",
       "      <th>timestamp</th>\n",
       "    </tr>\n",
       "  </thead>\n",
       "  <tbody>\n",
       "    <tr>\n",
       "      <th>3654</th>\n",
       "      <td>6013465.0</td>\n",
       "      <td>5671</td>\n",
       "      <td>2023-10-25 15:34:05</td>\n",
       "    </tr>\n",
       "    <tr>\n",
       "      <th>4339</th>\n",
       "      <td>6013465.0</td>\n",
       "      <td>5671</td>\n",
       "      <td>2023-10-25 15:33:05</td>\n",
       "    </tr>\n",
       "    <tr>\n",
       "      <th>4514</th>\n",
       "      <td>6013176.0</td>\n",
       "      <td>5671</td>\n",
       "      <td>2023-10-25 15:32:05</td>\n",
       "    </tr>\n",
       "    <tr>\n",
       "      <th>10224</th>\n",
       "      <td>6013176.0</td>\n",
       "      <td>5671</td>\n",
       "      <td>2023-10-25 15:31:04</td>\n",
       "    </tr>\n",
       "    <tr>\n",
       "      <th>1998</th>\n",
       "      <td>6013176.0</td>\n",
       "      <td>5671</td>\n",
       "      <td>2023-10-25 15:30:05</td>\n",
       "    </tr>\n",
       "    <tr>\n",
       "      <th>12832</th>\n",
       "      <td>6013176.0</td>\n",
       "      <td>5671</td>\n",
       "      <td>2023-10-25 15:29:05</td>\n",
       "    </tr>\n",
       "    <tr>\n",
       "      <th>8165</th>\n",
       "      <td>6010069.0</td>\n",
       "      <td>5670</td>\n",
       "      <td>2023-10-25 15:28:05</td>\n",
       "    </tr>\n",
       "    <tr>\n",
       "      <th>6009</th>\n",
       "      <td>6010069.0</td>\n",
       "      <td>5670</td>\n",
       "      <td>2023-10-25 15:27:05</td>\n",
       "    </tr>\n",
       "    <tr>\n",
       "      <th>6520</th>\n",
       "      <td>6010069.0</td>\n",
       "      <td>5670</td>\n",
       "      <td>2023-10-25 15:26:05</td>\n",
       "    </tr>\n",
       "    <tr>\n",
       "      <th>10814</th>\n",
       "      <td>6009659.0</td>\n",
       "      <td>5670</td>\n",
       "      <td>2023-10-25 15:25:04</td>\n",
       "    </tr>\n",
       "    <tr>\n",
       "      <th>2910</th>\n",
       "      <td>6009659.0</td>\n",
       "      <td>5670</td>\n",
       "      <td>2023-10-25 15:24:04</td>\n",
       "    </tr>\n",
       "    <tr>\n",
       "      <th>13002</th>\n",
       "      <td>6009570.0</td>\n",
       "      <td>5670</td>\n",
       "      <td>2023-10-25 15:23:04</td>\n",
       "    </tr>\n",
       "    <tr>\n",
       "      <th>13042</th>\n",
       "      <td>6009570.0</td>\n",
       "      <td>5670</td>\n",
       "      <td>2023-10-25 15:22:04</td>\n",
       "    </tr>\n",
       "    <tr>\n",
       "      <th>4234</th>\n",
       "      <td>6009570.0</td>\n",
       "      <td>5670</td>\n",
       "      <td>2023-10-25 15:21:04</td>\n",
       "    </tr>\n",
       "    <tr>\n",
       "      <th>66</th>\n",
       "      <td>6009570.0</td>\n",
       "      <td>5670</td>\n",
       "      <td>2023-10-25 15:20:05</td>\n",
       "    </tr>\n",
       "    <tr>\n",
       "      <th>13038</th>\n",
       "      <td>6009432.0</td>\n",
       "      <td>5670</td>\n",
       "      <td>2023-10-25 15:19:04</td>\n",
       "    </tr>\n",
       "    <tr>\n",
       "      <th>1266</th>\n",
       "      <td>6009143.0</td>\n",
       "      <td>5670</td>\n",
       "      <td>2023-10-25 15:18:04</td>\n",
       "    </tr>\n",
       "    <tr>\n",
       "      <th>13099</th>\n",
       "      <td>6008711.0</td>\n",
       "      <td>5669</td>\n",
       "      <td>2023-10-25 15:17:03</td>\n",
       "    </tr>\n",
       "    <tr>\n",
       "      <th>10621</th>\n",
       "      <td>6007816.0</td>\n",
       "      <td>5668</td>\n",
       "      <td>2023-10-25 15:16:04</td>\n",
       "    </tr>\n",
       "    <tr>\n",
       "      <th>12509</th>\n",
       "      <td>6007816.0</td>\n",
       "      <td>5668</td>\n",
       "      <td>2023-10-25 15:15:04</td>\n",
       "    </tr>\n",
       "  </tbody>\n",
       "</table>\n",
       "</div>"
      ],
      "text/plain": [
       "       raisedAmount  supporters           timestamp\n",
       "3654      6013465.0        5671 2023-10-25 15:34:05\n",
       "4339      6013465.0        5671 2023-10-25 15:33:05\n",
       "4514      6013176.0        5671 2023-10-25 15:32:05\n",
       "10224     6013176.0        5671 2023-10-25 15:31:04\n",
       "1998      6013176.0        5671 2023-10-25 15:30:05\n",
       "12832     6013176.0        5671 2023-10-25 15:29:05\n",
       "8165      6010069.0        5670 2023-10-25 15:28:05\n",
       "6009      6010069.0        5670 2023-10-25 15:27:05\n",
       "6520      6010069.0        5670 2023-10-25 15:26:05\n",
       "10814     6009659.0        5670 2023-10-25 15:25:04\n",
       "2910      6009659.0        5670 2023-10-25 15:24:04\n",
       "13002     6009570.0        5670 2023-10-25 15:23:04\n",
       "13042     6009570.0        5670 2023-10-25 15:22:04\n",
       "4234      6009570.0        5670 2023-10-25 15:21:04\n",
       "66        6009570.0        5670 2023-10-25 15:20:05\n",
       "13038     6009432.0        5670 2023-10-25 15:19:04\n",
       "1266      6009143.0        5670 2023-10-25 15:18:04\n",
       "13099     6008711.0        5669 2023-10-25 15:17:03\n",
       "10621     6007816.0        5668 2023-10-25 15:16:04\n",
       "12509     6007816.0        5668 2023-10-25 15:15:04"
      ]
     },
     "execution_count": 5,
     "metadata": {},
     "output_type": "execute_result"
    }
   ],
   "source": [
    "df_last_day.head(20)"
   ]
  },
  {
   "cell_type": "code",
   "execution_count": 6,
   "metadata": {},
   "outputs": [
    {
     "name": "stderr",
     "output_type": "stream",
     "text": [
      "/tmp/ipykernel_6587/1427054642.py:2: SettingWithCopyWarning: \n",
      "A value is trying to be set on a copy of a slice from a DataFrame.\n",
      "Try using .loc[row_indexer,col_indexer] = value instead\n",
      "\n",
      "See the caveats in the documentation: https://pandas.pydata.org/pandas-docs/stable/user_guide/indexing.html#returning-a-view-versus-a-copy\n",
      "  df_last_day['diff_raisedAmount'] = df_last_day['raisedAmount'] - df_last_day['raisedAmount'].iloc[-1]\n",
      "/tmp/ipykernel_6587/1427054642.py:5: SettingWithCopyWarning: \n",
      "A value is trying to be set on a copy of a slice from a DataFrame.\n",
      "Try using .loc[row_indexer,col_indexer] = value instead\n",
      "\n",
      "See the caveats in the documentation: https://pandas.pydata.org/pandas-docs/stable/user_guide/indexing.html#returning-a-view-versus-a-copy\n",
      "  df_last_day['diff_supporters'] = df_last_day['supporters'] - df_last_day['supporters'].iloc[-1]\n"
     ]
    }
   ],
   "source": [
    "#create columns with diff raisedAmount and first raisedAmount\n",
    "df_last_day['diff_raisedAmount'] = df_last_day['raisedAmount'] - df_last_day['raisedAmount'].iloc[-1]\n",
    "\n",
    "#the same but for the supporters\n",
    "df_last_day['diff_supporters'] = df_last_day['supporters'] - df_last_day['supporters'].iloc[-1]"
   ]
  },
  {
   "cell_type": "code",
   "execution_count": 7,
   "metadata": {},
   "outputs": [
    {
     "data": {
      "text/plain": [
       "3654     24334.0\n",
       "4339     24334.0\n",
       "4514     24045.0\n",
       "10224    24045.0\n",
       "1998     24045.0\n",
       "          ...   \n",
       "8609         0.0\n",
       "9172         0.0\n",
       "7540         0.0\n",
       "9573         0.0\n",
       "2949         0.0\n",
       "Name: diff_raisedAmount, Length: 391, dtype: float64"
      ]
     },
     "execution_count": 7,
     "metadata": {},
     "output_type": "execute_result"
    }
   ],
   "source": [
    "df_last_day['diff_raisedAmount']"
   ]
  },
  {
   "cell_type": "code",
   "execution_count": 8,
   "metadata": {},
   "outputs": [
    {
     "data": {
      "text/plain": [
       "<Axes: xlabel='timestamp'>"
      ]
     },
     "execution_count": 8,
     "metadata": {},
     "output_type": "execute_result"
    },
    {
     "data": {
      "image/png": "[encoded data removed]",
      "text/plain": [
       "<Figure size 2000x1000 with 1 Axes>"
      ]
     },
     "metadata": {},
     "output_type": "display_data"
    },
    {
     "data": {
      "image/png": "[encoded data removed]",
      "text/plain": [
       "<Figure size 2000x1000 with 1 Axes>"
      ]
     },
     "metadata": {},
     "output_type": "display_data"
    }
   ],
   "source": [
    "df_last_day.plot(x='timestamp', y='diff_raisedAmount', kind='line', figsize=(20, 10))\n",
    "df_last_day.plot(x='timestamp', y='diff_supporters', kind='line', figsize=(20, 10))"
   ]
  },
  {
   "cell_type": "code",
   "execution_count": 9,
   "metadata": {},
   "outputs": [],
   "source": [
    "#transform column timestamp to datetime\n",
    "df['timestamp'] = pd.to_datetime(df['timestamp'])"
   ]
  },
  {
   "cell_type": "code",
   "execution_count": 10,
   "metadata": {},
   "outputs": [
    {
     "data": {
      "text/html": [
       "<div>\n",
       "<style scoped>\n",
       "    .dataframe tbody tr th:only-of-type {\n",
       "        vertical-align: middle;\n",
       "    }\n",
       "\n",
       "    .dataframe tbody tr th {\n",
       "        vertical-align: top;\n",
       "    }\n",
       "\n",
       "    .dataframe thead th {\n",
       "        text-align: right;\n",
       "    }\n",
       "</style>\n",
       "<table border=\"1\" class=\"dataframe\">\n",
       "  <thead>\n",
       "    <tr style=\"text-align: right;\">\n",
       "      <th></th>\n",
       "      <th>raisedAmount</th>\n",
       "      <th>supporters</th>\n",
       "      <th>timestamp</th>\n",
       "    </tr>\n",
       "  </thead>\n",
       "  <tbody>\n",
       "    <tr>\n",
       "      <th>8567</th>\n",
       "      <td>5450447.0</td>\n",
       "      <td>5105</td>\n",
       "      <td>2023-10-10 23:11:04</td>\n",
       "    </tr>\n",
       "    <tr>\n",
       "      <th>3705</th>\n",
       "      <td>5449962.0</td>\n",
       "      <td>5104</td>\n",
       "      <td>2023-10-10 23:10:04</td>\n",
       "    </tr>\n",
       "    <tr>\n",
       "      <th>3039</th>\n",
       "      <td>5449962.0</td>\n",
       "      <td>5104</td>\n",
       "      <td>2023-10-10 23:09:04</td>\n",
       "    </tr>\n",
       "    <tr>\n",
       "      <th>1620</th>\n",
       "      <td>5449962.0</td>\n",
       "      <td>5104</td>\n",
       "      <td>2023-10-10 23:08:04</td>\n",
       "    </tr>\n",
       "    <tr>\n",
       "      <th>9349</th>\n",
       "      <td>5449962.0</td>\n",
       "      <td>5104</td>\n",
       "      <td>2023-10-10 23:07:03</td>\n",
       "    </tr>\n",
       "    <tr>\n",
       "      <th>...</th>\n",
       "      <td>...</td>\n",
       "      <td>...</td>\n",
       "      <td>...</td>\n",
       "    </tr>\n",
       "    <tr>\n",
       "      <th>442</th>\n",
       "      <td>5140189.0</td>\n",
       "      <td>5022</td>\n",
       "      <td>2023-10-10 00:04:03</td>\n",
       "    </tr>\n",
       "    <tr>\n",
       "      <th>9871</th>\n",
       "      <td>5140189.0</td>\n",
       "      <td>5022</td>\n",
       "      <td>2023-10-10 00:03:04</td>\n",
       "    </tr>\n",
       "    <tr>\n",
       "      <th>3095</th>\n",
       "      <td>5140189.0</td>\n",
       "      <td>5022</td>\n",
       "      <td>2023-10-10 00:02:04</td>\n",
       "    </tr>\n",
       "    <tr>\n",
       "      <th>11201</th>\n",
       "      <td>5140189.0</td>\n",
       "      <td>5022</td>\n",
       "      <td>2023-10-10 00:01:03</td>\n",
       "    </tr>\n",
       "    <tr>\n",
       "      <th>4249</th>\n",
       "      <td>5140189.0</td>\n",
       "      <td>5022</td>\n",
       "      <td>2023-10-10 00:00:04</td>\n",
       "    </tr>\n",
       "  </tbody>\n",
       "</table>\n",
       "<p>1392 rows × 3 columns</p>\n",
       "</div>"
      ],
      "text/plain": [
       "       raisedAmount  supporters           timestamp\n",
       "8567      5450447.0        5105 2023-10-10 23:11:04\n",
       "3705      5449962.0        5104 2023-10-10 23:10:04\n",
       "3039      5449962.0        5104 2023-10-10 23:09:04\n",
       "1620      5449962.0        5104 2023-10-10 23:08:04\n",
       "9349      5449962.0        5104 2023-10-10 23:07:03\n",
       "...             ...         ...                 ...\n",
       "442       5140189.0        5022 2023-10-10 00:04:03\n",
       "9871      5140189.0        5022 2023-10-10 00:03:04\n",
       "3095      5140189.0        5022 2023-10-10 00:02:04\n",
       "11201     5140189.0        5022 2023-10-10 00:01:03\n",
       "4249      5140189.0        5022 2023-10-10 00:00:04\n",
       "\n",
       "[1392 rows x 3 columns]"
      ]
     },
     "execution_count": 10,
     "metadata": {},
     "output_type": "execute_result"
    }
   ],
   "source": [
    "#  select data from date 10/10/2023\n",
    "df_2023 = df[df['timestamp'].dt.date == pd.to_datetime('2023-10-10').date()]\n",
    "df_2023"
   ]
  },
  {
   "cell_type": "code",
   "execution_count": 11,
   "metadata": {},
   "outputs": [
    {
     "name": "stderr",
     "output_type": "stream",
     "text": [
      "/tmp/ipykernel_6587/2370981286.py:2: SettingWithCopyWarning: \n",
      "A value is trying to be set on a copy of a slice from a DataFrame.\n",
      "Try using .loc[row_indexer,col_indexer] = value instead\n",
      "\n",
      "See the caveats in the documentation: https://pandas.pydata.org/pandas-docs/stable/user_guide/indexing.html#returning-a-view-versus-a-copy\n",
      "  df_2023['diff_raisedAmount'] = df_2023['raisedAmount'].iloc[-1] - df_2023['raisedAmount']\n",
      "/tmp/ipykernel_6587/2370981286.py:5: SettingWithCopyWarning: \n",
      "A value is trying to be set on a copy of a slice from a DataFrame.\n",
      "Try using .loc[row_indexer,col_indexer] = value instead\n",
      "\n",
      "See the caveats in the documentation: https://pandas.pydata.org/pandas-docs/stable/user_guide/indexing.html#returning-a-view-versus-a-copy\n",
      "  df_2023['diff_supporters'] = df_2023['supporters'].iloc[-1] - df_2023['supporters']\n"
     ]
    }
   ],
   "source": [
    "#create columns with diff raisedAmount and first raisedAmount\n",
    "df_2023['diff_raisedAmount'] = df_2023['raisedAmount'].iloc[-1] - df_2023['raisedAmount']\n",
    "\n",
    "#the same but for the supporters\n",
    "df_2023['diff_supporters'] = df_2023['supporters'].iloc[-1] - df_2023['supporters'] "
   ]
  },
  {
   "cell_type": "code",
   "execution_count": 12,
   "metadata": {},
   "outputs": [
    {
     "data": {
      "text/plain": [
       "0.0"
      ]
     },
     "execution_count": 12,
     "metadata": {},
     "output_type": "execute_result"
    }
   ],
   "source": [
    "df_2023['raisedAmount'].iloc[0] - df_2023['raisedAmount'].iloc[0]"
   ]
  },
  {
   "cell_type": "code",
   "execution_count": 13,
   "metadata": {},
   "outputs": [
    {
     "data": {
      "text/plain": [
       "485.0"
      ]
     },
     "execution_count": 13,
     "metadata": {},
     "output_type": "execute_result"
    }
   ],
   "source": [
    "df_2023['raisedAmount'].iloc[0] - df_2023['raisedAmount'].iloc[1]"
   ]
  },
  {
   "cell_type": "code",
   "execution_count": 14,
   "metadata": {},
   "outputs": [
    {
     "data": {
      "text/plain": [
       "0"
      ]
     },
     "execution_count": 14,
     "metadata": {},
     "output_type": "execute_result"
    }
   ],
   "source": [
    "df_2023['supporters'].iloc[0] - df_2023['supporters'].iloc[0]"
   ]
  },
  {
   "cell_type": "code",
   "execution_count": 15,
   "metadata": {},
   "outputs": [
    {
     "data": {
      "text/plain": [
       "-1"
      ]
     },
     "execution_count": 15,
     "metadata": {},
     "output_type": "execute_result"
    }
   ],
   "source": [
    "df_2023['supporters'].iloc[1] - df_2023['supporters'].iloc[0]"
   ]
  },
  {
   "cell_type": "code",
   "execution_count": 16,
   "metadata": {},
   "outputs": [
    {
     "data": {
      "text/plain": [
       "<Axes: xlabel='timestamp'>"
      ]
     },
     "execution_count": 16,
     "metadata": {},
     "output_type": "execute_result"
    },
    {
     "data": {
      "image/png": "[encoded data removed]",
      "text/plain": [
       "<Figure size 2000x1000 with 1 Axes>"
      ]
     },
     "metadata": {},
     "output_type": "display_data"
    },
    {
     "data": {
      "image/png": "[encoded data removed]",
      "text/plain": [
       "<Figure size 2000x1000 with 1 Axes>"
      ]
     },
     "metadata": {},
     "output_type": "display_data"
    }
   ],
   "source": [
    "df_2023.plot(x='timestamp', y='diff_raisedAmount', kind='line', figsize=(20, 10))\n",
    "df_2023.plot(x='timestamp', y='diff_supporters', kind='line', figsize=(20, 10))"
   ]
  },
  {
   "cell_type": "code",
   "execution_count": null,
   "metadata": {},
   "outputs": [],
   "source": []
  }
 ],
 "metadata": {
  "kernelspec": {
   "display_name": ".venv",
   "language": "python",
   "name": "python3"
  },
  "language_info": {
   "codemirror_mode": {
    "name": "ipython",
    "version": 3
   },
   "file_extension": ".py",
   "mimetype": "text/x-python",
   "name": "python",
   "nbconvert_exporter": "python",
   "pygments_lexer": "ipython3",
   "version": "3.9.18"
  }
 },
 "nbformat": 4,
 "nbformat_minor": 2
}
