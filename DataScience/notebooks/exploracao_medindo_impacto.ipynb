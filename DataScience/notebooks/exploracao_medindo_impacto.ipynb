{
 "cells": [
  {
   "cell_type": "code",
   "execution_count": 17,
   "metadata": {},
   "outputs": [],
   "source": [
    "import os\n",
    "import json\n",
    "\n",
    "# Create an empty list to store the dictionaries\n",
    "json_data_list = []\n",
    "\n",
    "# Directory where your JSON files are located\n",
    "json_files_directory = '../../DataEng/datalake/bronze'\n",
    "\n",
    "# Loop through each JSON file in the directory\n",
    "for filename in os.listdir(json_files_directory):\n",
    "    if filename.startswith('data_') and filename.endswith('.json'):\n",
    "        # Construct the full path to the JSON file\n",
    "        file_path = os.path.join(json_files_directory, filename)\n",
    "\n",
    "        # Open and read the JSON file\n",
    "        with open(file_path, 'r') as json_file:\n",
    "            # Load the JSON data into a dictionary\n",
    "            json_data = json.load(json_file)\n",
    "\n",
    "            # Create a new dictionary to hold both the file name and JSON data\n",
    "            json_with_filename = {\n",
    "                'filename': filename,  # Save the file name\n",
    "                'data': json_data     # Save the JSON data\n",
    "            }\n",
    "\n",
    "            # Append the dictionary to the list\n",
    "            json_data_list.append(json_with_filename)\n",
    "\n",
    "# Now, json_data_list contains a list of dictionaries, where each dictionary has a 'filename' key\n",
    "# with the name of the JSON file and a 'data' key with the JSON data from that file for files starting with 'data_'.\n",
    "\n",
    "\n",
    "import pandas as pd\n",
    "\n",
    "\n",
    "# Create a DataFrame\n",
    "df = pd.DataFrame(json_data_list)\n",
    "\n",
    "# If you want to flatten the 'data' dictionary into separate columns:\n",
    "df = pd.concat([df.drop(['data'], axis=1), df['data'].apply(pd.Series)], axis=1)\n",
    "\n",
    "# Now, df contains your data in a Pandas DataFrame format\n",
    "df\n",
    "\n",
    "# Extract and transform the 'filename' column into a timestamp column\n",
    "df['timestamp'] = pd.to_datetime(df['filename'].str.extract(r'data_(\\d{14})\\.json')[0], format='%Y%m%d%H%M%S')\n",
    "\n",
    "# Drop the 'filename' column if no longer needed\n",
    "df = df.drop('filename', axis=1)\n",
    "\n",
    "# Now, df contains a 'timestamp' column extracted from the 'filename'\n",
    "df.head()\n",
    "\n",
    "#save df to csv on the silver layer name ghanor\n",
    "df.drop(columns=['targetAmount', 'targetDate']).to_csv('../../DataEng/datalake/silver/ghanor.csv', index=False)"
   ]
  },
  {
   "cell_type": "code",
   "execution_count": 18,
   "metadata": {},
   "outputs": [
    {
     "data": {
      "text/html": [
       "<div>\n",
       "<style scoped>\n",
       "    .dataframe tbody tr th:only-of-type {\n",
       "        vertical-align: middle;\n",
       "    }\n",
       "\n",
       "    .dataframe tbody tr th {\n",
       "        vertical-align: top;\n",
       "    }\n",
       "\n",
       "    .dataframe thead th {\n",
       "        text-align: right;\n",
       "    }\n",
       "</style>\n",
       "<table border=\"1\" class=\"dataframe\">\n",
       "  <thead>\n",
       "    <tr style=\"text-align: right;\">\n",
       "      <th></th>\n",
       "      <th>raisedAmount</th>\n",
       "      <th>supporters</th>\n",
       "      <th>timestamp</th>\n",
       "    </tr>\n",
       "  </thead>\n",
       "  <tbody>\n",
       "    <tr>\n",
       "      <th>0</th>\n",
       "      <td>5148832.0</td>\n",
       "      <td>5032</td>\n",
       "      <td>2023-10-10 08:24:03</td>\n",
       "    </tr>\n",
       "    <tr>\n",
       "      <th>1</th>\n",
       "      <td>4731772.0</td>\n",
       "      <td>4495</td>\n",
       "      <td>2023-10-08 21:07:04</td>\n",
       "    </tr>\n",
       "    <tr>\n",
       "      <th>2</th>\n",
       "      <td>4847103.0</td>\n",
       "      <td>4650</td>\n",
       "      <td>2023-10-08 22:24:04</td>\n",
       "    </tr>\n",
       "    <tr>\n",
       "      <th>3</th>\n",
       "      <td>5617834.0</td>\n",
       "      <td>5263</td>\n",
       "      <td>2023-10-13 18:28:04</td>\n",
       "    </tr>\n",
       "    <tr>\n",
       "      <th>4</th>\n",
       "      <td>5138702.0</td>\n",
       "      <td>5020</td>\n",
       "      <td>2023-10-09 23:19:04</td>\n",
       "    </tr>\n",
       "  </tbody>\n",
       "</table>\n",
       "</div>"
      ],
      "text/plain": [
       "   raisedAmount  supporters            timestamp\n",
       "0     5148832.0        5032  2023-10-10 08:24:03\n",
       "1     4731772.0        4495  2023-10-08 21:07:04\n",
       "2     4847103.0        4650  2023-10-08 22:24:04\n",
       "3     5617834.0        5263  2023-10-13 18:28:04\n",
       "4     5138702.0        5020  2023-10-09 23:19:04"
      ]
     },
     "execution_count": 18,
     "metadata": {},
     "output_type": "execute_result"
    }
   ],
   "source": [
    "#read ghanor file on ../../DataEng/datalake/silver/ghanor.csv\n",
    "import pandas as pd\n",
    "\n",
    "df = pd.read_csv('../../DataEng/datalake/silver/ghanor.csv', sep=',')\n",
    "df.head()"
   ]
  },
  {
   "cell_type": "code",
   "execution_count": 19,
   "metadata": {},
   "outputs": [
    {
     "data": {
      "text/html": [
       "<div>\n",
       "<style scoped>\n",
       "    .dataframe tbody tr th:only-of-type {\n",
       "        vertical-align: middle;\n",
       "    }\n",
       "\n",
       "    .dataframe tbody tr th {\n",
       "        vertical-align: top;\n",
       "    }\n",
       "\n",
       "    .dataframe thead th {\n",
       "        text-align: right;\n",
       "    }\n",
       "</style>\n",
       "<table border=\"1\" class=\"dataframe\">\n",
       "  <thead>\n",
       "    <tr style=\"text-align: right;\">\n",
       "      <th></th>\n",
       "      <th>raisedAmount</th>\n",
       "      <th>supporters</th>\n",
       "      <th>timestamp</th>\n",
       "    </tr>\n",
       "  </thead>\n",
       "  <tbody>\n",
       "    <tr>\n",
       "      <th>2724</th>\n",
       "      <td>5638705.0</td>\n",
       "      <td>5285</td>\n",
       "      <td>2023-10-14 13:12:04</td>\n",
       "    </tr>\n",
       "    <tr>\n",
       "      <th>2353</th>\n",
       "      <td>5638705.0</td>\n",
       "      <td>5285</td>\n",
       "      <td>2023-10-14 13:11:03</td>\n",
       "    </tr>\n",
       "    <tr>\n",
       "      <th>925</th>\n",
       "      <td>5638705.0</td>\n",
       "      <td>5285</td>\n",
       "      <td>2023-10-14 13:10:04</td>\n",
       "    </tr>\n",
       "    <tr>\n",
       "      <th>4416</th>\n",
       "      <td>5638705.0</td>\n",
       "      <td>5285</td>\n",
       "      <td>2023-10-14 13:09:05</td>\n",
       "    </tr>\n",
       "    <tr>\n",
       "      <th>4054</th>\n",
       "      <td>5638705.0</td>\n",
       "      <td>5285</td>\n",
       "      <td>2023-10-14 13:08:04</td>\n",
       "    </tr>\n",
       "    <tr>\n",
       "      <th>4745</th>\n",
       "      <td>5638705.0</td>\n",
       "      <td>5285</td>\n",
       "      <td>2023-10-14 13:07:04</td>\n",
       "    </tr>\n",
       "    <tr>\n",
       "      <th>2800</th>\n",
       "      <td>5638705.0</td>\n",
       "      <td>5285</td>\n",
       "      <td>2023-10-14 13:06:04</td>\n",
       "    </tr>\n",
       "    <tr>\n",
       "      <th>60</th>\n",
       "      <td>5638705.0</td>\n",
       "      <td>5285</td>\n",
       "      <td>2023-10-14 13:05:04</td>\n",
       "    </tr>\n",
       "    <tr>\n",
       "      <th>3323</th>\n",
       "      <td>5638705.0</td>\n",
       "      <td>5285</td>\n",
       "      <td>2023-10-14 13:04:05</td>\n",
       "    </tr>\n",
       "    <tr>\n",
       "      <th>2444</th>\n",
       "      <td>5638416.0</td>\n",
       "      <td>5285</td>\n",
       "      <td>2023-10-14 13:03:04</td>\n",
       "    </tr>\n",
       "  </tbody>\n",
       "</table>\n",
       "</div>"
      ],
      "text/plain": [
       "      raisedAmount  supporters           timestamp\n",
       "2724     5638705.0        5285 2023-10-14 13:12:04\n",
       "2353     5638705.0        5285 2023-10-14 13:11:03\n",
       "925      5638705.0        5285 2023-10-14 13:10:04\n",
       "4416     5638705.0        5285 2023-10-14 13:09:05\n",
       "4054     5638705.0        5285 2023-10-14 13:08:04\n",
       "4745     5638705.0        5285 2023-10-14 13:07:04\n",
       "2800     5638705.0        5285 2023-10-14 13:06:04\n",
       "60       5638705.0        5285 2023-10-14 13:05:04\n",
       "3323     5638705.0        5285 2023-10-14 13:04:05\n",
       "2444     5638416.0        5285 2023-10-14 13:03:04"
      ]
     },
     "execution_count": 19,
     "metadata": {},
     "output_type": "execute_result"
    }
   ],
   "source": [
    "df['timestamp'] = pd.to_datetime(df['timestamp'])\n",
    "\n",
    "#order by timestamp\n",
    "df = df.sort_values(by=['timestamp'], ascending=False)\n",
    "df.head(10)"
   ]
  },
  {
   "cell_type": "code",
   "execution_count": 20,
   "metadata": {},
   "outputs": [
    {
     "data": {
      "text/html": [
       "<div>\n",
       "<style scoped>\n",
       "    .dataframe tbody tr th:only-of-type {\n",
       "        vertical-align: middle;\n",
       "    }\n",
       "\n",
       "    .dataframe tbody tr th {\n",
       "        vertical-align: top;\n",
       "    }\n",
       "\n",
       "    .dataframe thead th {\n",
       "        text-align: right;\n",
       "    }\n",
       "</style>\n",
       "<table border=\"1\" class=\"dataframe\">\n",
       "  <thead>\n",
       "    <tr style=\"text-align: right;\">\n",
       "      <th></th>\n",
       "      <th>raisedAmount</th>\n",
       "      <th>supporters</th>\n",
       "      <th>timestamp</th>\n",
       "    </tr>\n",
       "  </thead>\n",
       "  <tbody>\n",
       "    <tr>\n",
       "      <th>2724</th>\n",
       "      <td>5638705.0</td>\n",
       "      <td>5285</td>\n",
       "      <td>2023-10-14 13:12:04</td>\n",
       "    </tr>\n",
       "    <tr>\n",
       "      <th>2353</th>\n",
       "      <td>5638705.0</td>\n",
       "      <td>5285</td>\n",
       "      <td>2023-10-14 13:11:03</td>\n",
       "    </tr>\n",
       "    <tr>\n",
       "      <th>925</th>\n",
       "      <td>5638705.0</td>\n",
       "      <td>5285</td>\n",
       "      <td>2023-10-14 13:10:04</td>\n",
       "    </tr>\n",
       "    <tr>\n",
       "      <th>4416</th>\n",
       "      <td>5638705.0</td>\n",
       "      <td>5285</td>\n",
       "      <td>2023-10-14 13:09:05</td>\n",
       "    </tr>\n",
       "    <tr>\n",
       "      <th>4054</th>\n",
       "      <td>5638705.0</td>\n",
       "      <td>5285</td>\n",
       "      <td>2023-10-14 13:08:04</td>\n",
       "    </tr>\n",
       "    <tr>\n",
       "      <th>...</th>\n",
       "      <td>...</td>\n",
       "      <td>...</td>\n",
       "      <td>...</td>\n",
       "    </tr>\n",
       "    <tr>\n",
       "      <th>2055</th>\n",
       "      <td>5632306.0</td>\n",
       "      <td>5279</td>\n",
       "      <td>2023-10-14 10:31:04</td>\n",
       "    </tr>\n",
       "    <tr>\n",
       "      <th>530</th>\n",
       "      <td>5632306.0</td>\n",
       "      <td>5279</td>\n",
       "      <td>2023-10-14 10:30:04</td>\n",
       "    </tr>\n",
       "    <tr>\n",
       "      <th>1214</th>\n",
       "      <td>5631987.0</td>\n",
       "      <td>5279</td>\n",
       "      <td>2023-10-14 10:29:03</td>\n",
       "    </tr>\n",
       "    <tr>\n",
       "      <th>1513</th>\n",
       "      <td>5631987.0</td>\n",
       "      <td>5279</td>\n",
       "      <td>2023-10-14 10:28:04</td>\n",
       "    </tr>\n",
       "    <tr>\n",
       "      <th>2504</th>\n",
       "      <td>5631987.0</td>\n",
       "      <td>5279</td>\n",
       "      <td>2023-10-14 10:27:40</td>\n",
       "    </tr>\n",
       "  </tbody>\n",
       "</table>\n",
       "<p>166 rows × 3 columns</p>\n",
       "</div>"
      ],
      "text/plain": [
       "      raisedAmount  supporters           timestamp\n",
       "2724     5638705.0        5285 2023-10-14 13:12:04\n",
       "2353     5638705.0        5285 2023-10-14 13:11:03\n",
       "925      5638705.0        5285 2023-10-14 13:10:04\n",
       "4416     5638705.0        5285 2023-10-14 13:09:05\n",
       "4054     5638705.0        5285 2023-10-14 13:08:04\n",
       "...            ...         ...                 ...\n",
       "2055     5632306.0        5279 2023-10-14 10:31:04\n",
       "530      5632306.0        5279 2023-10-14 10:30:04\n",
       "1214     5631987.0        5279 2023-10-14 10:29:03\n",
       "1513     5631987.0        5279 2023-10-14 10:28:04\n",
       "2504     5631987.0        5279 2023-10-14 10:27:40\n",
       "\n",
       "[166 rows x 3 columns]"
      ]
     },
     "execution_count": 20,
     "metadata": {},
     "output_type": "execute_result"
    }
   ],
   "source": [
    "# analyze the data only from the last day column timestamp\n",
    "\n",
    "\n",
    "#transform column timestamp to datetime\n",
    "df['timestamp'] = pd.to_datetime(df['timestamp'])\n",
    "last_day = df['timestamp'].max().date()\n",
    "\n",
    "last_day\n",
    "\n",
    "#group data from last day\n",
    "\n",
    "df_last_day = df[df['timestamp'].dt.date == last_day]\n",
    "df_last_day"
   ]
  },
  {
   "cell_type": "code",
   "execution_count": 21,
   "metadata": {},
   "outputs": [
    {
     "data": {
      "text/html": [
       "<div>\n",
       "<style scoped>\n",
       "    .dataframe tbody tr th:only-of-type {\n",
       "        vertical-align: middle;\n",
       "    }\n",
       "\n",
       "    .dataframe tbody tr th {\n",
       "        vertical-align: top;\n",
       "    }\n",
       "\n",
       "    .dataframe thead th {\n",
       "        text-align: right;\n",
       "    }\n",
       "</style>\n",
       "<table border=\"1\" class=\"dataframe\">\n",
       "  <thead>\n",
       "    <tr style=\"text-align: right;\">\n",
       "      <th></th>\n",
       "      <th>raisedAmount</th>\n",
       "      <th>supporters</th>\n",
       "      <th>timestamp</th>\n",
       "    </tr>\n",
       "  </thead>\n",
       "  <tbody>\n",
       "    <tr>\n",
       "      <th>2724</th>\n",
       "      <td>5638705.0</td>\n",
       "      <td>5285</td>\n",
       "      <td>2023-10-14 13:12:04</td>\n",
       "    </tr>\n",
       "    <tr>\n",
       "      <th>2353</th>\n",
       "      <td>5638705.0</td>\n",
       "      <td>5285</td>\n",
       "      <td>2023-10-14 13:11:03</td>\n",
       "    </tr>\n",
       "    <tr>\n",
       "      <th>925</th>\n",
       "      <td>5638705.0</td>\n",
       "      <td>5285</td>\n",
       "      <td>2023-10-14 13:10:04</td>\n",
       "    </tr>\n",
       "    <tr>\n",
       "      <th>4416</th>\n",
       "      <td>5638705.0</td>\n",
       "      <td>5285</td>\n",
       "      <td>2023-10-14 13:09:05</td>\n",
       "    </tr>\n",
       "    <tr>\n",
       "      <th>4054</th>\n",
       "      <td>5638705.0</td>\n",
       "      <td>5285</td>\n",
       "      <td>2023-10-14 13:08:04</td>\n",
       "    </tr>\n",
       "    <tr>\n",
       "      <th>4745</th>\n",
       "      <td>5638705.0</td>\n",
       "      <td>5285</td>\n",
       "      <td>2023-10-14 13:07:04</td>\n",
       "    </tr>\n",
       "    <tr>\n",
       "      <th>2800</th>\n",
       "      <td>5638705.0</td>\n",
       "      <td>5285</td>\n",
       "      <td>2023-10-14 13:06:04</td>\n",
       "    </tr>\n",
       "    <tr>\n",
       "      <th>60</th>\n",
       "      <td>5638705.0</td>\n",
       "      <td>5285</td>\n",
       "      <td>2023-10-14 13:05:04</td>\n",
       "    </tr>\n",
       "    <tr>\n",
       "      <th>3323</th>\n",
       "      <td>5638705.0</td>\n",
       "      <td>5285</td>\n",
       "      <td>2023-10-14 13:04:05</td>\n",
       "    </tr>\n",
       "    <tr>\n",
       "      <th>2444</th>\n",
       "      <td>5638416.0</td>\n",
       "      <td>5285</td>\n",
       "      <td>2023-10-14 13:03:04</td>\n",
       "    </tr>\n",
       "    <tr>\n",
       "      <th>2780</th>\n",
       "      <td>5638416.0</td>\n",
       "      <td>5285</td>\n",
       "      <td>2023-10-14 13:02:04</td>\n",
       "    </tr>\n",
       "    <tr>\n",
       "      <th>908</th>\n",
       "      <td>5638416.0</td>\n",
       "      <td>5285</td>\n",
       "      <td>2023-10-14 13:01:04</td>\n",
       "    </tr>\n",
       "    <tr>\n",
       "      <th>4646</th>\n",
       "      <td>5638416.0</td>\n",
       "      <td>5285</td>\n",
       "      <td>2023-10-14 13:00:05</td>\n",
       "    </tr>\n",
       "    <tr>\n",
       "      <th>2641</th>\n",
       "      <td>5638416.0</td>\n",
       "      <td>5285</td>\n",
       "      <td>2023-10-14 12:59:04</td>\n",
       "    </tr>\n",
       "    <tr>\n",
       "      <th>4981</th>\n",
       "      <td>5638006.0</td>\n",
       "      <td>5285</td>\n",
       "      <td>2023-10-14 12:58:04</td>\n",
       "    </tr>\n",
       "    <tr>\n",
       "      <th>3380</th>\n",
       "      <td>5638006.0</td>\n",
       "      <td>5285</td>\n",
       "      <td>2023-10-14 12:57:04</td>\n",
       "    </tr>\n",
       "    <tr>\n",
       "      <th>4365</th>\n",
       "      <td>5638006.0</td>\n",
       "      <td>5285</td>\n",
       "      <td>2023-10-14 12:56:04</td>\n",
       "    </tr>\n",
       "    <tr>\n",
       "      <th>4567</th>\n",
       "      <td>5636001.0</td>\n",
       "      <td>5284</td>\n",
       "      <td>2023-10-14 12:55:04</td>\n",
       "    </tr>\n",
       "    <tr>\n",
       "      <th>106</th>\n",
       "      <td>5636001.0</td>\n",
       "      <td>5284</td>\n",
       "      <td>2023-10-14 12:54:04</td>\n",
       "    </tr>\n",
       "    <tr>\n",
       "      <th>1387</th>\n",
       "      <td>5636001.0</td>\n",
       "      <td>5284</td>\n",
       "      <td>2023-10-14 12:53:03</td>\n",
       "    </tr>\n",
       "  </tbody>\n",
       "</table>\n",
       "</div>"
      ],
      "text/plain": [
       "      raisedAmount  supporters           timestamp\n",
       "2724     5638705.0        5285 2023-10-14 13:12:04\n",
       "2353     5638705.0        5285 2023-10-14 13:11:03\n",
       "925      5638705.0        5285 2023-10-14 13:10:04\n",
       "4416     5638705.0        5285 2023-10-14 13:09:05\n",
       "4054     5638705.0        5285 2023-10-14 13:08:04\n",
       "4745     5638705.0        5285 2023-10-14 13:07:04\n",
       "2800     5638705.0        5285 2023-10-14 13:06:04\n",
       "60       5638705.0        5285 2023-10-14 13:05:04\n",
       "3323     5638705.0        5285 2023-10-14 13:04:05\n",
       "2444     5638416.0        5285 2023-10-14 13:03:04\n",
       "2780     5638416.0        5285 2023-10-14 13:02:04\n",
       "908      5638416.0        5285 2023-10-14 13:01:04\n",
       "4646     5638416.0        5285 2023-10-14 13:00:05\n",
       "2641     5638416.0        5285 2023-10-14 12:59:04\n",
       "4981     5638006.0        5285 2023-10-14 12:58:04\n",
       "3380     5638006.0        5285 2023-10-14 12:57:04\n",
       "4365     5638006.0        5285 2023-10-14 12:56:04\n",
       "4567     5636001.0        5284 2023-10-14 12:55:04\n",
       "106      5636001.0        5284 2023-10-14 12:54:04\n",
       "1387     5636001.0        5284 2023-10-14 12:53:03"
      ]
     },
     "execution_count": 21,
     "metadata": {},
     "output_type": "execute_result"
    }
   ],
   "source": [
    "df_last_day.head(20)"
   ]
  },
  {
   "cell_type": "code",
   "execution_count": 22,
   "metadata": {},
   "outputs": [
    {
     "name": "stderr",
     "output_type": "stream",
     "text": [
      "/tmp/ipykernel_1896/1427054642.py:2: SettingWithCopyWarning: \n",
      "A value is trying to be set on a copy of a slice from a DataFrame.\n",
      "Try using .loc[row_indexer,col_indexer] = value instead\n",
      "\n",
      "See the caveats in the documentation: https://pandas.pydata.org/pandas-docs/stable/user_guide/indexing.html#returning-a-view-versus-a-copy\n",
      "  df_last_day['diff_raisedAmount'] = df_last_day['raisedAmount'] - df_last_day['raisedAmount'].iloc[-1]\n",
      "/tmp/ipykernel_1896/1427054642.py:5: SettingWithCopyWarning: \n",
      "A value is trying to be set on a copy of a slice from a DataFrame.\n",
      "Try using .loc[row_indexer,col_indexer] = value instead\n",
      "\n",
      "See the caveats in the documentation: https://pandas.pydata.org/pandas-docs/stable/user_guide/indexing.html#returning-a-view-versus-a-copy\n",
      "  df_last_day['diff_supporters'] = df_last_day['supporters'] - df_last_day['supporters'].iloc[-1]\n"
     ]
    }
   ],
   "source": [
    "#create columns with diff raisedAmount and first raisedAmount\n",
    "df_last_day['diff_raisedAmount'] = df_last_day['raisedAmount'] - df_last_day['raisedAmount'].iloc[-1]\n",
    "\n",
    "#the same but for the supporters\n",
    "df_last_day['diff_supporters'] = df_last_day['supporters'] - df_last_day['supporters'].iloc[-1]"
   ]
  },
  {
   "cell_type": "code",
   "execution_count": 23,
   "metadata": {},
   "outputs": [
    {
     "data": {
      "text/plain": [
       "2724    6718.0\n",
       "2353    6718.0\n",
       "925     6718.0\n",
       "4416    6718.0\n",
       "4054    6718.0\n",
       "         ...  \n",
       "2055     319.0\n",
       "530      319.0\n",
       "1214       0.0\n",
       "1513       0.0\n",
       "2504       0.0\n",
       "Name: diff_raisedAmount, Length: 166, dtype: float64"
      ]
     },
     "execution_count": 23,
     "metadata": {},
     "output_type": "execute_result"
    }
   ],
   "source": [
    "df_last_day['diff_raisedAmount']"
   ]
  },
  {
   "cell_type": "code",
   "execution_count": 24,
   "metadata": {},
   "outputs": [
    {
     "data": {
      "text/plain": [
       "<Axes: xlabel='timestamp'>"
      ]
     },
     "execution_count": 24,
     "metadata": {},
     "output_type": "execute_result"
    },
    {
     "data": {
      "image/png": "[encoded data removed]",
      "text/plain": [
       "<Figure size 2000x1000 with 1 Axes>"
      ]
     },
     "metadata": {},
     "output_type": "display_data"
    },
    {
     "data": {
      "image/png": "[encoded data removed]",
      "text/plain": [
       "<Figure size 2000x1000 with 1 Axes>"
      ]
     },
     "metadata": {},
     "output_type": "display_data"
    }
   ],
   "source": [
    "df_last_day.plot(x='timestamp', y='diff_raisedAmount', kind='line', figsize=(20, 10))\n",
    "df_last_day.plot(x='timestamp', y='diff_supporters', kind='line', figsize=(20, 10))"
   ]
  },
  {
   "cell_type": "code",
   "execution_count": 25,
   "metadata": {},
   "outputs": [],
   "source": [
    "#transform column timestamp to datetime\n",
    "df['timestamp'] = pd.to_datetime(df['timestamp'])"
   ]
  },
  {
   "cell_type": "code",
   "execution_count": 26,
   "metadata": {},
   "outputs": [
    {
     "data": {
      "text/html": [
       "<div>\n",
       "<style scoped>\n",
       "    .dataframe tbody tr th:only-of-type {\n",
       "        vertical-align: middle;\n",
       "    }\n",
       "\n",
       "    .dataframe tbody tr th {\n",
       "        vertical-align: top;\n",
       "    }\n",
       "\n",
       "    .dataframe thead th {\n",
       "        text-align: right;\n",
       "    }\n",
       "</style>\n",
       "<table border=\"1\" class=\"dataframe\">\n",
       "  <thead>\n",
       "    <tr style=\"text-align: right;\">\n",
       "      <th></th>\n",
       "      <th>raisedAmount</th>\n",
       "      <th>supporters</th>\n",
       "      <th>timestamp</th>\n",
       "    </tr>\n",
       "  </thead>\n",
       "  <tbody>\n",
       "    <tr>\n",
       "      <th>3210</th>\n",
       "      <td>5450447.0</td>\n",
       "      <td>5105</td>\n",
       "      <td>2023-10-10 23:11:04</td>\n",
       "    </tr>\n",
       "    <tr>\n",
       "      <th>1393</th>\n",
       "      <td>5449962.0</td>\n",
       "      <td>5104</td>\n",
       "      <td>2023-10-10 23:10:04</td>\n",
       "    </tr>\n",
       "    <tr>\n",
       "      <th>1154</th>\n",
       "      <td>5449962.0</td>\n",
       "      <td>5104</td>\n",
       "      <td>2023-10-10 23:09:04</td>\n",
       "    </tr>\n",
       "    <tr>\n",
       "      <th>598</th>\n",
       "      <td>5449962.0</td>\n",
       "      <td>5104</td>\n",
       "      <td>2023-10-10 23:08:04</td>\n",
       "    </tr>\n",
       "    <tr>\n",
       "      <th>3491</th>\n",
       "      <td>5449962.0</td>\n",
       "      <td>5104</td>\n",
       "      <td>2023-10-10 23:07:03</td>\n",
       "    </tr>\n",
       "    <tr>\n",
       "      <th>...</th>\n",
       "      <td>...</td>\n",
       "      <td>...</td>\n",
       "      <td>...</td>\n",
       "    </tr>\n",
       "    <tr>\n",
       "      <th>164</th>\n",
       "      <td>5140189.0</td>\n",
       "      <td>5022</td>\n",
       "      <td>2023-10-10 00:04:03</td>\n",
       "    </tr>\n",
       "    <tr>\n",
       "      <th>3703</th>\n",
       "      <td>5140189.0</td>\n",
       "      <td>5022</td>\n",
       "      <td>2023-10-10 00:03:04</td>\n",
       "    </tr>\n",
       "    <tr>\n",
       "      <th>1168</th>\n",
       "      <td>5140189.0</td>\n",
       "      <td>5022</td>\n",
       "      <td>2023-10-10 00:02:04</td>\n",
       "    </tr>\n",
       "    <tr>\n",
       "      <th>4219</th>\n",
       "      <td>5140189.0</td>\n",
       "      <td>5022</td>\n",
       "      <td>2023-10-10 00:01:03</td>\n",
       "    </tr>\n",
       "    <tr>\n",
       "      <th>1599</th>\n",
       "      <td>5140189.0</td>\n",
       "      <td>5022</td>\n",
       "      <td>2023-10-10 00:00:04</td>\n",
       "    </tr>\n",
       "  </tbody>\n",
       "</table>\n",
       "<p>1392 rows × 3 columns</p>\n",
       "</div>"
      ],
      "text/plain": [
       "      raisedAmount  supporters           timestamp\n",
       "3210     5450447.0        5105 2023-10-10 23:11:04\n",
       "1393     5449962.0        5104 2023-10-10 23:10:04\n",
       "1154     5449962.0        5104 2023-10-10 23:09:04\n",
       "598      5449962.0        5104 2023-10-10 23:08:04\n",
       "3491     5449962.0        5104 2023-10-10 23:07:03\n",
       "...            ...         ...                 ...\n",
       "164      5140189.0        5022 2023-10-10 00:04:03\n",
       "3703     5140189.0        5022 2023-10-10 00:03:04\n",
       "1168     5140189.0        5022 2023-10-10 00:02:04\n",
       "4219     5140189.0        5022 2023-10-10 00:01:03\n",
       "1599     5140189.0        5022 2023-10-10 00:00:04\n",
       "\n",
       "[1392 rows x 3 columns]"
      ]
     },
     "execution_count": 26,
     "metadata": {},
     "output_type": "execute_result"
    }
   ],
   "source": [
    "#  select data from date 10/10/2023\n",
    "df_2023 = df[df['timestamp'].dt.date == pd.to_datetime('2023-10-10').date()]\n",
    "df_2023"
   ]
  },
  {
   "cell_type": "code",
   "execution_count": 27,
   "metadata": {},
   "outputs": [
    {
     "name": "stderr",
     "output_type": "stream",
     "text": [
      "/tmp/ipykernel_1896/2370981286.py:2: SettingWithCopyWarning: \n",
      "A value is trying to be set on a copy of a slice from a DataFrame.\n",
      "Try using .loc[row_indexer,col_indexer] = value instead\n",
      "\n",
      "See the caveats in the documentation: https://pandas.pydata.org/pandas-docs/stable/user_guide/indexing.html#returning-a-view-versus-a-copy\n",
      "  df_2023['diff_raisedAmount'] = df_2023['raisedAmount'].iloc[-1] - df_2023['raisedAmount']\n",
      "/tmp/ipykernel_1896/2370981286.py:5: SettingWithCopyWarning: \n",
      "A value is trying to be set on a copy of a slice from a DataFrame.\n",
      "Try using .loc[row_indexer,col_indexer] = value instead\n",
      "\n",
      "See the caveats in the documentation: https://pandas.pydata.org/pandas-docs/stable/user_guide/indexing.html#returning-a-view-versus-a-copy\n",
      "  df_2023['diff_supporters'] = df_2023['supporters'].iloc[-1] - df_2023['supporters']\n"
     ]
    }
   ],
   "source": [
    "#create columns with diff raisedAmount and first raisedAmount\n",
    "df_2023['diff_raisedAmount'] = df_2023['raisedAmount'].iloc[-1] - df_2023['raisedAmount']\n",
    "\n",
    "#the same but for the supporters\n",
    "df_2023['diff_supporters'] = df_2023['supporters'].iloc[-1] - df_2023['supporters'] "
   ]
  },
  {
   "cell_type": "code",
   "execution_count": 28,
   "metadata": {},
   "outputs": [
    {
     "data": {
      "text/plain": [
       "0.0"
      ]
     },
     "execution_count": 28,
     "metadata": {},
     "output_type": "execute_result"
    }
   ],
   "source": [
    "df_2023['raisedAmount'].iloc[0] - df_2023['raisedAmount'].iloc[0]"
   ]
  },
  {
   "cell_type": "code",
   "execution_count": 29,
   "metadata": {},
   "outputs": [
    {
     "data": {
      "text/plain": [
       "485.0"
      ]
     },
     "execution_count": 29,
     "metadata": {},
     "output_type": "execute_result"
    }
   ],
   "source": [
    "df_2023['raisedAmount'].iloc[0] - df_2023['raisedAmount'].iloc[1]"
   ]
  },
  {
   "cell_type": "code",
   "execution_count": 30,
   "metadata": {},
   "outputs": [
    {
     "data": {
      "text/plain": [
       "0"
      ]
     },
     "execution_count": 30,
     "metadata": {},
     "output_type": "execute_result"
    }
   ],
   "source": [
    "df_2023['supporters'].iloc[0] - df_2023['supporters'].iloc[0]"
   ]
  },
  {
   "cell_type": "code",
   "execution_count": 31,
   "metadata": {},
   "outputs": [
    {
     "data": {
      "text/plain": [
       "-1"
      ]
     },
     "execution_count": 31,
     "metadata": {},
     "output_type": "execute_result"
    }
   ],
   "source": [
    "df_2023['supporters'].iloc[1] - df_2023['supporters'].iloc[0]"
   ]
  },
  {
   "cell_type": "code",
   "execution_count": 32,
   "metadata": {},
   "outputs": [
    {
     "data": {
      "text/plain": [
       "<Axes: xlabel='timestamp'>"
      ]
     },
     "execution_count": 32,
     "metadata": {},
     "output_type": "execute_result"
    },
    {
     "data": {
      "image/png": "[encoded data removed]",
      "text/plain": [
       "<Figure size 2000x1000 with 1 Axes>"
      ]
     },
     "metadata": {},
     "output_type": "display_data"
    },
    {
     "data": {
      "image/png": "[encoded data removed]",
      "text/plain": [
       "<Figure size 2000x1000 with 1 Axes>"
      ]
     },
     "metadata": {},
     "output_type": "display_data"
    }
   ],
   "source": [
    "df_2023.plot(x='timestamp', y='diff_raisedAmount', kind='line', figsize=(20, 10))\n",
    "df_2023.plot(x='timestamp', y='diff_supporters', kind='line', figsize=(20, 10))"
   ]
  },
  {
   "cell_type": "code",
   "execution_count": null,
   "metadata": {},
   "outputs": [],
   "source": []
  }
 ],
 "metadata": {
  "kernelspec": {
   "display_name": ".venv",
   "language": "python",
   "name": "python3"
  },
  "language_info": {
   "codemirror_mode": {
    "name": "ipython",
    "version": 3
   },
   "file_extension": ".py",
   "mimetype": "text/x-python",
   "name": "python",
   "nbconvert_exporter": "python",
   "pygments_lexer": "ipython3",
   "version": "3.9.18"
  }
 },
 "nbformat": 4,
 "nbformat_minor": 2
}
