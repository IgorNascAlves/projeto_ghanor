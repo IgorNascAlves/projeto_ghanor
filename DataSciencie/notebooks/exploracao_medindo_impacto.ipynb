{
 "cells": [
  {
   "cell_type": "code",
   "execution_count": 12,
   "metadata": {},
   "outputs": [
    {
     "data": {
      "text/html": [
       "<div>\n",
       "<style scoped>\n",
       "    .dataframe tbody tr th:only-of-type {\n",
       "        vertical-align: middle;\n",
       "    }\n",
       "\n",
       "    .dataframe tbody tr th {\n",
       "        vertical-align: top;\n",
       "    }\n",
       "\n",
       "    .dataframe thead th {\n",
       "        text-align: right;\n",
       "    }\n",
       "</style>\n",
       "<table border=\"1\" class=\"dataframe\">\n",
       "  <thead>\n",
       "    <tr style=\"text-align: right;\">\n",
       "      <th></th>\n",
       "      <th>raisedAmount</th>\n",
       "      <th>supporters</th>\n",
       "      <th>timestamp</th>\n",
       "    </tr>\n",
       "  </thead>\n",
       "  <tbody>\n",
       "    <tr>\n",
       "      <th>0</th>\n",
       "      <td>4731772.0</td>\n",
       "      <td>4495</td>\n",
       "      <td>2023-10-08 21:07:04</td>\n",
       "    </tr>\n",
       "    <tr>\n",
       "      <th>1</th>\n",
       "      <td>4847103.0</td>\n",
       "      <td>4650</td>\n",
       "      <td>2023-10-08 22:24:04</td>\n",
       "    </tr>\n",
       "    <tr>\n",
       "      <th>2</th>\n",
       "      <td>4830483.0</td>\n",
       "      <td>4630</td>\n",
       "      <td>2023-10-08 22:19:03</td>\n",
       "    </tr>\n",
       "    <tr>\n",
       "      <th>3</th>\n",
       "      <td>4724127.0</td>\n",
       "      <td>4484</td>\n",
       "      <td>2023-10-08 20:56:04</td>\n",
       "    </tr>\n",
       "    <tr>\n",
       "      <th>4</th>\n",
       "      <td>3687262.0</td>\n",
       "      <td>3336</td>\n",
       "      <td>2023-10-07 18:03:04</td>\n",
       "    </tr>\n",
       "  </tbody>\n",
       "</table>\n",
       "</div>"
      ],
      "text/plain": [
       "   raisedAmount  supporters            timestamp\n",
       "0     4731772.0        4495  2023-10-08 21:07:04\n",
       "1     4847103.0        4650  2023-10-08 22:24:04\n",
       "2     4830483.0        4630  2023-10-08 22:19:03\n",
       "3     4724127.0        4484  2023-10-08 20:56:04\n",
       "4     3687262.0        3336  2023-10-07 18:03:04"
      ]
     },
     "execution_count": 12,
     "metadata": {},
     "output_type": "execute_result"
    }
   ],
   "source": [
    "#read ghanor file on ../../DataEng/datalake/silver/ghanor.csv\n",
    "import pandas as pd\n",
    "\n",
    "df = pd.read_csv('../../DataEng/datalake/silver/ghanor.csv', sep=',')\n",
    "df.head()"
   ]
  },
  {
   "cell_type": "code",
   "execution_count": 13,
   "metadata": {},
   "outputs": [
    {
     "data": {
      "text/html": [
       "<div>\n",
       "<style scoped>\n",
       "    .dataframe tbody tr th:only-of-type {\n",
       "        vertical-align: middle;\n",
       "    }\n",
       "\n",
       "    .dataframe tbody tr th {\n",
       "        vertical-align: top;\n",
       "    }\n",
       "\n",
       "    .dataframe thead th {\n",
       "        text-align: right;\n",
       "    }\n",
       "</style>\n",
       "<table border=\"1\" class=\"dataframe\">\n",
       "  <thead>\n",
       "    <tr style=\"text-align: right;\">\n",
       "      <th></th>\n",
       "      <th>raisedAmount</th>\n",
       "      <th>supporters</th>\n",
       "      <th>timestamp</th>\n",
       "    </tr>\n",
       "  </thead>\n",
       "  <tbody>\n",
       "    <tr>\n",
       "      <th>12</th>\n",
       "      <td>5066113.0</td>\n",
       "      <td>4920</td>\n",
       "      <td>2023-10-09 09:11:06</td>\n",
       "    </tr>\n",
       "    <tr>\n",
       "      <th>15</th>\n",
       "      <td>5072500.0</td>\n",
       "      <td>4930</td>\n",
       "      <td>2023-10-09 10:25:05</td>\n",
       "    </tr>\n",
       "    <tr>\n",
       "      <th>16</th>\n",
       "      <td>5046627.0</td>\n",
       "      <td>4887</td>\n",
       "      <td>2023-10-09 00:22:03</td>\n",
       "    </tr>\n",
       "    <tr>\n",
       "      <th>17</th>\n",
       "      <td>5108944.0</td>\n",
       "      <td>4988</td>\n",
       "      <td>2023-10-09 17:08:05</td>\n",
       "    </tr>\n",
       "    <tr>\n",
       "      <th>21</th>\n",
       "      <td>5054102.0</td>\n",
       "      <td>4902</td>\n",
       "      <td>2023-10-09 06:23:04</td>\n",
       "    </tr>\n",
       "  </tbody>\n",
       "</table>\n",
       "</div>"
      ],
      "text/plain": [
       "    raisedAmount  supporters           timestamp\n",
       "12     5066113.0        4920 2023-10-09 09:11:06\n",
       "15     5072500.0        4930 2023-10-09 10:25:05\n",
       "16     5046627.0        4887 2023-10-09 00:22:03\n",
       "17     5108944.0        4988 2023-10-09 17:08:05\n",
       "21     5054102.0        4902 2023-10-09 06:23:04"
      ]
     },
     "execution_count": 13,
     "metadata": {},
     "output_type": "execute_result"
    }
   ],
   "source": [
    "# analyze the data only from the last day column timestamp\n",
    "\n",
    "\n",
    "#transform column timestamp to datetime\n",
    "df['timestamp'] = pd.to_datetime(df['timestamp'])\n",
    "last_day = df['timestamp'].max().date()\n",
    "\n",
    "last_day\n",
    "\n",
    "#group data from last day\n",
    "\n",
    "df_last_day = df[df['timestamp'].dt.date == last_day]\n",
    "df_last_day.head()"
   ]
  },
  {
   "cell_type": "code",
   "execution_count": null,
   "metadata": {},
   "outputs": [],
   "source": []
  }
 ],
 "metadata": {
  "kernelspec": {
   "display_name": ".venv",
   "language": "python",
   "name": "python3"
  },
  "language_info": {
   "codemirror_mode": {
    "name": "ipython",
    "version": 3
   },
   "file_extension": ".py",
   "mimetype": "text/x-python",
   "name": "python",
   "nbconvert_exporter": "python",
   "pygments_lexer": "ipython3",
   "version": "3.9.18"
  }
 },
 "nbformat": 4,
 "nbformat_minor": 2
}
